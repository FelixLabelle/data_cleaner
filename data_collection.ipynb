{
 "cells": [
  {
   "cell_type": "code",
   "execution_count": 1,
   "metadata": {},
   "outputs": [
    {
     "ename": "ModuleNotFoundError",
     "evalue": "No module named 'eventregistry'",
     "output_type": "error",
     "traceback": [
      "\u001b[0;31m---------------------------------------------------------------------------\u001b[0m",
      "\u001b[0;31mModuleNotFoundError\u001b[0m                       Traceback (most recent call last)",
      "\u001b[0;32m<ipython-input-1-9438f9992f47>\u001b[0m in \u001b[0;36m<module>\u001b[0;34m\u001b[0m\n\u001b[0;32m----> 1\u001b[0;31m \u001b[0;32mfrom\u001b[0m \u001b[0meventregistry\u001b[0m \u001b[0;32mimport\u001b[0m \u001b[0;34m*\u001b[0m\u001b[0;34m\u001b[0m\u001b[0;34m\u001b[0m\u001b[0m\n\u001b[0m\u001b[1;32m      2\u001b[0m \u001b[0;32mfrom\u001b[0m \u001b[0mcollections\u001b[0m \u001b[0;32mimport\u001b[0m \u001b[0mdefaultdict\u001b[0m\u001b[0;34m\u001b[0m\u001b[0;34m\u001b[0m\u001b[0m\n\u001b[1;32m      3\u001b[0m \u001b[0;32mfrom\u001b[0m \u001b[0mcollections\u001b[0m \u001b[0;32mimport\u001b[0m \u001b[0mCounter\u001b[0m\u001b[0;34m\u001b[0m\u001b[0;34m\u001b[0m\u001b[0m\n\u001b[1;32m      4\u001b[0m \u001b[0;32mimport\u001b[0m \u001b[0mjson\u001b[0m\u001b[0;34m\u001b[0m\u001b[0;34m\u001b[0m\u001b[0m\n\u001b[1;32m      5\u001b[0m \u001b[0;32mfrom\u001b[0m \u001b[0mtqdm\u001b[0m \u001b[0;32mimport\u001b[0m \u001b[0mtqdm\u001b[0m\u001b[0;34m\u001b[0m\u001b[0;34m\u001b[0m\u001b[0m\n",
      "\u001b[0;31mModuleNotFoundError\u001b[0m: No module named 'eventregistry'"
     ]
    }
   ],
   "source": [
    "from eventregistry import *\n",
    "from collections import defaultdict\n",
    "from collections import Counter \n",
    "import json\n",
    "from tqdm import tqdm\n",
    "import unidecode"
   ]
  },
  {
   "cell_type": "code",
   "execution_count": 2,
   "metadata": {},
   "outputs": [],
   "source": [
    "# API_KEY = '830dbc9b-6086-4657-8185-da9becdcdf3d'\n",
    "API_KEY = '3d0ea6ef-97b8-4eb7-8315-c817bf1a1688' # PAID subscription"
   ]
  },
  {
   "cell_type": "code",
   "execution_count": 16,
   "metadata": {},
   "outputs": [
    {
     "name": "stdout",
     "output_type": "stream",
     "text": [
      "using user provided API key for making requests\n",
      "Event Registry host: http://eventregistry.org\n",
      "Text analytics host: http://analytics.eventregistry.org\n"
     ]
    }
   ],
   "source": [
    "er = EventRegistry(apiKey = API_KEY)"
   ]
  },
  {
   "cell_type": "code",
   "execution_count": 3,
   "metadata": {},
   "outputs": [],
   "source": [
    "locations = ['Venezuela', 'France', 'Hong Kong', 'Iran']\n",
    "sources = {\n",
    "    'us': ['nytimes.com', 'cnn.com', 'voanews.com', 'foxnews.com'], \n",
    "    'china': ['globaltimes.cn', 'scmp.com', 'hongkongfp.com', 'chinadaily.com.cn'], # china news ecns.cn, shine.cn\n",
    "    'france': ['france24.com', 'afp.com'],\n",
    "    'iran': ['iran-daily.com', 'tehrantimes.com', 'ifpnews.com'],\n",
    "    'venezuela': ['entornointeligente.com', 'laht.com'],\n",
    "    'russia': ['sputniknews.com', 'rt.com', 'themoscowtimes.com', 'meduza.io'], # therussophile.org has 2.3M articles\n",
    "    'qatar': ['aljazeera.com']\n",
    "}\n",
    "dates = {\n",
    "    'Venezuela': {'date_start': '2019-01-01', 'date_end': '2019-11-30'},\n",
    "    'France': {'date_start': '2018-11-01', 'date_end': '2019-03-31'},\n",
    "    'Hong Kong': {'date_start': '2019-06-01', 'date_end': '2019-12-31'},\n",
    "    'Iran': {'date_start': '2019-11-01', 'date_end': '2020-02-29'}\n",
    "}\n",
    "date_start = '2018-11-01'\n",
    "date_end = '2020-02-29'\n",
    "protest_key_words = [\n",
    "    'protest', 'protesters', 'protester',\n",
    "    'demonstration', 'demonstrations', 'demonstrators', 'demonstrator'\n",
    "    'clash', 'clashes',\n",
    "    'riot', 'riots',\n",
    "    'barricades', 'barricade',\n",
    "    'tear gas',\n",
    "    'unrest', 'unrests',\n",
    "    'revolt',\n",
    "    'upheaval',\n",
    "    'uproar',\n",
    "    'manifestation', 'manifestations'\n",
    "]\n",
    "# Country, major cities, political figures (president...), specific names, adjectives (ex: 'french')\n",
    "# protest_specific_key_words = {\n",
    "#     'Venezuela': ['venezuela', 'south america', 'latin america'],\n",
    "#     'France': ['france', 'paris', 'marseilles', 'lyon', '', 'yellow', 'vests', 'yellow vests', 'macron'],\n",
    "#     'Hong Kong': ['hong kong', 'china'],\n",
    "#     'Iran':['iran', 'tehran']\n",
    "# }\n",
    "protest_specific_key_words = {\n",
    "'Venezuela':['maduro', 'guaido', 'venezuela', 'caracas', 'venezuelan', 'juan', 'venezuelans', 'nicolas', 'lopez', 'chavez', 'cabello', 'leopoldo', 'diosdado', 'hyperinflation', 'latin', 'shortages', 'cucuta', 'hugo', 'padrino'],\n",
    "'France':['paris', 'macron', 'yellow', 'french', 'france', 'champs', 'elysees', 'vest', 'vests', 'arc', 'triomphe', 'emmanuel', 'avenue', 'christophe', 'castaner', 'jackets', 'philippe', 'elysee', 'marseille', 'michel', 'edouard', 'lyon'],\n",
    "'Hong Kong':['hong', 'kong', 'china', 'lam', 'chinese', 'extradition', 'beijing', 'mainland', 'carrie', 'wong', 'long', 'yuen', 'cheung', 'chan', 'communist', 'xi', 'kowloon', 'xinjiang', 'kongers', 'chinese'],\n",
    "'Iran':['iran', 'iranian', 'tehran', 'soleimani', 'khamenei', 'irgc', 'ali', 'ayatollah', 'fadavi', 'drone', 'iranians', 'irbil', 'erbil', 'rouhani', 'mousavi', 'khuzestan', 'persian', 'zarif']\n",
    "}"
   ]
  },
  {
   "cell_type": "code",
   "execution_count": 18,
   "metadata": {
    "scrolled": true
   },
   "outputs": [
    {
     "data": {
      "text/plain": [
       "{'nytimes.com': 8221,\n",
       " 'cnn.com': 2818,\n",
       " 'voanews.com': 2511,\n",
       " 'foxnews.com': 5012,\n",
       " 'globaltimes.cn': 350,\n",
       " 'scmp.com': 5568,\n",
       " 'hongkongfp.com': 1013,\n",
       " 'france24.com': 4412,\n",
       " 'afp.com': 5578,\n",
       " 'iran-daily.com': 1996,\n",
       " 'tehrantimes.com': 650,\n",
       " 'ifpnews.com': 281,\n",
       " 'entornointeligente.com': 2095,\n",
       " 'laht.com': 2244,\n",
       " 'sputniknews.com': 5085,\n",
       " 'rt.com': 2298,\n",
       " 'themoscowtimes.com': 371,\n",
       " 'novayagazeta.ru': 0,\n",
       " 'meduza.io': 0,\n",
       " 'aljazeera.com': 4117,\n",
       " 'chinadaily.com.cn': 0}"
      ]
     },
     "execution_count": 18,
     "metadata": {},
     "output_type": "execute_result"
    }
   ],
   "source": [
    "stats_dict = {'nytimes.com': 8221,\n",
    " 'cnn.com': 2818,\n",
    " 'voanews.com': 2511,\n",
    " 'foxnews.com': 5012,\n",
    " 'globaltimes.cn': 350,\n",
    " 'scmp.com': 5568,\n",
    " 'hongkongfp.com': 1013,\n",
    " 'france24.com': 4412,\n",
    " 'afp.com': 5578,\n",
    " 'iran-daily.com': 1996,\n",
    " 'tehrantimes.com': 650,\n",
    " 'ifpnews.com': 281,\n",
    " 'entornointeligente.com': 2095,\n",
    " 'laht.com': 2244,\n",
    " 'sputniknews.com': 5085,\n",
    " 'rt.com': 2298,\n",
    " 'themoscowtimes.com': 371,\n",
    " 'novayagazeta.ru':0,\n",
    " 'meduza.io':0,\n",
    " 'aljazeera.com': 4117,\n",
    " 'chinadaily.com.cn':0}\n",
    "stats_dict"
   ]
  },
  {
   "cell_type": "code",
   "execution_count": 19,
   "metadata": {},
   "outputs": [
    {
     "name": "stdout",
     "output_type": "stream",
     "text": [
      "chinadaily.com.cn 2018-11-01 2020-02-29 expected results: 0\n"
     ]
    },
    {
     "name": "stderr",
     "output_type": "stream",
     "text": [
      "3652it [00:42, 86.02it/s] \n"
     ]
    }
   ],
   "source": [
    "def query_articles_iter(er, source, start, end):\n",
    "    print('{} {} {} expected results: {}'.format(source, start, end, stats_dict[source]))\n",
    "    q = QueryArticlesIter(keywords=QueryItems.OR(protest_key_words),\n",
    "            dateStart=start,\n",
    "            dateEnd=end,\n",
    "            sourceUri=er.getSourceUri(source),\n",
    "            lang=[\"eng\"])\n",
    "    query_articles = []\n",
    "    for article in tqdm(q.execQuery(er, sortBy = \"rel\", maxItems = 10000)):\n",
    "        query_articles.append(article)\n",
    "    return query_articles\n",
    "\n",
    "# QUERY ARTICLES\n",
    "# articles = defaultdict(dict)\n",
    "# for source_origin in sources:\n",
    "#     for source in sources[source_origin]:\n",
    "#         if source not in ['nytimes.com', 'cnn.com', 'voanews.com', 'foxnews.com', 'globaltimes.cn']:\n",
    "#             articles[source] = query_articles_iter(er, source, date_start, date_end)\n",
    "#         # Checkpoint after each query.\n",
    "#         with open('data_collection/articles_{}.json'.format(source), 'w') as article_file:\n",
    "#             article_file.write(json.dumps(articles[source]))\n",
    "articles = defaultdict(dict)\n",
    "for source in  ['chinadaily.com.cn']:\n",
    "    articles[source] = query_articles_iter(er, source, date_start, date_end)\n",
    "    # Checkpoint after each query.\n",
    "    with open('data_collection/articles_{}.json'.format(source), 'w') as article_file:\n",
    "        article_file.write(json.dumps(articles[source]))"
   ]
  },
  {
   "cell_type": "code",
   "execution_count": 7,
   "metadata": {},
   "outputs": [],
   "source": [
    "import json\n",
    "with open('articles (copy).json') as article_file:\n",
    "    articles = (json.loads(article_file.read()))"
   ]
  },
  {
   "cell_type": "code",
   "execution_count": 8,
   "metadata": {},
   "outputs": [
    {
     "data": {
      "text/plain": [
       "dict_keys(['nytimes.com', 'cnn.com', 'voanews.com', 'foxnews.com', 'globaltimes.cn'])"
      ]
     },
     "execution_count": 8,
     "metadata": {},
     "output_type": "execute_result"
    }
   ],
   "source": [
    "articles.keys()"
   ]
  },
  {
   "cell_type": "code",
   "execution_count": 9,
   "metadata": {},
   "outputs": [],
   "source": [
    "for source in articles:\n",
    "    with open('data_collection/articles_{}.json'.format(source), 'w') as article_file:\n",
    "        article_file.write(json.dumps(articles[source]))"
   ]
  },
  {
   "cell_type": "code",
   "execution_count": 22,
   "metadata": {},
   "outputs": [
    {
     "name": "stdout",
     "output_type": "stream",
     "text": [
      "chinadaily.com.cn duplicates 17 new count 3635 no useful protest 995\n"
     ]
    }
   ],
   "source": [
    "def preprocess_text(text, split=False):\n",
    "    # lowercase\n",
    "    text = text.lower()\n",
    "    # remove accents\n",
    "    text = unidecode.unidecode(text)\n",
    "    if split:\n",
    "        text = text.split()\n",
    "    return text\n",
    "\n",
    "def get_article_protest_counts(text, key_words_dict):\n",
    "    # Input should be cleaned from accents and lowercased.\n",
    "    word_counter = Counter(preprocess_text(text, split=True))\n",
    "    kw_counter = Counter()\n",
    "    protest_kw_counter = Counter()\n",
    "    for protest in key_words_dict:\n",
    "        for kw in key_words_dict[protest]:\n",
    "            kw_count = word_counter[kw]\n",
    "            kw_counter[kw] += kw_count\n",
    "            protest_kw_counter[protest] += kw_count\n",
    "    return kw_counter, protest_kw_counter\n",
    "\n",
    "def get_protest_label(protest_kw_counter):\n",
    "    key, value = protest_kw_counter.most_common(1)[0]\n",
    "    if value > 2:\n",
    "        return key\n",
    "    else:\n",
    "        return None\n",
    "    \n",
    "def remove_duplicates(articles):\n",
    "    # Keeps most recent.\n",
    "    articles_sorted = sorted(articles, key=lambda x: x['date']+'-'+x['time'], reverse=True)\n",
    "    article_bodies_so_far = set()\n",
    "    duplicate_count = 0\n",
    "    for article in articles_sorted:\n",
    "        processed_text = preprocess_text(article['body'])\n",
    "        if processed_text in article_bodies_so_far:\n",
    "            articles.remove(article)\n",
    "            duplicate_count += 1\n",
    "        article_bodies_so_far.add(processed_text)\n",
    "    return articles, duplicate_count\n",
    "                       \n",
    "def filter_dates_protest(result, protest_kw_counter):\n",
    "    for protest in protest_kw_counter:\n",
    "        if result['date'] < dates[protest]['date_start'] or result['date'] > dates[protest]['date_end']:\n",
    "            del protest_kw_counter['protest']\n",
    "    return protest_kw_counter\n",
    "\n",
    "articles_by_protest = defaultdict(dict)\n",
    "for source_origin in ['']:#sources:\n",
    "    for source in ['chinadaily.com.cn']:#sources[source_origin]:\n",
    "        with open('data_collection/articles_{}.json'.format(source)) as in_file:\n",
    "            results = json.loads(in_file.read())\n",
    "            results, duplicates = remove_duplicates(results)\n",
    "            nones = 0\n",
    "            for i in range(len(results)):\n",
    "                kw_counter, protest_kw_counter = get_article_protest_counts(results[i]['body'], \n",
    "                                                                            protest_specific_key_words)\n",
    "                protest_kw_counter = filter_dates_protest(results[i], protest_kw_counter)\n",
    "                results[i]['kw_counter'] = kw_counter\n",
    "                results[i]['protest_kw_counter'] = protest_kw_counter\n",
    "                label =  get_protest_label(protest_kw_counter)\n",
    "                results[i]['protest'] = label\n",
    "                if label == None:\n",
    "                    nones += 1\n",
    "            print('{} duplicates {} new count {} no useful protest {}'.format(source, duplicates, len(results), nones))\n",
    "        with open('data_collection_clean/articles_{}.json'.format(source), 'w') as out_file:\n",
    "            out_file.write(json.dumps(results))            "
   ]
  },
  {
   "cell_type": "code",
   "execution_count": 26,
   "metadata": {},
   "outputs": [],
   "source": [
    "article_list = []\n",
    "protest_counter = Counter()\n",
    "protest_counter_by_source = defaultdict(Counter)\n",
    "for source_origin in sources:\n",
    "    for source in sources[source_origin]:\n",
    "        with open('data_collection_clean/articles_{}.json'.format(source)) as in_file:\n",
    "            articles = json.loads(in_file.read())\n",
    "            for article in articles:\n",
    "                if article['protest'] is not None:\n",
    "                    article_list.append(article)\n",
    "                    protest_counter[article['protest']] += 1\n",
    "                    protest_counter_by_source[source][article['protest']] += 1"
   ]
  },
  {
   "cell_type": "code",
   "execution_count": 27,
   "metadata": {},
   "outputs": [
    {
     "data": {
      "text/plain": [
       "Counter({'Hong Kong': 14822, 'France': 3577, 'Iran': 2907, 'Venezuela': 1967})"
      ]
     },
     "execution_count": 27,
     "metadata": {},
     "output_type": "execute_result"
    }
   ],
   "source": [
    "protest_counter"
   ]
  },
  {
   "cell_type": "code",
   "execution_count": 28,
   "metadata": {
    "scrolled": true
   },
   "outputs": [
    {
     "data": {
      "text/plain": [
       "defaultdict(collections.Counter,\n",
       "            {'nytimes.com': Counter({'Hong Kong': 1823,\n",
       "                      'France': 417,\n",
       "                      'Iran': 264,\n",
       "                      'Venezuela': 248}),\n",
       "             'cnn.com': Counter({'Hong Kong': 603,\n",
       "                      'Iran': 103,\n",
       "                      'France': 62,\n",
       "                      'Venezuela': 76}),\n",
       "             'voanews.com': Counter({'Hong Kong': 455,\n",
       "                      'Iran': 232,\n",
       "                      'France': 104,\n",
       "                      'Venezuela': 55}),\n",
       "             'foxnews.com': Counter({'Hong Kong': 498,\n",
       "                      'France': 186,\n",
       "                      'Iran': 230,\n",
       "                      'Venezuela': 218}),\n",
       "             'globaltimes.cn': Counter({'France': 5,\n",
       "                      'Hong Kong': 300,\n",
       "                      'Venezuela': 1,\n",
       "                      'Iran': 4}),\n",
       "             'scmp.com': Counter({'Hong Kong': 4292,\n",
       "                      'France': 99,\n",
       "                      'Iran': 55,\n",
       "                      'Venezuela': 35}),\n",
       "             'hongkongfp.com': Counter({'Hong Kong': 970, 'France': 1}),\n",
       "             'chinadaily.com.cn': Counter({'Hong Kong': 2403,\n",
       "                      'France': 166,\n",
       "                      'Iran': 44,\n",
       "                      'Venezuela': 27}),\n",
       "             'france24.com': Counter({'Hong Kong': 574,\n",
       "                      'France': 720,\n",
       "                      'Iran': 279,\n",
       "                      'Venezuela': 129}),\n",
       "             'afp.com': Counter({'Hong Kong': 777,\n",
       "                      'France': 365,\n",
       "                      'Iran': 168,\n",
       "                      'Venezuela': 198}),\n",
       "             'iran-daily.com': Counter({'Hong Kong': 177,\n",
       "                      'France': 134,\n",
       "                      'Iran': 243,\n",
       "                      'Venezuela': 47}),\n",
       "             'tehrantimes.com': Counter({'France': 36,\n",
       "                      'Venezuela': 18,\n",
       "                      'Iran': 393,\n",
       "                      'Hong Kong': 21}),\n",
       "             'ifpnews.com': Counter({'France': 9,\n",
       "                      'Iran': 202,\n",
       "                      'Hong Kong': 4,\n",
       "                      'Venezuela': 4}),\n",
       "             'entornointeligente.com': Counter({'Hong Kong': 370,\n",
       "                      'France': 86,\n",
       "                      'Iran': 73,\n",
       "                      'Venezuela': 96}),\n",
       "             'laht.com': Counter({'Hong Kong': 357,\n",
       "                      'Iran': 48,\n",
       "                      'France': 93,\n",
       "                      'Venezuela': 218}),\n",
       "             'sputniknews.com': Counter({'France': 554,\n",
       "                      'Hong Kong': 483,\n",
       "                      'Venezuela': 321,\n",
       "                      'Iran': 240}),\n",
       "             'rt.com': Counter({'France': 348,\n",
       "                      'Hong Kong': 203,\n",
       "                      'Iran': 81,\n",
       "                      'Venezuela': 131}),\n",
       "             'themoscowtimes.com': Counter({'France': 6,\n",
       "                      'Hong Kong': 5,\n",
       "                      'Iran': 1,\n",
       "                      'Venezuela': 7}),\n",
       "             'meduza.io': Counter({'Hong Kong': 32,\n",
       "                      'France': 4,\n",
       "                      'Venezuela': 2,\n",
       "                      'Iran': 2}),\n",
       "             'aljazeera.com': Counter({'Hong Kong': 475,\n",
       "                      'Iran': 245,\n",
       "                      'France': 182,\n",
       "                      'Venezuela': 136})})"
      ]
     },
     "execution_count": 28,
     "metadata": {},
     "output_type": "execute_result"
    }
   ],
   "source": [
    "protest_counter_by_source"
   ]
  },
  {
   "cell_type": "code",
   "execution_count": 29,
   "metadata": {},
   "outputs": [],
   "source": [
    "with open('articles_all.json', 'w') as out_file:\n",
    "    out_file.write(json.dumps(article_list))"
   ]
  },
  {
   "cell_type": "code",
   "execution_count": 4,
   "metadata": {},
   "outputs": [
    {
     "name": "stdout",
     "output_type": "stream",
     "text": [
      "58677\n"
     ]
    }
   ],
   "source": [
    "articles_list_all = []\n",
    "for source_origin in sources:\n",
    "    for source in sources[source_origin]:\n",
    "        with open('data_collection/articles_{}.json'.format(source)) as in_file:\n",
    "            articles_list_all += json.loads(in_file.read())\n",
    "print(len(articles_list_all))\n",
    "            "
   ]
  },
  {
   "cell_type": "code",
   "execution_count": 6,
   "metadata": {},
   "outputs": [],
   "source": [
    "with open('articles_all_no_filter.json', 'w') as out_file:\n",
    "    out_file.write(json.dumps(articles_list_all))"
   ]
  },
  {
   "cell_type": "code",
   "execution_count": 15,
   "metadata": {},
   "outputs": [],
   "source": [
    "def query_articles(er, source, start, end):\n",
    "    print('{} {} {}'.format(source, start, end))\n",
    "    q = QueryArticles(\n",
    "        keywords=QueryItems.OR(protest_key_words),\n",
    "        dateStart=start,\n",
    "        dateEnd=end,\n",
    "        sourceUri=er.getSourceUri(source),\n",
    "        lang=[\"eng\"]\n",
    "    )\n",
    "    q.setRequestedResult(RequestArticlesInfo(sortBy=\"rel\"))\n",
    "    res = er.execQuery(q)\n",
    "    return res"
   ]
  },
  {
   "cell_type": "code",
   "execution_count": 16,
   "metadata": {},
   "outputs": [
    {
     "name": "stdout",
     "output_type": "stream",
     "text": [
      "nytimes.com 2018-11-01 2020-02-29\n",
      "cnn.com 2018-11-01 2020-02-29\n"
     ]
    },
    {
     "ename": "KeyboardInterrupt",
     "evalue": "",
     "output_type": "error",
     "traceback": [
      "\u001b[0;31m---------------------------------------------------------------------------\u001b[0m",
      "\u001b[0;31mKeyboardInterrupt\u001b[0m                         Traceback (most recent call last)",
      "\u001b[0;32m<ipython-input-16-250877b15942>\u001b[0m in \u001b[0;36m<module>\u001b[0;34m\u001b[0m\n\u001b[1;32m      3\u001b[0m \u001b[0;32mfor\u001b[0m \u001b[0msource_origin\u001b[0m \u001b[0;32min\u001b[0m \u001b[0msources\u001b[0m\u001b[0;34m:\u001b[0m\u001b[0;34m\u001b[0m\u001b[0;34m\u001b[0m\u001b[0m\n\u001b[1;32m      4\u001b[0m     \u001b[0;32mfor\u001b[0m \u001b[0msource\u001b[0m \u001b[0;32min\u001b[0m \u001b[0msources\u001b[0m\u001b[0;34m[\u001b[0m\u001b[0msource_origin\u001b[0m\u001b[0;34m]\u001b[0m\u001b[0;34m:\u001b[0m\u001b[0;34m\u001b[0m\u001b[0;34m\u001b[0m\u001b[0m\n\u001b[0;32m----> 5\u001b[0;31m         \u001b[0marticles\u001b[0m\u001b[0;34m[\u001b[0m\u001b[0msource\u001b[0m\u001b[0;34m]\u001b[0m \u001b[0;34m=\u001b[0m \u001b[0mquery_articles\u001b[0m\u001b[0;34m(\u001b[0m\u001b[0mer\u001b[0m\u001b[0;34m,\u001b[0m \u001b[0msource\u001b[0m\u001b[0;34m,\u001b[0m \u001b[0mdate_start\u001b[0m\u001b[0;34m,\u001b[0m \u001b[0mdate_end\u001b[0m\u001b[0;34m)\u001b[0m\u001b[0;34m\u001b[0m\u001b[0;34m\u001b[0m\u001b[0m\n\u001b[0m\u001b[1;32m      6\u001b[0m         \u001b[0;31m# Checkpoint after each query.\u001b[0m\u001b[0;34m\u001b[0m\u001b[0;34m\u001b[0m\u001b[0;34m\u001b[0m\u001b[0m\n\u001b[1;32m      7\u001b[0m         \u001b[0;32mwith\u001b[0m \u001b[0mopen\u001b[0m\u001b[0;34m(\u001b[0m\u001b[0;34m'articles.json'\u001b[0m\u001b[0;34m,\u001b[0m \u001b[0;34m'w'\u001b[0m\u001b[0;34m)\u001b[0m \u001b[0;32mas\u001b[0m \u001b[0marticle_file\u001b[0m\u001b[0;34m:\u001b[0m\u001b[0;34m\u001b[0m\u001b[0;34m\u001b[0m\u001b[0m\n",
      "\u001b[0;32m<ipython-input-15-d5058fd247bb>\u001b[0m in \u001b[0;36mquery_articles\u001b[0;34m(er, source, start, end)\u001b[0m\n\u001b[1;32m      9\u001b[0m     )\n\u001b[1;32m     10\u001b[0m     \u001b[0mq\u001b[0m\u001b[0;34m.\u001b[0m\u001b[0msetRequestedResult\u001b[0m\u001b[0;34m(\u001b[0m\u001b[0mRequestArticlesInfo\u001b[0m\u001b[0;34m(\u001b[0m\u001b[0msortBy\u001b[0m\u001b[0;34m=\u001b[0m\u001b[0;34m\"rel\"\u001b[0m\u001b[0;34m)\u001b[0m\u001b[0;34m)\u001b[0m\u001b[0;34m\u001b[0m\u001b[0;34m\u001b[0m\u001b[0m\n\u001b[0;32m---> 11\u001b[0;31m     \u001b[0mres\u001b[0m \u001b[0;34m=\u001b[0m \u001b[0mer\u001b[0m\u001b[0;34m.\u001b[0m\u001b[0mexecQuery\u001b[0m\u001b[0;34m(\u001b[0m\u001b[0mq\u001b[0m\u001b[0;34m)\u001b[0m\u001b[0;34m\u001b[0m\u001b[0;34m\u001b[0m\u001b[0m\n\u001b[0m\u001b[1;32m     12\u001b[0m     \u001b[0;32mreturn\u001b[0m \u001b[0mres\u001b[0m\u001b[0;34m\u001b[0m\u001b[0;34m\u001b[0m\u001b[0m\n",
      "\u001b[0;32m~/anaconda3/envs/py36/lib/python3.6/site-packages/eventregistry/EventRegistry.py\u001b[0m in \u001b[0;36mexecQuery\u001b[0;34m(self, query, allowUseOfArchive)\u001b[0m\n\u001b[1;32m    221\u001b[0m         \u001b[0mallParams\u001b[0m \u001b[0;34m=\u001b[0m \u001b[0mquery\u001b[0m\u001b[0;34m.\u001b[0m\u001b[0m_getQueryParams\u001b[0m\u001b[0;34m(\u001b[0m\u001b[0;34m)\u001b[0m\u001b[0;34m\u001b[0m\u001b[0;34m\u001b[0m\u001b[0m\n\u001b[1;32m    222\u001b[0m         \u001b[0;31m# make the request\u001b[0m\u001b[0;34m\u001b[0m\u001b[0;34m\u001b[0m\u001b[0;34m\u001b[0m\u001b[0m\n\u001b[0;32m--> 223\u001b[0;31m         \u001b[0mrespInfo\u001b[0m \u001b[0;34m=\u001b[0m \u001b[0mself\u001b[0m\u001b[0;34m.\u001b[0m\u001b[0mjsonRequest\u001b[0m\u001b[0;34m(\u001b[0m\u001b[0mquery\u001b[0m\u001b[0;34m.\u001b[0m\u001b[0m_getPath\u001b[0m\u001b[0;34m(\u001b[0m\u001b[0;34m)\u001b[0m\u001b[0;34m,\u001b[0m \u001b[0mallParams\u001b[0m\u001b[0;34m,\u001b[0m \u001b[0mallowUseOfArchive\u001b[0m \u001b[0;34m=\u001b[0m \u001b[0mallowUseOfArchive\u001b[0m\u001b[0;34m)\u001b[0m\u001b[0;34m\u001b[0m\u001b[0;34m\u001b[0m\u001b[0m\n\u001b[0m\u001b[1;32m    224\u001b[0m         \u001b[0;32mreturn\u001b[0m \u001b[0mrespInfo\u001b[0m\u001b[0;34m\u001b[0m\u001b[0;34m\u001b[0m\u001b[0m\n\u001b[1;32m    225\u001b[0m \u001b[0;34m\u001b[0m\u001b[0m\n",
      "\u001b[0;32m~/anaconda3/envs/py36/lib/python3.6/site-packages/eventregistry/EventRegistry.py\u001b[0m in \u001b[0;36mjsonRequest\u001b[0;34m(self, methodUrl, paramDict, customLogFName, allowUseOfArchive)\u001b[0m\n\u001b[1;32m    274\u001b[0m \u001b[0;34m\u001b[0m\u001b[0m\n\u001b[1;32m    275\u001b[0m                 \u001b[0;31m# make the request\u001b[0m\u001b[0;34m\u001b[0m\u001b[0;34m\u001b[0m\u001b[0;34m\u001b[0m\u001b[0m\n\u001b[0;32m--> 276\u001b[0;31m                 \u001b[0mrespInfo\u001b[0m \u001b[0;34m=\u001b[0m \u001b[0mself\u001b[0m\u001b[0;34m.\u001b[0m\u001b[0m_reqSession\u001b[0m\u001b[0;34m.\u001b[0m\u001b[0mpost\u001b[0m\u001b[0;34m(\u001b[0m\u001b[0murl\u001b[0m\u001b[0;34m,\u001b[0m \u001b[0mjson\u001b[0m \u001b[0;34m=\u001b[0m \u001b[0mparamDict\u001b[0m\u001b[0;34m)\u001b[0m\u001b[0;34m\u001b[0m\u001b[0;34m\u001b[0m\u001b[0m\n\u001b[0m\u001b[1;32m    277\u001b[0m                 \u001b[0;31m# remember the returned headers\u001b[0m\u001b[0;34m\u001b[0m\u001b[0;34m\u001b[0m\u001b[0;34m\u001b[0m\u001b[0m\n\u001b[1;32m    278\u001b[0m                 \u001b[0mself\u001b[0m\u001b[0;34m.\u001b[0m\u001b[0m_headers\u001b[0m \u001b[0;34m=\u001b[0m \u001b[0mrespInfo\u001b[0m\u001b[0;34m.\u001b[0m\u001b[0mheaders\u001b[0m\u001b[0;34m\u001b[0m\u001b[0;34m\u001b[0m\u001b[0m\n",
      "\u001b[0;32m~/.local/lib/python3.6/site-packages/requests/sessions.py\u001b[0m in \u001b[0;36mpost\u001b[0;34m(self, url, data, json, **kwargs)\u001b[0m\n\u001b[1;32m    579\u001b[0m         \"\"\"\n\u001b[1;32m    580\u001b[0m \u001b[0;34m\u001b[0m\u001b[0m\n\u001b[0;32m--> 581\u001b[0;31m         \u001b[0;32mreturn\u001b[0m \u001b[0mself\u001b[0m\u001b[0;34m.\u001b[0m\u001b[0mrequest\u001b[0m\u001b[0;34m(\u001b[0m\u001b[0;34m'POST'\u001b[0m\u001b[0;34m,\u001b[0m \u001b[0murl\u001b[0m\u001b[0;34m,\u001b[0m \u001b[0mdata\u001b[0m\u001b[0;34m=\u001b[0m\u001b[0mdata\u001b[0m\u001b[0;34m,\u001b[0m \u001b[0mjson\u001b[0m\u001b[0;34m=\u001b[0m\u001b[0mjson\u001b[0m\u001b[0;34m,\u001b[0m \u001b[0;34m**\u001b[0m\u001b[0mkwargs\u001b[0m\u001b[0;34m)\u001b[0m\u001b[0;34m\u001b[0m\u001b[0;34m\u001b[0m\u001b[0m\n\u001b[0m\u001b[1;32m    582\u001b[0m \u001b[0;34m\u001b[0m\u001b[0m\n\u001b[1;32m    583\u001b[0m     \u001b[0;32mdef\u001b[0m \u001b[0mput\u001b[0m\u001b[0;34m(\u001b[0m\u001b[0mself\u001b[0m\u001b[0;34m,\u001b[0m \u001b[0murl\u001b[0m\u001b[0;34m,\u001b[0m \u001b[0mdata\u001b[0m\u001b[0;34m=\u001b[0m\u001b[0;32mNone\u001b[0m\u001b[0;34m,\u001b[0m \u001b[0;34m**\u001b[0m\u001b[0mkwargs\u001b[0m\u001b[0;34m)\u001b[0m\u001b[0;34m:\u001b[0m\u001b[0;34m\u001b[0m\u001b[0;34m\u001b[0m\u001b[0m\n",
      "\u001b[0;32m~/.local/lib/python3.6/site-packages/requests/sessions.py\u001b[0m in \u001b[0;36mrequest\u001b[0;34m(self, method, url, params, data, headers, cookies, files, auth, timeout, allow_redirects, proxies, hooks, stream, verify, cert, json)\u001b[0m\n\u001b[1;32m    531\u001b[0m         }\n\u001b[1;32m    532\u001b[0m         \u001b[0msend_kwargs\u001b[0m\u001b[0;34m.\u001b[0m\u001b[0mupdate\u001b[0m\u001b[0;34m(\u001b[0m\u001b[0msettings\u001b[0m\u001b[0;34m)\u001b[0m\u001b[0;34m\u001b[0m\u001b[0;34m\u001b[0m\u001b[0m\n\u001b[0;32m--> 533\u001b[0;31m         \u001b[0mresp\u001b[0m \u001b[0;34m=\u001b[0m \u001b[0mself\u001b[0m\u001b[0;34m.\u001b[0m\u001b[0msend\u001b[0m\u001b[0;34m(\u001b[0m\u001b[0mprep\u001b[0m\u001b[0;34m,\u001b[0m \u001b[0;34m**\u001b[0m\u001b[0msend_kwargs\u001b[0m\u001b[0;34m)\u001b[0m\u001b[0;34m\u001b[0m\u001b[0;34m\u001b[0m\u001b[0m\n\u001b[0m\u001b[1;32m    534\u001b[0m \u001b[0;34m\u001b[0m\u001b[0m\n\u001b[1;32m    535\u001b[0m         \u001b[0;32mreturn\u001b[0m \u001b[0mresp\u001b[0m\u001b[0;34m\u001b[0m\u001b[0;34m\u001b[0m\u001b[0m\n",
      "\u001b[0;32m~/.local/lib/python3.6/site-packages/requests/sessions.py\u001b[0m in \u001b[0;36msend\u001b[0;34m(self, request, **kwargs)\u001b[0m\n\u001b[1;32m    644\u001b[0m \u001b[0;34m\u001b[0m\u001b[0m\n\u001b[1;32m    645\u001b[0m         \u001b[0;31m# Send the request\u001b[0m\u001b[0;34m\u001b[0m\u001b[0;34m\u001b[0m\u001b[0;34m\u001b[0m\u001b[0m\n\u001b[0;32m--> 646\u001b[0;31m         \u001b[0mr\u001b[0m \u001b[0;34m=\u001b[0m \u001b[0madapter\u001b[0m\u001b[0;34m.\u001b[0m\u001b[0msend\u001b[0m\u001b[0;34m(\u001b[0m\u001b[0mrequest\u001b[0m\u001b[0;34m,\u001b[0m \u001b[0;34m**\u001b[0m\u001b[0mkwargs\u001b[0m\u001b[0;34m)\u001b[0m\u001b[0;34m\u001b[0m\u001b[0;34m\u001b[0m\u001b[0m\n\u001b[0m\u001b[1;32m    647\u001b[0m \u001b[0;34m\u001b[0m\u001b[0m\n\u001b[1;32m    648\u001b[0m         \u001b[0;31m# Total elapsed time of the request (approximately)\u001b[0m\u001b[0;34m\u001b[0m\u001b[0;34m\u001b[0m\u001b[0;34m\u001b[0m\u001b[0m\n",
      "\u001b[0;32m~/.local/lib/python3.6/site-packages/requests/adapters.py\u001b[0m in \u001b[0;36msend\u001b[0;34m(self, request, stream, timeout, verify, cert, proxies)\u001b[0m\n\u001b[1;32m    447\u001b[0m                     \u001b[0mdecode_content\u001b[0m\u001b[0;34m=\u001b[0m\u001b[0;32mFalse\u001b[0m\u001b[0;34m,\u001b[0m\u001b[0;34m\u001b[0m\u001b[0;34m\u001b[0m\u001b[0m\n\u001b[1;32m    448\u001b[0m                     \u001b[0mretries\u001b[0m\u001b[0;34m=\u001b[0m\u001b[0mself\u001b[0m\u001b[0;34m.\u001b[0m\u001b[0mmax_retries\u001b[0m\u001b[0;34m,\u001b[0m\u001b[0;34m\u001b[0m\u001b[0;34m\u001b[0m\u001b[0m\n\u001b[0;32m--> 449\u001b[0;31m                     \u001b[0mtimeout\u001b[0m\u001b[0;34m=\u001b[0m\u001b[0mtimeout\u001b[0m\u001b[0;34m\u001b[0m\u001b[0;34m\u001b[0m\u001b[0m\n\u001b[0m\u001b[1;32m    450\u001b[0m                 )\n\u001b[1;32m    451\u001b[0m \u001b[0;34m\u001b[0m\u001b[0m\n",
      "\u001b[0;32m~/.local/lib/python3.6/site-packages/urllib3/connectionpool.py\u001b[0m in \u001b[0;36murlopen\u001b[0;34m(self, method, url, body, headers, retries, redirect, assert_same_host, timeout, pool_timeout, release_conn, chunked, body_pos, **response_kw)\u001b[0m\n\u001b[1;32m    670\u001b[0m                 \u001b[0mbody\u001b[0m\u001b[0;34m=\u001b[0m\u001b[0mbody\u001b[0m\u001b[0;34m,\u001b[0m\u001b[0;34m\u001b[0m\u001b[0;34m\u001b[0m\u001b[0m\n\u001b[1;32m    671\u001b[0m                 \u001b[0mheaders\u001b[0m\u001b[0;34m=\u001b[0m\u001b[0mheaders\u001b[0m\u001b[0;34m,\u001b[0m\u001b[0;34m\u001b[0m\u001b[0;34m\u001b[0m\u001b[0m\n\u001b[0;32m--> 672\u001b[0;31m                 \u001b[0mchunked\u001b[0m\u001b[0;34m=\u001b[0m\u001b[0mchunked\u001b[0m\u001b[0;34m,\u001b[0m\u001b[0;34m\u001b[0m\u001b[0;34m\u001b[0m\u001b[0m\n\u001b[0m\u001b[1;32m    673\u001b[0m             )\n\u001b[1;32m    674\u001b[0m \u001b[0;34m\u001b[0m\u001b[0m\n",
      "\u001b[0;32m~/.local/lib/python3.6/site-packages/urllib3/connectionpool.py\u001b[0m in \u001b[0;36m_make_request\u001b[0;34m(self, conn, method, url, timeout, chunked, **httplib_request_kw)\u001b[0m\n\u001b[1;32m    419\u001b[0m                     \u001b[0;31m# Python 3 (including for exceptions like SystemExit).\u001b[0m\u001b[0;34m\u001b[0m\u001b[0;34m\u001b[0m\u001b[0;34m\u001b[0m\u001b[0m\n\u001b[1;32m    420\u001b[0m                     \u001b[0;31m# Otherwise it looks like a bug in the code.\u001b[0m\u001b[0;34m\u001b[0m\u001b[0;34m\u001b[0m\u001b[0;34m\u001b[0m\u001b[0m\n\u001b[0;32m--> 421\u001b[0;31m                     \u001b[0msix\u001b[0m\u001b[0;34m.\u001b[0m\u001b[0mraise_from\u001b[0m\u001b[0;34m(\u001b[0m\u001b[0me\u001b[0m\u001b[0;34m,\u001b[0m \u001b[0;32mNone\u001b[0m\u001b[0;34m)\u001b[0m\u001b[0;34m\u001b[0m\u001b[0;34m\u001b[0m\u001b[0m\n\u001b[0m\u001b[1;32m    422\u001b[0m         \u001b[0;32mexcept\u001b[0m \u001b[0;34m(\u001b[0m\u001b[0mSocketTimeout\u001b[0m\u001b[0;34m,\u001b[0m \u001b[0mBaseSSLError\u001b[0m\u001b[0;34m,\u001b[0m \u001b[0mSocketError\u001b[0m\u001b[0;34m)\u001b[0m \u001b[0;32mas\u001b[0m \u001b[0me\u001b[0m\u001b[0;34m:\u001b[0m\u001b[0;34m\u001b[0m\u001b[0;34m\u001b[0m\u001b[0m\n\u001b[1;32m    423\u001b[0m             \u001b[0mself\u001b[0m\u001b[0;34m.\u001b[0m\u001b[0m_raise_timeout\u001b[0m\u001b[0;34m(\u001b[0m\u001b[0merr\u001b[0m\u001b[0;34m=\u001b[0m\u001b[0me\u001b[0m\u001b[0;34m,\u001b[0m \u001b[0murl\u001b[0m\u001b[0;34m=\u001b[0m\u001b[0murl\u001b[0m\u001b[0;34m,\u001b[0m \u001b[0mtimeout_value\u001b[0m\u001b[0;34m=\u001b[0m\u001b[0mread_timeout\u001b[0m\u001b[0;34m)\u001b[0m\u001b[0;34m\u001b[0m\u001b[0;34m\u001b[0m\u001b[0m\n",
      "\u001b[0;32m~/.local/lib/python3.6/site-packages/urllib3/packages/six.py\u001b[0m in \u001b[0;36mraise_from\u001b[0;34m(value, from_value)\u001b[0m\n",
      "\u001b[0;32m~/.local/lib/python3.6/site-packages/urllib3/connectionpool.py\u001b[0m in \u001b[0;36m_make_request\u001b[0;34m(self, conn, method, url, timeout, chunked, **httplib_request_kw)\u001b[0m\n\u001b[1;32m    414\u001b[0m                 \u001b[0;31m# Python 3\u001b[0m\u001b[0;34m\u001b[0m\u001b[0;34m\u001b[0m\u001b[0;34m\u001b[0m\u001b[0m\n\u001b[1;32m    415\u001b[0m                 \u001b[0;32mtry\u001b[0m\u001b[0;34m:\u001b[0m\u001b[0;34m\u001b[0m\u001b[0;34m\u001b[0m\u001b[0m\n\u001b[0;32m--> 416\u001b[0;31m                     \u001b[0mhttplib_response\u001b[0m \u001b[0;34m=\u001b[0m \u001b[0mconn\u001b[0m\u001b[0;34m.\u001b[0m\u001b[0mgetresponse\u001b[0m\u001b[0;34m(\u001b[0m\u001b[0;34m)\u001b[0m\u001b[0;34m\u001b[0m\u001b[0;34m\u001b[0m\u001b[0m\n\u001b[0m\u001b[1;32m    417\u001b[0m                 \u001b[0;32mexcept\u001b[0m \u001b[0mBaseException\u001b[0m \u001b[0;32mas\u001b[0m \u001b[0me\u001b[0m\u001b[0;34m:\u001b[0m\u001b[0;34m\u001b[0m\u001b[0;34m\u001b[0m\u001b[0m\n\u001b[1;32m    418\u001b[0m                     \u001b[0;31m# Remove the TypeError from the exception chain in\u001b[0m\u001b[0;34m\u001b[0m\u001b[0;34m\u001b[0m\u001b[0;34m\u001b[0m\u001b[0m\n",
      "\u001b[0;32m~/anaconda3/envs/py36/lib/python3.6/http/client.py\u001b[0m in \u001b[0;36mgetresponse\u001b[0;34m(self)\u001b[0m\n\u001b[1;32m   1344\u001b[0m         \u001b[0;32mtry\u001b[0m\u001b[0;34m:\u001b[0m\u001b[0;34m\u001b[0m\u001b[0;34m\u001b[0m\u001b[0m\n\u001b[1;32m   1345\u001b[0m             \u001b[0;32mtry\u001b[0m\u001b[0;34m:\u001b[0m\u001b[0;34m\u001b[0m\u001b[0;34m\u001b[0m\u001b[0m\n\u001b[0;32m-> 1346\u001b[0;31m                 \u001b[0mresponse\u001b[0m\u001b[0;34m.\u001b[0m\u001b[0mbegin\u001b[0m\u001b[0;34m(\u001b[0m\u001b[0;34m)\u001b[0m\u001b[0;34m\u001b[0m\u001b[0;34m\u001b[0m\u001b[0m\n\u001b[0m\u001b[1;32m   1347\u001b[0m             \u001b[0;32mexcept\u001b[0m \u001b[0mConnectionError\u001b[0m\u001b[0;34m:\u001b[0m\u001b[0;34m\u001b[0m\u001b[0;34m\u001b[0m\u001b[0m\n\u001b[1;32m   1348\u001b[0m                 \u001b[0mself\u001b[0m\u001b[0;34m.\u001b[0m\u001b[0mclose\u001b[0m\u001b[0;34m(\u001b[0m\u001b[0;34m)\u001b[0m\u001b[0;34m\u001b[0m\u001b[0;34m\u001b[0m\u001b[0m\n",
      "\u001b[0;32m~/anaconda3/envs/py36/lib/python3.6/http/client.py\u001b[0m in \u001b[0;36mbegin\u001b[0;34m(self)\u001b[0m\n\u001b[1;32m    305\u001b[0m         \u001b[0;31m# read until we get a non-100 response\u001b[0m\u001b[0;34m\u001b[0m\u001b[0;34m\u001b[0m\u001b[0;34m\u001b[0m\u001b[0m\n\u001b[1;32m    306\u001b[0m         \u001b[0;32mwhile\u001b[0m \u001b[0;32mTrue\u001b[0m\u001b[0;34m:\u001b[0m\u001b[0;34m\u001b[0m\u001b[0;34m\u001b[0m\u001b[0m\n\u001b[0;32m--> 307\u001b[0;31m             \u001b[0mversion\u001b[0m\u001b[0;34m,\u001b[0m \u001b[0mstatus\u001b[0m\u001b[0;34m,\u001b[0m \u001b[0mreason\u001b[0m \u001b[0;34m=\u001b[0m \u001b[0mself\u001b[0m\u001b[0;34m.\u001b[0m\u001b[0m_read_status\u001b[0m\u001b[0;34m(\u001b[0m\u001b[0;34m)\u001b[0m\u001b[0;34m\u001b[0m\u001b[0;34m\u001b[0m\u001b[0m\n\u001b[0m\u001b[1;32m    308\u001b[0m             \u001b[0;32mif\u001b[0m \u001b[0mstatus\u001b[0m \u001b[0;34m!=\u001b[0m \u001b[0mCONTINUE\u001b[0m\u001b[0;34m:\u001b[0m\u001b[0;34m\u001b[0m\u001b[0;34m\u001b[0m\u001b[0m\n\u001b[1;32m    309\u001b[0m                 \u001b[0;32mbreak\u001b[0m\u001b[0;34m\u001b[0m\u001b[0;34m\u001b[0m\u001b[0m\n",
      "\u001b[0;32m~/anaconda3/envs/py36/lib/python3.6/http/client.py\u001b[0m in \u001b[0;36m_read_status\u001b[0;34m(self)\u001b[0m\n\u001b[1;32m    266\u001b[0m \u001b[0;34m\u001b[0m\u001b[0m\n\u001b[1;32m    267\u001b[0m     \u001b[0;32mdef\u001b[0m \u001b[0m_read_status\u001b[0m\u001b[0;34m(\u001b[0m\u001b[0mself\u001b[0m\u001b[0;34m)\u001b[0m\u001b[0;34m:\u001b[0m\u001b[0;34m\u001b[0m\u001b[0;34m\u001b[0m\u001b[0m\n\u001b[0;32m--> 268\u001b[0;31m         \u001b[0mline\u001b[0m \u001b[0;34m=\u001b[0m \u001b[0mstr\u001b[0m\u001b[0;34m(\u001b[0m\u001b[0mself\u001b[0m\u001b[0;34m.\u001b[0m\u001b[0mfp\u001b[0m\u001b[0;34m.\u001b[0m\u001b[0mreadline\u001b[0m\u001b[0;34m(\u001b[0m\u001b[0m_MAXLINE\u001b[0m \u001b[0;34m+\u001b[0m \u001b[0;36m1\u001b[0m\u001b[0;34m)\u001b[0m\u001b[0;34m,\u001b[0m \u001b[0;34m\"iso-8859-1\"\u001b[0m\u001b[0;34m)\u001b[0m\u001b[0;34m\u001b[0m\u001b[0;34m\u001b[0m\u001b[0m\n\u001b[0m\u001b[1;32m    269\u001b[0m         \u001b[0;32mif\u001b[0m \u001b[0mlen\u001b[0m\u001b[0;34m(\u001b[0m\u001b[0mline\u001b[0m\u001b[0;34m)\u001b[0m \u001b[0;34m>\u001b[0m \u001b[0m_MAXLINE\u001b[0m\u001b[0;34m:\u001b[0m\u001b[0;34m\u001b[0m\u001b[0;34m\u001b[0m\u001b[0m\n\u001b[1;32m    270\u001b[0m             \u001b[0;32mraise\u001b[0m \u001b[0mLineTooLong\u001b[0m\u001b[0;34m(\u001b[0m\u001b[0;34m\"status line\"\u001b[0m\u001b[0;34m)\u001b[0m\u001b[0;34m\u001b[0m\u001b[0;34m\u001b[0m\u001b[0m\n",
      "\u001b[0;32m~/anaconda3/envs/py36/lib/python3.6/socket.py\u001b[0m in \u001b[0;36mreadinto\u001b[0;34m(self, b)\u001b[0m\n\u001b[1;32m    584\u001b[0m         \u001b[0;32mwhile\u001b[0m \u001b[0;32mTrue\u001b[0m\u001b[0;34m:\u001b[0m\u001b[0;34m\u001b[0m\u001b[0;34m\u001b[0m\u001b[0m\n\u001b[1;32m    585\u001b[0m             \u001b[0;32mtry\u001b[0m\u001b[0;34m:\u001b[0m\u001b[0;34m\u001b[0m\u001b[0;34m\u001b[0m\u001b[0m\n\u001b[0;32m--> 586\u001b[0;31m                 \u001b[0;32mreturn\u001b[0m \u001b[0mself\u001b[0m\u001b[0;34m.\u001b[0m\u001b[0m_sock\u001b[0m\u001b[0;34m.\u001b[0m\u001b[0mrecv_into\u001b[0m\u001b[0;34m(\u001b[0m\u001b[0mb\u001b[0m\u001b[0;34m)\u001b[0m\u001b[0;34m\u001b[0m\u001b[0;34m\u001b[0m\u001b[0m\n\u001b[0m\u001b[1;32m    587\u001b[0m             \u001b[0;32mexcept\u001b[0m \u001b[0mtimeout\u001b[0m\u001b[0;34m:\u001b[0m\u001b[0;34m\u001b[0m\u001b[0;34m\u001b[0m\u001b[0m\n\u001b[1;32m    588\u001b[0m                 \u001b[0mself\u001b[0m\u001b[0;34m.\u001b[0m\u001b[0m_timeout_occurred\u001b[0m \u001b[0;34m=\u001b[0m \u001b[0;32mTrue\u001b[0m\u001b[0;34m\u001b[0m\u001b[0;34m\u001b[0m\u001b[0m\n",
      "\u001b[0;31mKeyboardInterrupt\u001b[0m: "
     ]
    }
   ],
   "source": [
    "# QUERY ARTICLES\n",
    "articles = defaultdict(dict)\n",
    "for source_origin in sources:\n",
    "    for source in sources[source_origin]:\n",
    "        articles[source] = query_articles(er, source, date_start, date_end)\n",
    "        # Checkpoint after each query.\n",
    "        with open('articles.json', 'w') as article_file:\n",
    "            article_file.write(json.dumps(articles))"
   ]
  },
  {
   "cell_type": "code",
   "execution_count": 89,
   "metadata": {
    "scrolled": true
   },
   "outputs": [
    {
     "name": "stdout",
     "output_type": "stream",
     "text": [
      "nytimes.com: 100\n",
      "cnn.com: 100\n",
      "voanews.com: 100\n",
      "foxnews.com: 100\n",
      "globaltimes.cn: 100\n",
      "scmp.com: 100\n",
      "hongkongfp.com: 100\n",
      "france24.com: 100\n",
      "afp.com: 100\n",
      "iran-daily.com: 100\n",
      "tehrantimes.com: 100\n",
      "ifpnews.com: 100\n",
      "entornointeligente.com: 100\n",
      "laht.com: 100\n",
      "therussophile.org: 100\n",
      "sputniknews.com: 100\n",
      "rt.com: 100\n",
      "themoscowtimes.com: 100\n",
      "aljazeera.com: 100\n",
      "1900\n",
      "{'nytimes.com': 100, 'cnn.com': 100, 'voanews.com': 100, 'foxnews.com': 100, 'globaltimes.cn': 100, 'scmp.com': 100, 'hongkongfp.com': 100, 'france24.com': 100, 'afp.com': 100, 'iran-daily.com': 100, 'tehrantimes.com': 100, 'ifpnews.com': 100, 'entornointeligente.com': 100, 'laht.com': 100, 'therussophile.org': 100, 'sputniknews.com': 100, 'rt.com': 100, 'themoscowtimes.com': 100, 'aljazeera.com': 100}\n"
     ]
    }
   ],
   "source": [
    "# PRINT INFO\n",
    "num_articles = 0\n",
    "num_articles_by_source = defaultdict(int)\n",
    "for source in articles:\n",
    "    num_articles+=len(articles[source]['articles']['results'])\n",
    "    num_articles_by_source[source] += len(articles[source]['articles']['results'])\n",
    "    print('{}: {}'.format( source, len(articles[source]['articles']['results'])))\n",
    "        \n",
    "print(num_articles)\n",
    "print(dict(num_articles_by_source))"
   ]
  },
  {
   "cell_type": "code",
   "execution_count": 43,
   "metadata": {},
   "outputs": [
    {
     "name": "stdout",
     "output_type": "stream",
     "text": [
      "nytimes.com\n",
      "cnn.com\n",
      "voanews.com\n",
      "globaltimes.cn\n",
      "scmp.com\n",
      "hongkongfp.com\n",
      "france24.com\n",
      "afp.com\n",
      "iran-daily.com\n",
      "tehrantimes.com\n",
      "ifpnews.com\n",
      "entornointeligente.com\n",
      "laht.com\n"
     ]
    }
   ],
   "source": [
    "for loc in sources:\n",
    "    for source in sources[loc]:\n",
    "        print(er.getSourceUri(source))"
   ]
  },
  {
   "cell_type": "code",
   "execution_count": 31,
   "metadata": {},
   "outputs": [
    {
     "name": "stdout",
     "output_type": "stream",
     "text": [
      "http://en.wikipedia.org/wiki/Venezuela\n",
      "http://en.wikipedia.org/wiki/France\n",
      "http://en.wikipedia.org/wiki/Hong_Kong\n",
      "http://en.wikipedia.org/wiki/Iran\n"
     ]
    }
   ],
   "source": [
    "for loc in locations:\n",
    "    print(er.getLocationUri(loc))"
   ]
  },
  {
   "cell_type": "code",
   "execution_count": 68,
   "metadata": {},
   "outputs": [
    {
     "name": "stdout",
     "output_type": "stream",
     "text": [
      "France france24.com 2018-11-01 2019-03-31\n"
     ]
    }
   ],
   "source": [
    "res_test = query_articles(er, 'France', 'france24.com', dates['France']['date_start'], dates['France']['date_end'])"
   ]
  },
  {
   "cell_type": "code",
   "execution_count": 1,
   "metadata": {},
   "outputs": [
    {
     "ename": "NameError",
     "evalue": "name 'res_test' is not defined",
     "output_type": "error",
     "traceback": [
      "\u001b[0;31m---------------------------------------------------------------------------\u001b[0m",
      "\u001b[0;31mNameError\u001b[0m                                 Traceback (most recent call last)",
      "\u001b[0;32m<ipython-input-1-9caf41b081ee>\u001b[0m in \u001b[0;36m<module>\u001b[0;34m\u001b[0m\n\u001b[0;32m----> 1\u001b[0;31m \u001b[0mres_test\u001b[0m\u001b[0;34m[\u001b[0m\u001b[0;34m'articles'\u001b[0m\u001b[0;34m]\u001b[0m\u001b[0;34m\u001b[0m\u001b[0;34m\u001b[0m\u001b[0m\n\u001b[0m",
      "\u001b[0;31mNameError\u001b[0m: name 'res_test' is not defined"
     ]
    }
   ],
   "source": [
    "res_test['articles']"
   ]
  },
  {
   "cell_type": "code",
   "execution_count": 72,
   "metadata": {},
   "outputs": [],
   "source": [
    "bodies = [result['body'] for result in res_test['articles']['results']]"
   ]
  },
  {
   "cell_type": "code",
   "execution_count": 73,
   "metadata": {},
   "outputs": [
    {
     "name": "stdout",
     "output_type": "stream",
     "text": [
      "Venezuela's President Nicolas Maduro on Tuesday accused Washington of ordering a coup against his government and called for a \"total revision\" of ties with the US.\n",
      "\n",
      "The latest claims by Caracas of a US coup plot came the day before a mass street protest announced by the opposition, and one day after a mutiny by some soldiers.\n",
      "\n",
      "Maduro was specifically reacting to comments by US Vice President Mike Pence, who posted a video on Twitter branding Maduro \"a dictator with no legitimate claim to power.\"\n",
      "\n",
      "Referring to Wednesday's planned opposition rally, Pence added: \"As the good people of Venezuela make your voices heard tomorrow, on behalf of the American people, we say: estamos con ustedes. We are with you.\"\n",
      "\n",
      "Maduro responded during a radio and TV broadcast that \"what the government of the United States did through Vice President Mike Pence, was to give orders to carry out a coup from the fascist state... which is unparalleled in the history of relations between the United States and Venezuela in 200 years.\"\n",
      "\n",
      "He ordered Foreign Minister Jorge Arreaza to begin \"a total revision of relations\" with Washington, which has already sanctioned top Venezuelan regime figures.\n",
      "\n",
      "'Reconsider the plan'\n",
      "\n",
      "With Maduro's government ominously predicting there would be violence against opposition protesters, US Senator Marco Rubio warned Venezuela's intelligence service to \"reconsider the plan they have for tomorrow before it's too late.\"\n",
      "\n",
      "\"You are about to cross a line & trigger a response that believe me you are not prepared to face,\" the Florida Republican said on Twitter.\n",
      "\n",
      "Rubio urged prayers for \"the thousands of Venezuelans who will face danger & difficulty in the hours ahead. May God give them strength. And may he change the hearts of military leaders so that they protect not repress their fellow countrymen.\"\n",
      "\n",
      "The Venezuelan government's rhetoric intensified the day after a group of soldiers rose up against Maduro at a command post in the north of Caracas. They published a video on social media calling for the public to come out and support them.\n",
      "\n",
      "But they surrendered after police and military units surrounded the post, and the 27 soldiers were arrested.\n",
      "\n",
      "Their voices were heard, though, according to the non-governmental Social Conflict Observatory, which said on Tuesday that anti-Maduro protests were recorded in at least 30 different locations around the capital.\n",
      "\n",
      "The Organization of American States, which has declared Maduro's new term illegitimate, plans to hold an extraordinary session on Thursday to discuss \"recent events in Venezuela.\"\n",
      "\n",
      "\"Yankee go home! We won't let them interfere in the affairs of the homeland,\" Maduro's Vice President Delcy Rodriguez said in televised remarks, while Communications Minister Jorge Rodriguez accused Pence of having ordered \"terrorists\" to carry out acts of violence during Wednesday's protest.\n",
      "\n",
      "'It was awful'\n",
      "\n",
      "Demonstrators are set to mobilize behind the National Assembly's new president Juan Guaido, who has branded Maduro a \"usurper\" and wants to establish a transitional government leading to elections.\n",
      "\n",
      "Maduro's administration stripped the Assembly of its power but Guaido has risen to the challenge of taking him on. The movement has gained traction since Maduro was sworn in for a second term as president on January 10 after he won controversial elections.\n",
      "\n",
      "Unrest triggered by Monday's troop uprising lasted in some places until Tuesday morning.\n",
      "\n",
      "\"Maduro out! That's what the people were shouting. It was awful,\" 60-year-old Dinora de Longa told AFP.\n",
      "\n",
      "\"The police were shooting and there was tear gas everywhere. I had to put my grandchildren in the bathroom. This won't solve anything.\"\n",
      "\n",
      "One protest, in which people pelted cars with stones, took place on the motorway linking Caracas to the neighboring port of La Guaira, where the capital's airport is located.\n",
      "\n",
      "The opposition accuses Maduro of running an authoritarian regime and acting unconstitutionally.\n",
      "\n",
      "Counter demonstration\n",
      "\n",
      "Wednesday's protest date of January 23 is significant because it marks 61 years since the fall of Marcos Perez Jimenez's dictatorship.\n",
      "\n",
      "The regime has responded by announcing its own demonstration in support of Maduro.\n",
      "\n",
      "It will be the first major street movement since 125 people were killed during civil unrest between April and July 2017.\n",
      "\n",
      "Venezuela is suffering the worst economic crisis in its modern history. Food and medicine have been in short supply, while spiraling inflation -- predicted to reach a mind-boggling 10 million percent this year -- has crippled the currency.\n",
      "\n",
      "The crisis was sparked by a fall in global oil prices in 2014, a commodity Venezuela is almost entirely reliant upon. Its crude production has dropped to barely a third of the level of a decade ago.\n",
      "Trucks laden with U.S. food and medicine returned to warehouses in Colombia after opposition supporters failed to break through lines of troops, who dispersed them with tear gas and rubber rounds, injuring dozens.\n",
      "\n",
      "Witnesses said masked men in civilian clothes also shot at protesters with live bullets.\n",
      "\n",
      "\"Today's events force me to make a decision: to formally propose to the international community that we must have all options open to secure the freedom of our country,\" Guaido said on Twitter.\n",
      "\n",
      "The United States has been the top foreign backer of Guaido, who invoked Venezuela's constitution to assume an interim presidency last month and is now recognised by most Western nations as the OPEC nation's legitimate leader.\n",
      "\n",
      "President Donald Trump has in the past said military intervention in Venezuela was \"an option\", though Guaido made no reference to it on Saturday.\n",
      "\n",
      "Guaido had given a personal send-off to one convoy carrying aid from the Colombian city of Cucuta on Saturday.\n",
      "\n",
      "The opposition had hoped Venezuelan soldiers would baulk at turning back supplies desperately needed in the country, where a growing number of its 30 million people suffer from malnutrition\n",
      "\n",
      "and treatable diseases.\n",
      "\n",
      "But while some 60 members of the security forces defected on Saturday, according to Colombian authorities, the lines of National Guard soldiers at the frontier crossings held firm, firing tear gas at the convoys.\n",
      "\n",
      "At the Urena border point, two aid trucks caught fire, sending plumes of dark smoke into the air as crowds raced to try to save the boxes of supplies, a Reuters witness said.\n",
      "\n",
      "Guaido said he would keep demanding Maduro let the aid in and would seek other routes. He said he would attend a meeting of the regional Lima Group of nations in Bogota on Monday with\n",
      "\n",
      "U.S. Vice President Mike Pence during which they would decide more actions to ramp up pressure on Maduro.\n",
      "\n",
      "\"Today the world saw in minutes, in hours, the worst face of the Venezuelan dictatorship,\" Guaido said at an earlier news conference in Colombia, alongside Colombian President Ivan\n",
      "\n",
      "Duque.\n",
      "\n",
      "Angered by Duque's support for Guaido, Maduro said he was breaking diplomatic relations with Bogota and gave its diplomatic staff 24 hours to leave the country.\n",
      "\n",
      "Maduro denies his oil-rich nation has any need of aid and accuses Guaido of being a coup-mongering puppet for U.S. President Donald Trump. Washington has warned it could seek to impose tough new sanctions on Venezuela at Monday's summit if Maduro blocked the aid shipments.\n",
      "\n",
      "\"What do the Venezuelan people think of Donald Trump's threats? Get your hands off Venezuela. Yankee go home,\" Maduro told a rally of red-shirted, flag-waving supporters in the capital, Caracas. \"He is sending us rotten food, thank you!\"\n",
      "\n",
      "Trump's national security adviser John Bolton said on Twitter that countries still supporting Maduro \"should take note of what they are endorsing\", in a thinly veiled rebuke to China\n",
      "\n",
      "and Russia.\n",
      "\n",
      "'Freedom'\n",
      "\n",
      "In the Venezuelan border towns of San Antonio and Urena, troops fired rubber rounds at opposition supporters, including lawmakers, who walked toward the frontier waving Venezuelan flags and chanting \"Freedom\".\n",
      "\n",
      "Reuters television images from San Antonio showed a dozen men on motorbikes, dressed in black and wearing balaclavas, firing shotguns and pistols at a crowd.\n",
      "\n",
      "Demonstrators in Urena barricaded streets with burning tires, set a bus alight and hurled stones at troops to demand that Maduro allow aid into a country ravaged by a meltdown that has halved the size of the economy in five years.\n",
      "\n",
      "\"They started shooting at close range as if we were criminals,\" said shopkeeper Vladimir Gomez, 27, wearing a white shirt stained with blood.\n",
      "\n",
      "At least six of about a dozen trucks that tried to reach Venezuela later returned to Cucuta, where Colombia's disaster management agency said they would be unloaded and the aid stored until Guaido requested their use again.\n",
      "\n",
      "Puerto Rico Governor Ricardo Rossello said he ordered a Puerto Rican ship carrying humanitarian aid to turn back after a Venezuelan navy ship threatened to open fire on it.\n",
      "\n",
      "\"This is unacceptable and shameful,\" Rossello said in a statement. \"We have also notified our partners in the U.S. government about this serious incident.\"\n",
      "\n",
      "A Reuters witness said two aid trucks crossed the Brazilian border but not the Venezuelan customs checkpoint.\n",
      "\n",
      "In the southern town of Santa Elena de Uairen at least two people were killed in clashes with security forces, according to a doctor at the hospital where they were treated. On Friday, a\n",
      "\n",
      "married couple in a nearby indigenous community was shot dead by security forces.\n",
      "\n",
      "Rights group Penal Forum said it recorded 29 injuries from bullet wounds and two deaths across Venezuela in clashes with troops on Saturday. Colombian authorities said they registered 285 people injured, including those affected by tear gas.\n",
      "\n",
      "\"I'm a homemaker and I'm here fighting for my family, for my children and parents, resisting the military's tear gas,\" said opposition protester Sobeida Monsalve, 42, in Urena.\n",
      "\n",
      "Dozens defect\n",
      "\n",
      "Guaido had appealed to Venezuela's armed forces to stand aside and allow aid in, promising amnesty to officers who disavowed Maduro. Dozens of soldiers, whose families suffer the same shortages as other Venezuelans, took up his offer.\n",
      "\n",
      "\"You don't owe any obedience to someone who sadistically celebrates that the humanitarian aid doesn't enter a country that needs it,\" Guaido said.\n",
      "\n",
      "A social media video showed troops who abandoned their post driving armored vehicles across a bridge linking Venezuela and Colombia, knocking over metal barricades, and then jumping out of the vehicles and running to the Colombian side.\n",
      "\n",
      "\"What we did today, we did for our families, for the Venezuelan people,\" one of the defectors said in a video televised by a Colombian news program.\n",
      "\n",
      "Venezuela's ruling Socialist Party calls Guaido's aid effort a veiled invasion backed by Washington and insists that the United States should instead help Venezuela by lifting crippling financial and oil sector sanctions.\n",
      "\n",
      "On Saturday, Maduro turned his ire on Colombia and said Duque was letting its territory be used for attacks against Venezuela.\n",
      "\n",
      "\"For that reason, I have decided to break all political and diplomatic relations with Colombia's fascist government,\" he told cheering supporters.\n",
      "\n",
      "Thousands of white-clad protesters gathered outside a military base in Caracas to demand that the armed forces allow in the aid.\n",
      "\n",
      "\"This is the biggest battle that the armed forces can win,\" said Sheyla Salas, 48, who works in advertising. \"Please join this struggle, get on the right side of history, allow the humanitarian aid to enter.\"\n",
      "Trump described hard-left President Nicolas Maduro as \"illegitimate\" and said the National Assembly, headed by Guaido, is \"the only legitimate branch of government duly elected by the Venezuelan people\".\n",
      "\n",
      "The US president's support for Guaido came shortly after the opposition leader declared himself \"acting president\" during a mass demonstration against Maduro.\n",
      "\n",
      "Trump noted that the National Assembly had declared Maduro \"illegitimate, and the office of the presidency therefore vacant\".\n",
      "\n",
      "\"The people of Venezuela have courageously spoken out against Maduro and his regime and demanded freedom and the rule of law,\" he said.\n",
      "\n",
      "Trump urged other countries to follow his lead and promised to \"use the full weight of United States economic and diplomatic power to press for the restoration of Venezuelan democracy\".\n",
      "\n",
      "Minutes later, a Canadian government official told Reuters that Canada also plans to recognise Guaido as Venezuela's new interim president.\n",
      "\n",
      "The head of the Organization of American States also on Wednesday recognized Venezuela's National Assembly leader as the country's acting president.\n",
      "\n",
      "\"Our congratulations to @jguaido as acting President of #Venezuela. You have all our recognition to launch the return of democracy to the country,\" OAS Secretary General Luis Almagro said in a tweet.\n",
      "\n",
      "Rival rallies on historic holiday\n",
      "\n",
      "The dramatic developments came as protesters took to the streets in Venezuela, answering an opposition call to fill streets nationwide in an appeal to the military and the poor to shift loyalties that until recently looked solidly behind Maduro's socialist government.\n",
      "\n",
      "The protests were called to coincide with a historic date for Venezuelans - the anniversary of the 1958 coup that overthrew military dictator Marcos Perez Jimenez. A smaller number of government supporters also marched in downtown Caracas in a rival show of strength.\n",
      "\n",
      "The competing demonstrations come after a whirlwind week that saw an uprising by a tiny military unit, fires set during protests in poor neighborhoods and the brief detention by security forces of the newly installed head of the opposition-controlled congress.\n",
      "\n",
      "Four people were killed in clashes overnight Wednesday ahead of the demonstrations, according to police and an NGO.\n",
      "\n",
      "For much of the past two years, following a deadly crackdown on protests in 2017 and the failure of negotiations ahead of last May's boycotted presidential election, the coalition of opposition parties has been badly divided by strategy and ego battles as millions of desperate Venezuelans fled the country's hyperinflation and widespread food shortages. But buoyed by unprecedented international criticism of Maduro, anti-government forces have put aside their differences and are projecting a united front.\n",
      "\n",
      "Maduro slams Pence\n",
      "\n",
      "The government has accused the opposition of inciting violence with the aim of provoking a bloodbath. Top socialist leaders have threatened to unleash on demonstrators menacing motorcycle gangs of pro-government die-hards known as \"colectivos.\"\n",
      "\n",
      "\"I demand the full rigor of the law against the fascists,\" Maduro said Tuesday night while blaming \"terrorists\" allegedly linked to Guaido's Popular Will party for a fire at a cultural centre named for a pro-government lawmaker murdered in 2014.\n",
      "\n",
      "Maduro also accused US Vice President Mike Pence of trying to foment unrest after Pence released a video pledging support, in Spanish, for the planned demonstrations.\n",
      "\n",
      "Though intimidation has worked for the government in the past, it may not this time, said Dimitris Pantoulas, a Caracas-based political analyst. Discontent now appears to be more widespread and the ranks of security forces and government-allied groups have been thinned by the mass exodus of mostly young Venezuelans, he said.\n",
      "\n",
      "\"The government is resorting to its old tricks, but the people no longer believe them,\" Pantoulas said.\n",
      "At least four people died following overnight clashes ahead of Wednesday's rival protests in Venezuela by supporters and opponents of President Nicolas Maduro, police and a non-governmental organisation said.\n",
      "\n",
      "A 16-year-old was among the dead, having suffered \"a firearm injury during a demonstration\" in the capital Caracas, the Social Conflict Observatory said.\n",
      "\n",
      "Police said the other three deaths occurred during looting in Bolivar City in the southeastern Bolivar State that borders Brazil.\n",
      "\n",
      "The clashes came as Venezuela's re-invigorated opposition faces a crucial test Wednesday as it seeks to fill streets nationwide with protesters in an appeal to the military and the poor to shift loyalties that until recently looked solidly behind Maduro's socialist government.\n",
      "\n",
      "The protests have been called to coincide with a historic date for Venezuelans - the anniversary of the 1958 coup that overthrew military dictator Marcos Perez Jimenez. Government supporters are also expected to march in downtown Caracas in a rival show of strength.\n",
      "\n",
      "The competing demonstrations will come after a whirlwind week that saw an uprising by a tiny military unit, fires set during protests in poor neighborhoods and the brief detention by security forces of the newly installed head of the opposition-controlled congress.\n",
      "\n",
      "For much of the past two years, following a deadly crackdown on protests in 2017 and the failure of negotiations ahead of last May's boycotted presidential election, the coalition of opposition parties has been badly divided by strategy and ego battles as millions of desperate Venezuelans fled the country's hyperinflation and widespread food shortages. But buoyed by unprecedented international criticism of Maduro, anti-government forces have put aside their differences and are projecting a united front.\n",
      "\n",
      "A charismatic new opposition leader emerges\n",
      "\n",
      "Their leader this time, taking the reins from a long list of better-known predecessors who have been exiled, outlawed or jailed, is Juan Guaido, the new president of the National Assembly who was dragged from an SUV just over a week ago by intelligence agents but quickly released amid an international outcry.\n",
      "\n",
      "In the run-up to Wednesday's actions, the defiant 35-year-old lawmaker has crisscrossed Caracas attending outdoor assemblies known as \"Open Cabildos\" - for the revolutionary citizen councils held against Spanish colonial rule - pumping up crowds by arguing that Maduro must go for democracy to be restored.\n",
      "\n",
      "Speaking on Monday from the roof of a college building, Guaido proclaimed with fist raised: \"We are tired of this disaster. We know this isn't a fight of a single day but one that requires lots of resistance.\"\n",
      "\n",
      "An enthusiastic crowd of students answered with shouts of \"Freedom!\" and \"Get out, Maduro!\"\n",
      "\n",
      "Driving the crisis has been Maduro's decision to plow ahead in the face of international condemnation and take the presidential oath Jan. 10 for a second term widely considered illegitimate after his main opponents were banned from running against him.\n",
      "\n",
      "Cracks in the military\n",
      "\n",
      "Guaido has been targeting his message to Venezuela's military, the traditional arbiter of political disputes.\n",
      "\n",
      "Maduro, who lacks the military pedigree of his mentor and predecessor, the late Hugo Chavez, has sought to shore up support from the armed forces by doling out key posts to top generals, including heading the PDVSA oil monopoly that is the source of virtually all of Venezuela's export earnings. He has also been playing commander in chief, appearing last week at a military command meeting wearing camouflage fatigues and receiving the blessing of the defense minister, Gen. Vladimir Padrino Lopez.\n",
      "\n",
      "But beyond the public displays of loyalty from the top brass, a number of cracks have started to appear.\n",
      "\n",
      "On Monday, Venezuelans awoke to news that a few dozen national guardsmen had taken captive a loyalist officer and seized a stockpile of assault rifles in a pre-dawn raid. The government quickly quelled the uprising, but residents in a nearby slum took to the streets to show their support for the mutineers by burning cars and throwing stones at security forces, who fired back with tear gas.\n",
      "\n",
      "Retired Maj. Gen. Cliver Alcala, a one-time aide to Chavez and now in exile, said the opposition's newfound momentum has reverberated with the military's lower ranks, many of whom are suffering the same hardships as regular Venezuelan families.\n",
      "\n",
      "\"I am absolutely certain that right now, especially younger troops are asking themselves whether Maduro is their commander in chief or a usurper,\" Alcala said. \"As we say in the barracks, hunger is the only thing that can devour fear of the government.\"\n",
      "\n",
      "Maduro slams Pence\n",
      "\n",
      "The government has accused the opposition of inciting violence with the aim of provoking a bloodbath. Top socialist leaders have threatened to unleash on demonstrators menacing motorcycle gangs of pro-government die-hards known as \"colectivos.\"\n",
      "\n",
      "\"I demand the full rigor of the law against the fascists,\" Maduro said Tuesday night while blaming \"terrorists\" allegedly linked to Guaido's Popular Will party for a fire at a cultural centre named for a pro-government lawmaker murdered in 2014.\n",
      "\n",
      "Maduro also accused US Vice President Mike Pence of trying to foment unrest after Pence released a video pledging support, in Spanish, for the planned demonstrations.\n",
      "\n",
      "Though intimidation has worked for the government in the past, it may not this time, said Dimitris Pantoulas, a Caracas-based political analyst. Discontent now appears to be more widespread and the ranks of security forces and government-allied groups have been thinned by the mass exodus of mostly young Venezuelans, he said.\n",
      "\n",
      "\"The government is resorting to its old tricks, but the people no longer believe them,\" Pantoulas said.\n",
      "International pressure mounted against Venezuela's leader Nicolas Maduro on Sunday, with Washington vowing to \"take action\" after opposition efforts to bring humanitarian aid into the country descended into blood-soaked chaos.\n",
      "\n",
      "US Secretary of State Mike Pompeo said on Saturday that the United States \"will take action\" in Venezuela, as he condemned violence perpetrated by Venezuelan President Nicolas Maduro's \"thugs\" after security forces fired on demonstrators.\n",
      "\n",
      "\"The US will take action against those who oppose the peaceful restoration of democracy in #Venezuela. Now is the time to act in support of the needs of the desperate Venezuelan people,\" Pompeo wrote on Twitter.\n",
      "\n",
      "\"We stand in solidarity with those continuing their struggle for freedom. #EstamosUnidosVE.\"\n",
      "\n",
      "After two people were killed and more than 300 wounded in clashes between people trying to get humanitarian aid into Venezuela from neighbouring countries and forces loyal to Maduro blocking the shipments, the top Washington diplomat tweeted, \"the US condemns the attacks on civilians in #Venezuela perpetrated by Maduro's thugs.\"\n",
      "\n",
      "\"These attacks have resulted in deaths and injuries,\" he added.\n",
      "\n",
      "\"Our deepest sympathies to the families of those who have died due to these criminal acts. We join their demand for justice. #EstamosUnidosVE.\"\n",
      "\n",
      "Read more >> Venezuelan soldiers kill two in clash over aid on Brazilian border\n",
      "\n",
      "This was followed on Sunday by the European Union condemning Caracas for its use of violence and armed supporters of the regime to prevent the entry of humanitarian aid into Venezuela.\n",
      "\n",
      "\"We repudiate the use of irregular armed groups to intimidate civilians and lawmakers who have mobilised to distribute assistance,\" Euopean Union's Foreign Policy Chief Federica Mogherini said in a statement.\n",
      "\n",
      "Opposition leader Juan Guaido said the regime had \"deployed irregulars\" to block the entry of aid, referring to groups of armed Maduro supporters who tend to operate both alongside and independently of the security forces.\n",
      "\n",
      "\"There are worrying reports of unrest, acts of violence and a growing number of victims, in particular in the border areas and among the Pemon indigenous community,\" Mogherini said.\n",
      "\n",
      "\"We strongly call on law enforcement and security bodies to show restraint, avoid use of force and allow for the entry of aid.\"\n",
      "\n",
      "Mogherini also said the EU was ready to \"scale up\" humanitarian and development aid to ease the plight of Venezuelans.\n",
      "\n",
      "\"The European Union has already committed more than €60 million in 2018/19 in humanitarian and development aid. We recall our commitment to help those in need for as long as it takes, to scale up this assistance,\" she said.\n",
      "Haitian President Jovenel Moise on Thursday broke his silence after a week of violent protests demanding his resignation as the US announced it was pulling \"non-emergency personnel\" from the country over the deadly unrest.\n",
      "\n",
      "\"I will not leave the country in the hands of armed gangs and drug traffickers,\" Moise said in a pre-recorded address broadcast on state television, speaking in Creole in the aftermath of clashes between authorities and demonstrators in the capital Port-au-Prince.\n",
      "\n",
      "Since February 7, at least seven people have died as Haiti has been plunged into political crisis, with everyday life paralyzed by protests and barricades in the largest towns.\n",
      "\n",
      "The protesters, angry about skyrocketing inflation and the alleged theft of nearly $2 billion in Venezuelan oil relief to the island, are demanding Moise's resignation.\n",
      "\n",
      "Meanwhile, the United States announced it was removing \"non-emergency personnel\" from the country on Thursday, the same day that Canada said it was temporarily shuttering its embassy.\n",
      "\n",
      "\"There are currently widespread, violent, and unpredictable demonstrations in Port-au-Prince and elsewhere in Haiti. Due to these demonstrations, on February 14, 2019, the Department of State ordered the departure of all non-emergency US personnel and their family members,\" it said in a statement.\n",
      "\n",
      "Canada also said it was closing its embassy in Port-au-Prince on Thursday due to \"current volatility,\" but would \"continue to assess the situation in the coming days.\"\n",
      "\n",
      "Moise, a 50-year-old former entrepreneur who set up a string of businesses in the north of the country, where he hails from, burst on to the political stage two years ago with a populist message of building up the impoverished Caribbean nation.\n",
      "\n",
      "Populist pledges\n",
      "\n",
      "His talk was backed up by his business background: past ventures included water treatment, the energy sector and agricultural production, the latter of which earned him his nickname, \"Neg Bannan nan\" or \"The Banana Man\" in Creole.\n",
      "\n",
      "His business interests led him to a meeting in 2014 with the man who would become his political mentor, then- president Michel Martelly, a former singer who had once performed under the stage name Sweet Micky. He too had been a political newbie when he took the presidency in 2011.\n",
      "\n",
      "But the financing of the plantation, launched in 2014 and bolstered by a $6 million government loan a year later, has been dogged by questions, which the president's opponents are now using to stoke speculation about corruption.\n",
      "\n",
      "In a report published last month, a court investigating mismanagement of a major development fund also found that Moise's Agritrans banana firm had been paid to upgrade a road, but that no contract had ever been located by the investigating judges.\n",
      "\n",
      "Moise campaigned on populist pledges, just like all candidates in Haiti do, but he kept up the rhetoric even after he was elected in February 2017.\n",
      "\n",
      "Leaving his ministers behind, he criss-crossed the country to whip up support for his \"caravan of change,\" including the purchase of heavy machinery and the launch of major works projects, whose exact costs have never been elaborated, despite repeated calls for clarity in the media.\n",
      "\n",
      "While traveling the provinces, he also made big promises, such as providing the whole country with round-the-clock electricity.\n",
      "\n",
      "But with riots and gun fire rocking the capital, Moise gave up big talk and remained conspicuously silent until his Thursday address, in which he rejected the idea of resigning as well as of transferring power to a transitional government.\n",
      "\n",
      "\"We have already seen a series of transitional governments that have resulted in a series of catastrophes and disorder,\" Moise said.\n",
      "Haitians took to the streets of the capital Port-au-Prince's once again on Wednesday to demand the resignation of the country's President Jovenel Moïse as tensions continue to mount after a week of demonstrations marked by violent clashes with the police.\n",
      "\n",
      "According to AFP, a young man died at a crossroads near the presidential palace in Port-au-Prince and a Haitian journalist was wounded by gunshots during crossfire between police and protestors.\n",
      "\n",
      "The former French colony has been mired in a political crisis since February 7 that has left at least seven people dead and everyday life in the largest towns paralyzed by protests and barricades.\n",
      "\n",
      "Demonstrators, who come mostly from poor neighbourhoods, are demanding Moïse's resignation over graft scandals and for failing to tackle widespread poverty.\n",
      "\n",
      "\"This government is seen as incapable of tackling the economic crisis or the corruption,\" said Jake Johnston, researcher at the Center for Economic and Policy Research (CEPR) and author of its Haiti: Relief and Reconstruction Watch blog.\n",
      "\n",
      "\"It's a popular uprising. Haitians are occupying the streets to make it clear that Jovenel (Moïse) has no choice but to resign,\" said demonstrator Prophete Hilaire, who was marching across the capital. \"A government that cannot give its people nourishment and water must step down,\" he added.\n",
      "\n",
      "Crippling crisis\n",
      "\n",
      "Haiti is the poorest country in the Americas and one of the poorest in the world, with three-fifths of the nearly 11 million population living below the national poverty line of $2 a day. According to a United Nations Office for the Coordination of Humanitarian Affairs report in July 2018, some 1.3 million Haitians depend on food assistance.\n",
      "\n",
      "Each year, thousands of young people flee as illegal migrants, including to nearby Bahamas and the Turks and Caicos islands.\n",
      "\n",
      "\"Since 2016, the country has faced a two-digit inflation, the national currency lost half of its value over the course of the last four years. And half of this decline actually happened last year,\" Johnston said.\n",
      "\n",
      "Misappropriated development funds\n",
      "\n",
      "The current demonstrations kicked off when Moïse found himself at the heart of a corruption scandal over the Petrocaribe fund, under which Venezuela supplied Haiti and other Caribbean and Central American countries with oil for years at cut-rate prices and easy credit terms.\n",
      "\n",
      "Investigations have shown that nearly $2 billion intended for development projects were misused from the program. In January, a report on the case revealed that a company, then headed by Moïse, was a beneficiary of funds from a road construction project. The company never a signed contract, according to the report.\n",
      "\n",
      "Legitimacy crisis\n",
      "\n",
      "Moïse is not the only Haitian leader to have seen his legitimacy disputed.\n",
      "\n",
      "According to Johnston, \"there is a crisis of legitimacy concerning Haitians politicians who weren't able to respond to the population's needs\". Moïse's case is even worse.\n",
      "\n",
      "Haiti's current president only came into power in 2017 after a second poll, the first one having been cancelled over reports of massive fraud. \"When the second election took place, less than 20 percent of the voters showed up. Even though no irregularities were found during the second ballot, such turnout rate could never lead to a stable term,\" Johnston added.\n",
      "\n",
      "Although many protestors have been killed in the current turmoil, Moïse and his prime minister have remained dead silent. Neither has reacted to the latest events, despite the violence sometimes breaking out only a few metres from the presidential palace.\n",
      "\n",
      "FRANCE 24's Amélie Baron reported from Port-au-Prince that \"no solution has been put forward for now. But the authorities will have to take decisions, because the anger of the people is only growing\".\n",
      "\n",
      "A crisis destined to last\n",
      "\n",
      "\"Ignoring once again the people's legitimate demands is a guarantee that the crisis will last a long time,\" Johnston agreed.\n",
      "\n",
      "\"Authorities seem to blame the turmoil on a political opposition willing to seize power. They presume that it will run short of money and the movement will then cool down and the country will be calm again.\"\n",
      "\n",
      "Authorities are also counting on October 2019's legislative elections to ease the tension. But \"it would be very naive to think that these elections alone can solve this crisis,\" said Johnston.\n",
      "\n",
      "Even a political dialogue with the opposition might not help, for \"there is not even one credible leader who is in position to control the demonstrators by himself\", Johnston noted, adding that there will only be progressive talks when \"civil society\" takes its place at the negotiating table.\n",
      "All 78 detainees at the prison in Aquin, a city of around 100,000 on the south coast of the country's Tiburon Peninsula, escaped around midday, a national police spokesman said.\n",
      "\n",
      "The exact circumstances of the prison break are unclear, but witnesses said it took place during an anti-Moise demonstration in front of the police station adjoining the penitentiary.\n",
      "\n",
      "Some 200 kilometers (120 miles) north of the prison, Port-au-Prince also saw clashes between police and hundreds of protesters in working-class neighborhoods.\n",
      "\n",
      "Thousands of people took to the streets. After police forces dispersed them, some set fire to cars and looted stores to express their mounting frustrations over growing social inequalities worsened by systemic corruption.\n",
      "\n",
      "A youth was also shot dead at a crossroads near the presidential palace.\n",
      "\n",
      "The former French colony is in the grip of a political crisis that has seen citizens demonstrate in the capital Port-au-Prince and elsewhere over the last week to demand Moise's resignation.\n",
      "\n",
      "Barricades have sprung up in some areas of the capital and other cities, with protesters demanding the president answer reports of mismanagement and possible embezzlement of development funds in the impoverished Caribbean nation.\n",
      "\n",
      "Police only provided a toll after the first day of nationwide protests on February 7, with two killed on the sidelines of the marches. Since then, AFP has counted four other people shot dead.\n",
      "\n",
      "Amid the degradation in security conditions, the US State Department ordered all minor children of diplomats posted at the American embassy in Haiti to leave the country.\n",
      "\n",
      "In a statement, the agency also \"approved the authorized departure of adult family members and non-emergency US personnel.\"\n",
      "\n",
      "Prison conditions in Haiti are considered to be among the most inhumane in the world by human rights groups. Detainees face extremely crowded conditions, poor hygiene, food shortages and a lack of health care.\n",
      "\n",
      "The justice system is notoriously slow and has been blamed for contributing to the crisis.\n",
      "\n",
      "In October, an investigation found that three quarters of the 11,839 people imprisoned in Haiti were still waiting for a court ruling -- a delay that has sometimes stretched beyond a decade.\n",
      "\n",
      "'President lied to us'\n",
      "\n",
      "Demonstrators are demanding Moise quit over a scandal centering on the Petrocaribe fund, under which Venezuela supplied Haiti and other Caribbean and Central American countries with oil at cut-rate prices and on easy credit terms for years.\n",
      "\n",
      "\"The president lied to us. These promises of giving us work so we can finally have money to buy food was just bluffing,\" said Vanel Louis-Paul, who joined protesters demanding change.\n",
      "\n",
      "\"Look, he's been in power for two years and people are starving now more than ever. If Jovenel won't go, we will make the bourgeoisie that supported him suffer so it understands.\"\n",
      "\n",
      "Adding to the mounting frustration, investigations have shown that nearly $2 billion from the program were misused.\n",
      "\n",
      "A report released in January on the misuse of the money also named a company that was then headed by Moise as a beneficiary of funds from a road construction project that never had a signed contract.\n",
      "\n",
      "During his election campaign, Moise promised \"food on every plate and money in every pocket,\" yet most Haitians still struggle to make ends meet and face inflation that has risen 15 percent since his election.\n",
      "\n",
      "A mediation group composed of a senior officials from the UN, Brazil and a coalition of Western nations has called on Haiti's politicians to enter dialogue over the crisis, lamenting the loss of life and damage caused by the protests.\n",
      "\n",
      "While the government has offered no response to the demands of demonstrators, opposition groups have also failed to spell out any concrete solution to the crisis, beyond calling for the president to step aside.\n",
      "\"For two years, Jovenel has promised to fill our plates. But I can't eat lies,\" protester Josue Louis-Jeune said in the capital Port-au-Prince, banging a metal plate with a spoon.\n",
      "\n",
      "\"This president is nothing more than a liar,\" he said. \"He's got to go.\"\n",
      "\n",
      "As Haitians reel from 15 percent inflation over the past two years, a sharp drop in the value of the gourde -- the national currency -- against the US dollar has only intensified price increases on mostly imported everyday essentials.\n",
      "\n",
      "\"We can't handle this economic slump any more: we have no electricity, no security, and now flour and bread sellers have decided to close their doors due to inflation. So we've started new hunger riots,\" said Ulrich Louima, leading the way at the protest.\n",
      "\n",
      "In Port-au-Prince, several vehicles were burned by protesters who also attempted to set a gas station on fire.\n",
      "\n",
      "Parts of the demonstration turned violent as some protesters clashed with police, who used tear gas and several times shot live bullets into the air to disperse the crowd.\n",
      "\n",
      "National Police spokesman Gary Desrosiers said the 14 officers injured were primarily hurt by people throwing stones.\n",
      "\n",
      "Last week, the Superior Court of Auditors published a report calling out more than a dozen former ministers and senior officials for poor economic management and the possible misappropriation of development funds loaned to the country from Venezuela since 2008.\n",
      "\n",
      "The report also named a company that was then headed by Moise as a beneficiary of funds from a road construction project that never had a signed contract.\n",
      "\n",
      "\"Since his name is cited in the audit court report, he (Moise) must face justice, to tell the people what happened,\" said activist Pascale Solages, who is involved with a movement calling for transparency around the Venezuelan funds.\n",
      "\n",
      "The demonstrations calling for an end to corruption in state institutions come on another Haitian political anniversary -- the Duvalier dictatorship ended February 7, 1986.\n"
     ]
    }
   ],
   "source": [
    "venezuela_in_bodies = False\n",
    "count = 0\n",
    "for body in bodies:\n",
    "    if 'venezuela' in body or 'Venezuela' in body:\n",
    "        venezuela_in_bodies = True\n",
    "        count += 1\n",
    "        print(body)"
   ]
  },
  {
   "cell_type": "code",
   "execution_count": 74,
   "metadata": {},
   "outputs": [
    {
     "data": {
      "text/plain": [
       "9"
      ]
     },
     "execution_count": 74,
     "metadata": {},
     "output_type": "execute_result"
    }
   ],
   "source": [
    "count "
   ]
  },
  {
   "cell_type": "code",
   "execution_count": 112,
   "metadata": {},
   "outputs": [],
   "source": [
    "stats = [(source, articles[source]['articles']['totalResults'], len(articles[source]['articles']['results'])) for source in articles if source != 'therussophile.org']"
   ]
  },
  {
   "cell_type": "code",
   "execution_count": 103,
   "metadata": {},
   "outputs": [],
   "source": [
    "q = QueryArticlesIter(keywords=QueryItems.OR(protest_key_words),\n",
    "        dateStart=date_start,\n",
    "        dateEnd=date_end,\n",
    "        sourceUri=er.getSourceUri('themoscowtimes.com'),\n",
    "        lang=[\"eng\"])\n",
    "moscow_times_articles = []\n",
    "for article in q.execQuery(er, sortBy = \"rel\", maxItems = 10000):\n",
    "    moscow_times_articles.append(article)"
   ]
  },
  {
   "cell_type": "code",
   "execution_count": 119,
   "metadata": {},
   "outputs": [
    {
     "data": {
      "text/plain": [
       "{'uri': '1194049296',\n",
       " 'lang': 'eng',\n",
       " 'isDuplicate': False,\n",
       " 'date': '2019-07-20',\n",
       " 'time': '17:31:00',\n",
       " 'dateTime': '2019-07-20T17:31:00Z',\n",
       " 'dateTimePub': None,\n",
       " 'dataType': 'news',\n",
       " 'sim': 0.5686274766921997,\n",
       " 'url': 'https://www.themoscowtimes.com/2019/07/20/a-pre-revolutionary-situation-more-than-20000-rally-in-moscow-for-free-elections-a66499',\n",
       " 'title': \"'A Pre-Revolutionary Situation': More Than 20,000 Rally in Moscow for Free Elections\",\n",
       " 'body': 'Russia\\'s largest protest in years came after a week of demonstrations against the barring of opposition candidates from city council elections.\\n\\nRussian opposition leaders on Saturday led a protest in Moscow against the election commission\\'s decision to bar a host of candidates from the ballot for city council elections this fall that turned into the largest demonstration in Russia in recent years.\\n\\nBilled as the culmination of a week of daily protests that kicked off last Sunday, the demonstration -- which was approved by the authorities -- drew 22,500 people, according to White Counter, an NGO that tallies up participants who have passed through the security frames surrounding approved rallies.\\n\\n\"I haven\\'t been at a protest this big since 2012,\" opposition leader Alexei Navalny wrote on Twitter, referring to the Bolotnaya demonstrations that began in the winter of 2011 to protest Vladimir Putin\\'s return to the presidency.\\n\\nSaturday\\'s protest, buoyed by a groundswell of dissatisfaction across Russia over declining living standards that has led to falling ratings for Putin and the ruling United Russia party, may be the start of another round of rallies.\\n\\nWhen Navalny took to the stage, he called for protests to continue next Saturday in front of City Hall, a stone\\'s throw from the Kremlin, if the election commission does not approve the candidates for the ballot this week.',\n",
       " 'source': {'uri': 'themoscowtimes.com',\n",
       "  'dataType': 'news',\n",
       "  'title': 'The Moscow Times'},\n",
       " 'authors': [{'uri': 'evan_gershkovich@themoscowtimes.com',\n",
       "   'name': 'Evan Gershkovich',\n",
       "   'type': 'author',\n",
       "   'isAgency': False}],\n",
       " 'image': 'https://static.themoscowtimes.com/image/1360/81/2light.jpg',\n",
       " 'eventUri': 'eng-4946329',\n",
       " 'sentiment': 0.06666666666666665,\n",
       " 'wgt': 5,\n",
       " 'relevance': 5}"
      ]
     },
     "execution_count": 119,
     "metadata": {},
     "output_type": "execute_result"
    }
   ],
   "source": [
    "moscow_times_articles[0]"
   ]
  },
  {
   "cell_type": "code",
   "execution_count": 114,
   "metadata": {},
   "outputs": [
    {
     "data": {
      "text/plain": [
       "54620"
      ]
     },
     "execution_count": 114,
     "metadata": {},
     "output_type": "execute_result"
    }
   ],
   "source": [
    "sum([elt[1] for elt in stats])"
   ]
  }
 ],
 "metadata": {
  "kernelspec": {
   "display_name": "Python 3",
   "language": "python",
   "name": "python3"
  },
  "language_info": {
   "codemirror_mode": {
    "name": "ipython",
    "version": 3
   },
   "file_extension": ".py",
   "mimetype": "text/x-python",
   "name": "python",
   "nbconvert_exporter": "python",
   "pygments_lexer": "ipython3",
   "version": "3.7.6"
  }
 },
 "nbformat": 4,
 "nbformat_minor": 2
}
