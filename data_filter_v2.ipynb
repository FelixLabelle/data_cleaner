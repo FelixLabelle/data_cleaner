{
 "cells": [
  {
   "cell_type": "code",
   "execution_count": 97,
   "metadata": {},
   "outputs": [
    {
     "data": {
      "text/plain": [
       "Counter({'The New York Times': 8217,\n",
       "         'CNN International': 2818,\n",
       "         'VOA Voice of America': 2511,\n",
       "         'Fox News': 5012,\n",
       "         'Global Times': 350,\n",
       "         'South China Morning Post': 5568,\n",
       "         'Hong Kong Free Press HKFP': 1013,\n",
       "         'China Daily': 3652,\n",
       "         'France 24': 4412,\n",
       "         'Agence France-Presse': 5578,\n",
       "         'Iran daily': 1996,\n",
       "         'Tehran Times': 650,\n",
       "         'IFPnews': 281,\n",
       "         'Entorno Inteligente': 2095,\n",
       "         'Latin American Herald Tribune': 2244,\n",
       "         'Sputnik': 5085,\n",
       "         'RT': 2298,\n",
       "         'The Moscow Times': 371,\n",
       "         'Meduza': 409,\n",
       "         'Al Jazeera English': 4117})"
      ]
     },
     "execution_count": 97,
     "metadata": {},
     "output_type": "execute_result"
    }
   ],
   "source": [
    "import json\n",
    "from collections import Counter\n",
    "from tqdm.notebook import tqdm\n",
    "\n",
    "# Maybe add military\n",
    "# Used wordnet to get additional synonyms\n",
    "# 'resist', 'dissent',\n",
    "protest_key_words = set([\n",
    "    'protest', 'protesters', 'protester',\n",
    "    'demonstration', 'demonstrations', 'demonstrators', 'demonstrator',\n",
    "    'clash', 'clashes', 'skirmish', 'skirmishes',\n",
    "    'riot', 'riots',\n",
    "    'barricades', 'barricade', 'barricaded', 'roadblock',\n",
    "    'tear', 'gas',\n",
    "    'unrest', 'unrests',\n",
    "    'revolt',\n",
    "    'upheaval', 'turmoil', 'agitation', 'agitate',\n",
    "    'uproar',\n",
    "    'resist', 'resisted', 'arrested', 'arrests',\n",
    "    'manifestation', 'manifestations',\n",
    "    'police', 'officers', 'officer', 'force', 'forces',\n",
    "])\n",
    "# Removed long (HK), yellow(France), avenue (France), latin (Venezuela)\n",
    "protest_specific_key_words = {\n",
    "'Venezuela':['maduro', 'guaido', 'venezuela', 'caracas', 'venezuelan', 'juan', 'venezuelans', 'nicolas', 'lopez', 'chavez', 'cabello', 'leopoldo', 'diosdado', 'hyperinflation', 'shortages', 'cucuta', 'hugo', 'padrino'],\n",
    "'France':['paris', 'macron', 'gilets', 'jaunes', 'jaune', 'gilet', 'french', 'france', 'champs', 'elysees', 'vest', 'vests', 'arc', 'triomphe', 'emmanuel', 'christophe', 'castaner', 'jackets', 'philippe', 'elysee', 'marseille', 'michel', 'edouard', 'lyon'],\n",
    "'Hong Kong':['hong', 'kong', 'china', 'lam', 'chinese', 'extradition', 'beijing', 'mainland', 'carrie', 'wong', 'yuen', 'cheung', 'chan', 'communist', 'xi', 'kowloon', 'xinjiang', 'kongers', 'chinese'],\n",
    "'Iran':['iran', 'iranian', 'tehran', 'soleimani', 'khamenei', 'irgc', 'ali', 'ayatollah', 'fadavi', 'drone', 'iranians', 'irbil', 'erbil', 'rouhani', 'mousavi', 'khuzestan', 'persian', 'zarif']\n",
    "}\n",
    "\n",
    "confounders = set(['latin', 'bolivia', 'bolivian'])\n",
    "\n",
    "with open('unfiltered_articles.json') as articles_fh:\n",
    "    unfiltered_articles = json.load(articles_fh)\n",
    "\n",
    "Counter([article['source']['title'] for article in unfiltered_articles])"
   ]
  },
  {
   "cell_type": "code",
   "execution_count": 98,
   "metadata": {},
   "outputs": [],
   "source": [
    "import unidecode\n",
    "import re\n",
    "from nltk.stem.snowball import PorterStemmer\n",
    "from collections import defaultdict\n",
    "\n",
    "\n",
    "def keywordCounter(tokenized_article, labeled_kws, protest_kw):\n",
    "    keyword_counts = defaultdict(lambda: 0)\n",
    "    label_counts = defaultdict(lambda: 0)\n",
    "    protest_counts = 0\n",
    "    for tok in tokenized_article:\n",
    "        for label, key_words in labeled_kws.items():\n",
    "            if tok in key_words:\n",
    "                label_counts[label] += 1\n",
    "                keyword_counts[tok] +=1\n",
    "        if tok in protest_kw:\n",
    "            protest_counts += 1\n",
    "    return keyword_counts, label_counts, protest_counts\n",
    "\n",
    "def preprocess_text(text, split=True, stem=True):\n",
    "    text = text.lower()\n",
    "    # Convert to ascii\n",
    "    text = unidecode.unidecode(text)\n",
    "    if split:\n",
    "        text = re.split('!?\\.?,?;?;?\\s+', text) #text.split() #[token for token in nlp(text)]\n",
    "    if stem:\n",
    "        stemmer = PorterStemmer()\n",
    "        text = [stemmer.stem(tok) for tok in text]\n",
    "    return text\n",
    "\n"
   ]
  },
  {
   "cell_type": "code",
   "execution_count": 99,
   "metadata": {},
   "outputs": [
    {
     "data": {
      "application/vnd.jupyter.widget-view+json": {
       "model_id": "6a54d4721b1e4c15a7f73faa789c8392",
       "version_major": 2,
       "version_minor": 0
      },
      "text/plain": [
       "HBox(children=(FloatProgress(value=0.0, max=58677.0), HTML(value='')))"
      ]
     },
     "metadata": {},
     "output_type": "display_data"
    },
    {
     "name": "stdout",
     "output_type": "stream",
     "text": [
      "\n"
     ]
    },
    {
     "data": {
      "application/vnd.jupyter.widget-view+json": {
       "model_id": "83538734a3a740c38b15ad1b4c9fb706",
       "version_major": 2,
       "version_minor": 0
      },
      "text/plain": [
       "HBox(children=(FloatProgress(value=0.0, max=58677.0), HTML(value='')))"
      ]
     },
     "metadata": {},
     "output_type": "display_data"
    },
    {
     "name": "stdout",
     "output_type": "stream",
     "text": [
      "\n"
     ]
    },
    {
     "data": {
      "application/vnd.jupyter.widget-view+json": {
       "model_id": "a6bd8fd88a82432286d9c7de6a4483a2",
       "version_major": 2,
       "version_minor": 0
      },
      "text/plain": [
       "HBox(children=(FloatProgress(value=0.0, max=58677.0), HTML(value='')))"
      ]
     },
     "metadata": {},
     "output_type": "display_data"
    },
    {
     "name": "stdout",
     "output_type": "stream",
     "text": [
      "\n"
     ]
    },
    {
     "data": {
      "text/plain": [
       "(defaultdict(<function __main__.keywordCounter.<locals>.<lambda>()>,\n",
       "             {'hong': 49,\n",
       "              'kong': 41,\n",
       "              'mainland': 6,\n",
       "              'extradition': 3,\n",
       "              'chinese': 8,\n",
       "              'beijing': 8,\n",
       "              'yuen': 2,\n",
       "              'carrie': 1,\n",
       "              'lam': 11,\n",
       "              'china': 3,\n",
       "              'chan': 5,\n",
       "              'cheung': 2,\n",
       "              'wong': 3,\n",
       "              'communist': 1}),\n",
       " defaultdict(<function __main__.keywordCounter.<locals>.<lambda>()>,\n",
       "             {'Hong Kong': 143}),\n",
       " 136)"
      ]
     },
     "execution_count": 99,
     "metadata": {},
     "output_type": "execute_result"
    }
   ],
   "source": [
    "processed_articles = [preprocess_text(article['body'], stem=False) for article in tqdm(unfiltered_articles)]\n",
    "raw_articles = [article['body'] for article in tqdm(unfiltered_articles)]\n",
    "kw_counts = [keywordCounter(article, protest_specific_key_words, protest_key_words) for article in tqdm(processed_articles)]\n",
    "kw_counts[0]"
   ]
  },
  {
   "cell_type": "code",
   "execution_count": 88,
   "metadata": {},
   "outputs": [
    {
     "data": {
      "image/png": "[encoded data removed]",
      "text/plain": [
       "<Figure size 432x288 with 1 Axes>"
      ]
     },
     "metadata": {
      "needs_background": "light"
     },
     "output_type": "display_data"
    },
    {
     "data": {
      "image/png": "[encoded data removed]",
      "text/plain": [
       "<Figure size 432x288 with 1 Axes>"
      ]
     },
     "metadata": {
      "needs_background": "light"
     },
     "output_type": "display_data"
    },
    {
     "data": {
      "image/png": "[encoded data removed]",
      "text/plain": [
       "<Figure size 432x288 with 1 Axes>"
      ]
     },
     "metadata": {
      "needs_background": "light"
     },
     "output_type": "display_data"
    },
    {
     "data": {
      "image/png": "[encoded data removed]",
      "text/plain": [
       "<Figure size 432x288 with 1 Axes>"
      ]
     },
     "metadata": {
      "needs_background": "light"
     },
     "output_type": "display_data"
    }
   ],
   "source": [
    "import matplotlib.pyplot as plt\n",
    "\n",
    "num_protests_per_article = [len(label_count) for kw_count, label_count, _ in kw_counts]\n",
    "min_kw_per_article = [min([val for _,val in label_count.items()]) for _, label_count, _ in kw_counts if label_count]\n",
    "max_kw_per_article = [max([val for _,val in label_count.items()]) for _, label_count, _ in kw_counts if label_count]\n",
    "protest_kws_counts = [protest_count for _, _, protest_count in kw_counts]\n",
    "\n",
    "plt.hist(num_protests_per_article)\n",
    "plt.xlabel(\"Number of protests in article\")\n",
    "plt.ylabel(\"Number of articles\")\n",
    "plt.show()\n",
    "\n",
    "plt.hist(min_kw_per_article)\n",
    "plt.xlabel(\"Min keywords per article\")\n",
    "plt.ylabel(\"Number of articles\")\n",
    "plt.show()\n",
    "\n",
    "plt.hist(max_kw_per_article)\n",
    "plt.xlabel(\"Max keywords per article\")\n",
    "plt.ylabel(\"Number of articles\")\n",
    "plt.show()\n",
    "\n",
    "plt.hist(protest_kws_counts, bins=120)\n",
    "plt.xlabel(\"Number of protest keywords per article\")\n",
    "plt.ylabel(\"Number of articles\")\n",
    "plt.show()"
   ]
  },
  {
   "cell_type": "code",
   "execution_count": 136,
   "metadata": {},
   "outputs": [
    {
     "name": "stdout",
     "output_type": "stream",
     "text": [
      "There are 5597 filtered articles, 2819 articles with low riot content, 1579 articles with few labels\n"
     ]
    }
   ],
   "source": [
    "def minKeywordFilter(kw_counts , label_threshold, protest_threshold, logic = \"gt\"):\n",
    "    _, label_counts, protest_kw_count =kw_counts \n",
    "    if label_counts:\n",
    "        label_count = min([val for _,val in label_counts.items()])\n",
    "        if logic == \"gt\":\n",
    "            return label_count >= label_threshold and protest_kw_count >= protest_threshold\n",
    "        elif logic == \"label_lt\":\n",
    "            return label_count < label_threshold and protest_kw_count >= protest_threshold\n",
    "        elif logic == \"protest_lt\":\n",
    "            return label_count >= label_threshold and protest_kw_count < protest_threshold\n",
    "    else:\n",
    "        return False\n",
    "\n",
    "LABEL_THRESHOLD = 5\n",
    "PROTEST_THRESHOLD = 10\n",
    "PROTEST_LOWER_BOUND = 2\n",
    "LABEL_LOWER_BOUND = 2\n",
    "article_tuples = list(zip(unfiltered_articles, processed_articles, kw_counts))\n",
    "kw_filtered_articles = [article_tuple for article_tuple in article_tuples if minKeywordFilter(article_tuple[2], LABEL_THRESHOLD, PROTEST_THRESHOLD)]\n",
    "removed_articles = [article_tuple for article_tuple in article_tuples if not minKeywordFilter(article_tuple[2], LABEL_THRESHOLD, PROTEST_THRESHOLD)]\n",
    "low_riot_articles = [article_tuple for article_tuple in article_tuples if minKeywordFilter(article_tuple[2], LABEL_THRESHOLD, PROTEST_LOWER_BOUND, logic=\"protest_lt\")]\n",
    "low_label_articles = [article_tuple for article_tuple in article_tuples if minKeywordFilter(article_tuple[2], LABEL_LOWER_BOUND, PROTEST_THRESHOLD, logic=\"label_lt\")]\n",
    "raw_filtered_texts = [article[0]['body'] for article in kw_filtered_articles]\n",
    "raw_filtered_kw = [article[2] for article in kw_filtered_articles]\n",
    "print(\"There are {} filtered articles, {} articles with low riot content, {} articles with few labels\".format(len(kw_filtered_articles), len(low_riot_articles), len(low_label_articles)))"
   ]
  },
  {
   "cell_type": "code",
   "execution_count": 140,
   "metadata": {},
   "outputs": [
    {
     "data": {
      "text/plain": [
       "[({'uri': '1442273209',\n",
       "   'lang': 'eng',\n",
       "   'isDuplicate': False,\n",
       "   'date': '2020-02-10',\n",
       "   'time': '13:14:00',\n",
       "   'dateTime': '2020-02-10T13:14:00Z',\n",
       "   'dateTimePub': '2020-02-10T13:12:00Z',\n",
       "   'dataType': 'news',\n",
       "   'sim': 0,\n",
       "   'url': 'https://www.scmp.com/business/china-business/article/3049887/hong-kong-cosmetic-retailer-sa-sa-closes-21-outlets-city',\n",
       "   'title': 'Sa Sa closes 21 outlets in Hong Kong, Macau amid coronavirus outbreak',\n",
       "   'body': 'Closure will affect about 8 per cent of the retailer\\'s total sales\\n\\nSa Sa International Holdings, Hong Kong\\'s biggest cosmetics retailer, has shut 21 stores in the city and Macau as part of cost-saving measures, as the coronavirus outbreak deters shoppers and travellers alike.\\n\\nThe 21 outlets closed include six in Kowloon, eight in the New Territories and three in Macau, Sa Sa said in a press release on Monday. The closure will affect about 8 per cent of the retailer\\'s total sales.\\n\\n\"The group will undertake flexible staff deployment based on business demand, arranging for employees in the affected stores to work in other ones,\" Sa Sa said in the statement. \"Meanwhile, the group will take different shifts to reduce the number of staff on duty and cut costs.\"\\n\\nThe outbreak, which originated in the central Chinese city of Wuhan, is aggravating the plight of many of Hong Kong\\'s industries. The anti-government protests, which started in the summer last year as protests against the now-withdrawn extradition bill, plunged the city\\'s economy into a technical recession, hurting sectors ranging from retail and catering to transport and even finance.\\n\\nHong Kong\\'s retail sales plunged 11 per cent from a year earlier to HK$431.2 billion (US$55.2 billion) last year, their steepest decline since 1998, amid the US-China trade war and the protests. They fell 24 per cent in the final three months of 2019, their worst quarter on record, as the unrest intensified.\\n\\nShares of Sa Sa have retreated 15 per cent this year, underperforming a 3.4 per cent loss on the Hang Seng Index.',\n",
       "   'source': {'uri': 'scmp.com',\n",
       "    'dataType': 'news',\n",
       "    'title': 'South China Morning Post'},\n",
       "   'authors': [],\n",
       "   'image': 'https://cdn.i-scmp.com/sites/default/files/styles/1280x720/public/d8/images/methode/2020/02/10/14d8760a-4c00-11ea-9b4e-9c10402c07b7_image_hires_202724.JPG?itok=RMqcjh0H',\n",
       "   'eventUri': None,\n",
       "   'sentiment': -0.2392156862745098,\n",
       "   'wgt': 2,\n",
       "   'relevance': 2},\n",
       "  ['closure',\n",
       "   'will',\n",
       "   'affect',\n",
       "   'about',\n",
       "   '8',\n",
       "   'per',\n",
       "   'cent',\n",
       "   'of',\n",
       "   'the',\n",
       "   \"retailer's\",\n",
       "   'total',\n",
       "   'sales',\n",
       "   'sa',\n",
       "   'sa',\n",
       "   'international',\n",
       "   'holdings',\n",
       "   'hong',\n",
       "   \"kong's\",\n",
       "   'biggest',\n",
       "   'cosmetics',\n",
       "   'retailer',\n",
       "   'has',\n",
       "   'shut',\n",
       "   '21',\n",
       "   'stores',\n",
       "   'in',\n",
       "   'the',\n",
       "   'city',\n",
       "   'and',\n",
       "   'macau',\n",
       "   'as',\n",
       "   'part',\n",
       "   'of',\n",
       "   'cost-saving',\n",
       "   'measures',\n",
       "   'as',\n",
       "   'the',\n",
       "   'coronavirus',\n",
       "   'outbreak',\n",
       "   'deters',\n",
       "   'shoppers',\n",
       "   'and',\n",
       "   'travellers',\n",
       "   'alike',\n",
       "   'the',\n",
       "   '21',\n",
       "   'outlets',\n",
       "   'closed',\n",
       "   'include',\n",
       "   'six',\n",
       "   'in',\n",
       "   'kowloon',\n",
       "   'eight',\n",
       "   'in',\n",
       "   'the',\n",
       "   'new',\n",
       "   'territories',\n",
       "   'and',\n",
       "   'three',\n",
       "   'in',\n",
       "   'macau',\n",
       "   'sa',\n",
       "   'sa',\n",
       "   'said',\n",
       "   'in',\n",
       "   'a',\n",
       "   'press',\n",
       "   'release',\n",
       "   'on',\n",
       "   'monday',\n",
       "   'the',\n",
       "   'closure',\n",
       "   'will',\n",
       "   'affect',\n",
       "   'about',\n",
       "   '8',\n",
       "   'per',\n",
       "   'cent',\n",
       "   'of',\n",
       "   'the',\n",
       "   \"retailer's\",\n",
       "   'total',\n",
       "   'sales',\n",
       "   '\"the',\n",
       "   'group',\n",
       "   'will',\n",
       "   'undertake',\n",
       "   'flexible',\n",
       "   'staff',\n",
       "   'deployment',\n",
       "   'based',\n",
       "   'on',\n",
       "   'business',\n",
       "   'demand',\n",
       "   'arranging',\n",
       "   'for',\n",
       "   'employees',\n",
       "   'in',\n",
       "   'the',\n",
       "   'affected',\n",
       "   'stores',\n",
       "   'to',\n",
       "   'work',\n",
       "   'in',\n",
       "   'other',\n",
       "   'ones,\"',\n",
       "   'sa',\n",
       "   'sa',\n",
       "   'said',\n",
       "   'in',\n",
       "   'the',\n",
       "   'statement',\n",
       "   '\"meanwhile',\n",
       "   'the',\n",
       "   'group',\n",
       "   'will',\n",
       "   'take',\n",
       "   'different',\n",
       "   'shifts',\n",
       "   'to',\n",
       "   'reduce',\n",
       "   'the',\n",
       "   'number',\n",
       "   'of',\n",
       "   'staff',\n",
       "   'on',\n",
       "   'duty',\n",
       "   'and',\n",
       "   'cut',\n",
       "   'costs.\"',\n",
       "   'the',\n",
       "   'outbreak',\n",
       "   'which',\n",
       "   'originated',\n",
       "   'in',\n",
       "   'the',\n",
       "   'central',\n",
       "   'chinese',\n",
       "   'city',\n",
       "   'of',\n",
       "   'wuhan',\n",
       "   'is',\n",
       "   'aggravating',\n",
       "   'the',\n",
       "   'plight',\n",
       "   'of',\n",
       "   'many',\n",
       "   'of',\n",
       "   'hong',\n",
       "   \"kong's\",\n",
       "   'industries',\n",
       "   'the',\n",
       "   'anti-government',\n",
       "   'protests',\n",
       "   'which',\n",
       "   'started',\n",
       "   'in',\n",
       "   'the',\n",
       "   'summer',\n",
       "   'last',\n",
       "   'year',\n",
       "   'as',\n",
       "   'protests',\n",
       "   'against',\n",
       "   'the',\n",
       "   'now-withdrawn',\n",
       "   'extradition',\n",
       "   'bill',\n",
       "   'plunged',\n",
       "   'the',\n",
       "   \"city's\",\n",
       "   'economy',\n",
       "   'into',\n",
       "   'a',\n",
       "   'technical',\n",
       "   'recession',\n",
       "   'hurting',\n",
       "   'sectors',\n",
       "   'ranging',\n",
       "   'from',\n",
       "   'retail',\n",
       "   'and',\n",
       "   'catering',\n",
       "   'to',\n",
       "   'transport',\n",
       "   'and',\n",
       "   'even',\n",
       "   'finance',\n",
       "   'hong',\n",
       "   \"kong's\",\n",
       "   'retail',\n",
       "   'sales',\n",
       "   'plunged',\n",
       "   '11',\n",
       "   'per',\n",
       "   'cent',\n",
       "   'from',\n",
       "   'a',\n",
       "   'year',\n",
       "   'earlier',\n",
       "   'to',\n",
       "   'hk$431.2',\n",
       "   'billion',\n",
       "   '(us$55.2',\n",
       "   'billion)',\n",
       "   'last',\n",
       "   'year',\n",
       "   'their',\n",
       "   'steepest',\n",
       "   'decline',\n",
       "   'since',\n",
       "   '1998',\n",
       "   'amid',\n",
       "   'the',\n",
       "   'us-china',\n",
       "   'trade',\n",
       "   'war',\n",
       "   'and',\n",
       "   'the',\n",
       "   'protests',\n",
       "   'they',\n",
       "   'fell',\n",
       "   '24',\n",
       "   'per',\n",
       "   'cent',\n",
       "   'in',\n",
       "   'the',\n",
       "   'final',\n",
       "   'three',\n",
       "   'months',\n",
       "   'of',\n",
       "   '2019',\n",
       "   'their',\n",
       "   'worst',\n",
       "   'quarter',\n",
       "   'on',\n",
       "   'record',\n",
       "   'as',\n",
       "   'the',\n",
       "   'unrest',\n",
       "   'intensified',\n",
       "   'shares',\n",
       "   'of',\n",
       "   'sa',\n",
       "   'sa',\n",
       "   'have',\n",
       "   'retreated',\n",
       "   '15',\n",
       "   'per',\n",
       "   'cent',\n",
       "   'this',\n",
       "   'year',\n",
       "   'underperforming',\n",
       "   'a',\n",
       "   '3.4',\n",
       "   'per',\n",
       "   'cent',\n",
       "   'loss',\n",
       "   'on',\n",
       "   'the',\n",
       "   'hang',\n",
       "   'seng',\n",
       "   'index.'],\n",
       "  (defaultdict(<function __main__.keywordCounter.<locals>.<lambda>()>,\n",
       "               {'hong': 3, 'kowloon': 1, 'chinese': 1, 'extradition': 1}),\n",
       "   defaultdict(<function __main__.keywordCounter.<locals>.<lambda>()>,\n",
       "               {'Hong Kong': 6}),\n",
       "   1))]"
      ]
     },
     "execution_count": 140,
     "metadata": {},
     "output_type": "execute_result"
    }
   ],
   "source": [
    "sample(low_riot_articles, k =1)"
   ]
  },
  {
   "cell_type": "code",
   "execution_count": 103,
   "metadata": {},
   "outputs": [
    {
     "name": "stdout",
     "output_type": "stream",
     "text": [
      "the latest unrest ramps up tensions in the financial hub which has been rocked by three weeks of historic demonstrations against a hugely unpopular bill that would allow extraditions to the chinese mainland tens of thousands of democracy activists staged another peaceful march on monday afternoon calling for the city's pro-beijing leader to step down and reverse what they see as years of sliding freedoms but that rally was overshadowed by small groups of mainly young masked protesters who besieged the legislature for hours sparking renewed clashes with police after two weeks of relative calm under the blazing summer sky the young demonstrators made multiple attempts to smash into the building using a metal cart as a battering ram and wielding steel poles to prize open gaps in the reinforced windows riot police appeared to have retreated deeper inside the complex or left the building which had been on lockdown an afp reporter at the scene said many of those protesting said they felt compelled to take the action because the city's pro-beijing leaders had ignored public sentiment \"we know that this is breaking the law but we have no choice,\" a 24-year-old protester surnamed cheung told afp but the increasingly hardline tactics from some protesters have alienated some with a large counter-rally in support of the police taking place on sunday although hong kong returned from british to chinese rule on july 1 1997 it is still administered separately under an arrangement known as \"one country two systems\" the city enjoys rights and liberties unseen on the autocratic mainland but many residents fear beijing is already reneging on that deal \"when i heard that there are clashes outside (parliament) i was very worried,\" amy siu a 37-year-old accountant taking part in the rally told afp \"i'm worried about the youngsters' safety i hope they can be rational.\" \"i would not blame the young people i blame the government,\" added an 80-year-old protester who gave his surname yeung but she has resisted calls to permanently shelve the law or step down as a result the demonstrations have morphed into a wider movement against her administration and beijing - champagne toasts & flags - lam -- who has kept out of the public eye since her climbdown and has record low approval ratings -- attended a flag-raising ceremony early monday marking the moment the city returned to chinese ownership 22 years ago \"what happened in recent months has caused conflicts and disputes between the government and residents,\" lam said \"it has made me fully understand that as a politician i need to be aware and accurately grasp the feelings of the people.\" she then raised a champagne toast alongside cabinet officials and two of her predecessors police said 13 officers were also sent to hospital after being doused by an \"unknown liquid\" from protesters while the government released a statement condemning protesters for using \"extreme violence.\" but activists have vowed to keep up their civil disobedience campaign \"whatever happens we won't lose heart,\" jason chan a 22-year-old accountant added \"resistance is not a matter of a day or a week it is long term.\"\n",
      "(defaultdict(<function keywordCounter.<locals>.<lambda> at 0x7ff511832050>, {'chinese': 3, 'mainland': 2, 'cheung': 1, 'hong': 1, 'kong': 1, 'beijing': 2, 'lam': 2, 'chan': 1}), defaultdict(<function keywordCounter.<locals>.<lambda> at 0x7ff511832e60>, {'Hong Kong': 13}), 19)\n"
     ]
    }
   ],
   "source": [
    "from random import sample\n",
    "\n",
    "sampled_articles = sample(kw_filtered_articles, k=20)\n",
    "sampled_articles = [\" \".join(sampled_article[1]) for sampled_article in sampled_articles]\n",
    "print(sampled_articles[0])\n",
    "print(keywordCounter(preprocess_text(sampled_articles[0], stem=False), protest_specific_key_words, protest_key_words))"
   ]
  },
  {
   "cell_type": "code",
   "execution_count": 104,
   "metadata": {},
   "outputs": [
    {
     "data": {
      "image/png": "[encoded data removed]",
      "text/plain": [
       "<Figure size 432x288 with 1 Axes>"
      ]
     },
     "metadata": {
      "needs_background": "light"
     },
     "output_type": "display_data"
    },
    {
     "data": {
      "image/png": "[encoded data removed]",
      "text/plain": [
       "<Figure size 432x288 with 1 Axes>"
      ]
     },
     "metadata": {
      "needs_background": "light"
     },
     "output_type": "display_data"
    },
    {
     "data": {
      "image/png": "[encoded data removed]",
      "text/plain": [
       "<Figure size 432x288 with 1 Axes>"
      ]
     },
     "metadata": {
      "needs_background": "light"
     },
     "output_type": "display_data"
    },
    {
     "data": {
      "image/png": "[encoded data removed]",
      "text/plain": [
       "<Figure size 432x288 with 1 Axes>"
      ]
     },
     "metadata": {
      "needs_background": "light"
     },
     "output_type": "display_data"
    }
   ],
   "source": [
    "import matplotlib.pyplot as plt\n",
    "\n",
    "filtered_kw_counts = [kw_count for _,_,kw_count in kw_filtered_articles]\n",
    "num_protests_per_article = [len(label_count) for kw_count, label_count, _ in filtered_kw_counts]\n",
    "min_kw_per_article = [min([val for _,val in label_count.items()]) for _, label_count, _ in filtered_kw_counts if label_count]\n",
    "max_kw_per_article = [max([val for _,val in label_count.items()]) for _, label_count, _ in filtered_kw_counts if label_count]\n",
    "protest_kws_counts = [protest_count for _, _, protest_count in filtered_kw_counts]\n",
    "#min_kw_per_article = [min([val for _,val in label_count]) for _, label_count in kw_counts]\n",
    "\n",
    "\n",
    "plt.hist(num_protests_per_article)\n",
    "plt.xlabel(\"Number of protests in article\")\n",
    "plt.ylabel(\"Number of articles\")\n",
    "plt.show()\n",
    "\n",
    "plt.hist(min_kw_per_article)\n",
    "plt.xlabel(\"Min keywords per article\")\n",
    "plt.ylabel(\"Number of articles\")\n",
    "plt.show()\n",
    "\n",
    "plt.hist(max_kw_per_article)\n",
    "plt.xlabel(\"Max keywords per article\")\n",
    "plt.ylabel(\"Number of articles\")\n",
    "plt.show()\n",
    "\n",
    "plt.hist(protest_kws_counts, bins=120)\n",
    "plt.xlabel(\"Number of protest keywords per article\")\n",
    "plt.ylabel(\"Number of articles\")\n",
    "plt.show()"
   ]
  },
  {
   "cell_type": "code",
   "execution_count": 175,
   "metadata": {},
   "outputs": [],
   "source": [
    "#corpus_tf_idfs = vectorizer.transform()\n",
    "\n",
    "\n",
    "def assign_label(tupl):\n",
    "    _, _, (kw, labels, _) = tupl\n",
    "    if len(labels) > 1:\n",
    "        return \"NA\"\n",
    "    else:\n",
    "        return [key for key in labels][0]\n",
    "\n",
    "def score_seed(tupl):\n",
    "    score = 0\n",
    "    _, _, (kw, labels, _) = tupl \n",
    "    if len(labels) == 1:\n",
    "        keys = [key for key in labels]\n",
    "        score = labels[keys[0]]\n",
    "    return score\n",
    "\n",
    "PROTESTS = ['Venezuela', 'France', 'Hong Kong', 'Iran']\n",
    "\n",
    "def gather_k_seeds(ranked_labelled_tuples, k =200):\n",
    "    seeds = defaultdict(list)\n",
    "    ranks = defaultdict(list)\n",
    "    for rank, label, tupl in ranked_labelled_tuples:\n",
    "        if len(seeds[label]) < k:\n",
    "            seeds[label].append(tupl)\n",
    "            ranks[label].append(rank)\n",
    "    return seeds, ranks\n",
    "\n",
    "SEED_SIZE = 150\n",
    "scored_examples = [(score_seed(tupl), tupl) for tupl in kw_filtered_articles]\n",
    "ranked_examples = sorted(scored_examples , key = lambda x: x[0], reverse=True)\n",
    "ranks, ranked_examples = zip(*ranked_examples)\n",
    "labels = [assign_label(tupl) for tupl in ranked_examples]\n",
    "labelled_ranks = list(zip(labels,ranks))\n",
    "ranked_labelled_tuples = list(zip(ranks,labels,ranked_examples))\n",
    "seeds, seed_ranks = gather_k_seeds(ranked_labelled_tuples, k = SEED_SIZE)\n",
    "\n",
    "\n",
    "# Add SEED_SIZE high label count articles, with few to no riot words\n",
    "seeds['NA'] += sample(low_label_articles, k = SEED_SIZE//2)\n",
    "# Add SEED_SIZE high riot count articles, with few labels\n",
    "seeds['NA'] += sample(low_riot_articles, k = SEED_SIZE//2)\n",
    "\n"
   ]
  },
  {
   "cell_type": "code",
   "execution_count": 176,
   "metadata": {},
   "outputs": [
    {
     "data": {
      "image/png": "[encoded data removed]",
      "text/plain": [
       "<Figure size 432x288 with 1 Axes>"
      ]
     },
     "metadata": {
      "needs_background": "light"
     },
     "output_type": "display_data"
    },
    {
     "data": {
      "image/png": "[encoded data removed]",
      "text/plain": [
       "<Figure size 432x288 with 1 Axes>"
      ]
     },
     "metadata": {
      "needs_background": "light"
     },
     "output_type": "display_data"
    },
    {
     "data": {
      "image/png": "[encoded data removed]",
      "text/plain": [
       "<Figure size 432x288 with 1 Axes>"
      ]
     },
     "metadata": {
      "needs_background": "light"
     },
     "output_type": "display_data"
    },
    {
     "data": {
      "image/png": "[encoded data removed]",
      "text/plain": [
       "<Figure size 432x288 with 1 Axes>"
      ]
     },
     "metadata": {
      "needs_background": "light"
     },
     "output_type": "display_data"
    }
   ],
   "source": [
    "import matplotlib.pyplot as plt\n",
    "\n",
    "num_protests_per_article = [len(label_count) for kw_count, label_count,_ in raw_filtered_kw]\n",
    "min_kw_per_article = [min([val for _,val in label_count.items()]) for _, label_count,_ in raw_filtered_kw if label_count]\n",
    "max_kw_per_article = [max([val for _,val in label_count.items()]) for _, label_count,_ in raw_filtered_kw if label_count]\n",
    "#min_kw_per_article = [min([val for _,val in label_count]) for _, label_count in kw_counts]\n",
    "\n",
    "plt.hist(num_protests_per_article)\n",
    "plt.show()\n",
    "\n",
    "plt.hist(min_kw_per_article)\n",
    "plt.show()\n",
    "\n",
    "plt.hist(max_kw_per_article)\n",
    "plt.show()\n",
    "\n",
    "plt.hist(labels)\n",
    "plt.show()"
   ]
  },
  {
   "cell_type": "code",
   "execution_count": 132,
   "metadata": {},
   "outputs": [
    {
     "name": "stdout",
     "output_type": "stream",
     "text": [
      "['venezuelan forces stationed along the country\\'s borders hurled tear gas at venezuela\\'s opposition and activists on saturday to block their efforts to bring in food and medicine authorities are calling the aid a veiled us-backed invasion opposition volunteers in neighbouring brazil and colombia plan to arrive at the border to help carry humanitarian aid to a sick and hungry population suffering from an economic meltdown under president nicolas maduro while the need for basic food and medicines is real the effort is also meant to embarrass military officers who continue to support maduro\\'s increasingly isolated government juan guaido recognised by most western nations as the country\\'s legitimate head of state defied court orders not to leave venezuela by arriving on friday in the colombian border city of cucuta where aid from the us and colombian governments is stockpiled in warehouses venezuelan forces on saturday hurled tear gas and fired rubber to break up a crowd demanding to cross the urena border bridge to colombia afp journalists reported as people chanted \"we want to work!\" while they faced venezuelan national guard riot police blocking the crossing this is one of several ordered closed by president nicolas maduro late friday emergency supplies guaido 35 head of the opposition-run congress has provided few details on the transport plan trucks are expected to be driven by venezuelan volunteers and some opposition figures have suggested forming human chains guaido\\'s supporters in colombia are indeed planning to cross the border carrying emergency supplies into venezuela \"today the obstacles that the dictatorship created will tomorrow be rivers of unity of peace,\" guaido said in a news conference on friday in cucuta where he was received by colombian president ivan duque venezuelan soldiers may bar the way vice president delcy rodriguez said in a tweet late on friday that venezuela\\'s government shut the tachira border that connects it with cucuta temporarily \"due to a series of illegal threats\" by colombia a group of frustrated venezuelans who were seeking to cross into colombia on saturday to go to work threw rocks and bottles at national guard troops who responded with tear gas a least four national guard officers deserted at least four national guard officers on saturday at the border disavowed maduro\\'s government and requested assistance from the colombian government colombia\\'s migration agency said on saturday videos on social media showed crowds first jeering and then cheering the men as they were escorted away by colombian police maduro blames the country\\'s dire situation on us sanctions that have blocked the country from obtaining financing and have hobbled the opec nation\\'s oil industry rodriguez says the aid is poisoned concerns about the potential for violence flared on friday when the venezuelan army opened fire in an village near the brazilian border after indigenous leaders attempted to prevent them from advancing killing a woman and her husband \"i don\\'t plan to leave my house over the weekend especially after what happened near brazil,\" said paulina sanchez a 68-year-old grandmother who lives just 300 meters (yards) from the francisco de paula santander bridge one of the crossings through which aid could pass \"this could turn into a powder keg.\" benefit concert gathered 200,000 attendees nearly 200,000 people attended a benefit concert in cucuta on friday featuring latin pop stars including luis fonsi of \"despacito\" fame many of whom called on maduro to step down a rival concert held by the ruling socialist party on the venezuelan side was sparsely attended guaido in january invoked articles of the constitution to assume interim presidency and denounced maduro as a usurper arguing his 2018 re-election was illegitimate.']\n",
      "(defaultdict(<function keywordCounter.<locals>.<lambda> at 0x7ff5129d3cb0>, {'venezuelan': 7, 'nicolas': 2, 'maduro': 5, 'juan': 1, 'guaido': 4, 'venezuela': 2, 'cucuta': 4, 'venezuelans': 1}), defaultdict(<function keywordCounter.<locals>.<lambda> at 0x7ff5129d3c20>, {'Venezuela': 26}), 14)\n"
     ]
    }
   ],
   "source": [
    "_,texts, _ = zip(*seeds['Venezuela'])\n",
    "curr_text = sample([\" \".join(text) for text in texts], k =1)\n",
    "print(curr_text)\n",
    "print(keywordCounter(preprocess_text(curr_text[0], stem=False), protest_specific_key_words, protest_key_words))"
   ]
  },
  {
   "cell_type": "code",
   "execution_count": 177,
   "metadata": {},
   "outputs": [
    {
     "name": "stderr",
     "output_type": "stream",
     "text": [
      "/home/felixlabelle3/.local/lib/python3.7/site-packages/sklearn/feature_extraction/text.py:385: UserWarning: Your stop_words may be inconsistent with your preprocessing. Tokenizing the stop words generated tokens ['abov', 'ani', 'becaus', 'befor', 'doe', 'dure', 'ha', 'hi', \"it'\", 'onc', 'onli', 'ourselv', \"she'\", \"should'v\", 'themselv', 'thi', 'veri', 'wa', 'whi', \"you'r\", \"you'v\", 'yourselv'] not in stop_words.\n",
      "  'stop_words.' % sorted(inconsistent))\n"
     ]
    },
    {
     "data": {
      "text/plain": [
       "27"
      ]
     },
     "execution_count": 177,
     "metadata": {},
     "output_type": "execute_result"
    }
   ],
   "source": [
    "from sklearn.feature_extraction.text import TfidfVectorizer\n",
    "from nltk.corpus import stopwords\n",
    "stop_words = set(stopwords.words('english'))\n",
    "\n",
    "# TODO: Consider adding n-grams after training the model a first time\n",
    "vectorizer = TfidfVectorizer(preprocessor=lambda x: x, tokenizer = preprocess_text, stop_words=stop_words, max_features=100000)\n",
    "seed_texts = [\" \".join(tupl[1]) for protest, seed in seeds.items() for tupl in seed]\n",
    "X = vectorizer.fit_transform(seed_texts)\n",
    "# CHECK THAT ALL KEYWORDS ARE IN YOUR VOCAB\n",
    "vec_line_up = [(label, key_word) for label, key_words in protest_specific_key_words.items() for key_word in key_words if key_word in vectorizer.vocabulary_]\n",
    "vocab_kws = set([kw for _, kw in vec_line_up])\n",
    "kw_set = set([kw for _, kws in protest_specific_key_words.items() for kw in kws])\n",
    "len([kw for kw in kw_set if kw not in vocab_kws])"
   ]
  },
  {
   "cell_type": "code",
   "execution_count": 178,
   "metadata": {},
   "outputs": [
    {
     "data": {
      "application/vnd.jupyter.widget-view+json": {
       "model_id": "470362d6213d404ca9d597368fbe2e0e",
       "version_major": 2,
       "version_minor": 0
      },
      "text/plain": [
       "HBox(children=(FloatProgress(value=0.0, max=150.0), HTML(value='')))"
      ]
     },
     "metadata": {},
     "output_type": "display_data"
    },
    {
     "name": "stdout",
     "output_type": "stream",
     "text": [
      "\n"
     ]
    },
    {
     "data": {
      "application/vnd.jupyter.widget-view+json": {
       "model_id": "f405d2ad6c8a4ee5b332de53b40c9331",
       "version_major": 2,
       "version_minor": 0
      },
      "text/plain": [
       "HBox(children=(FloatProgress(value=0.0, max=150.0), HTML(value='')))"
      ]
     },
     "metadata": {},
     "output_type": "display_data"
    },
    {
     "name": "stdout",
     "output_type": "stream",
     "text": [
      "\n"
     ]
    },
    {
     "data": {
      "application/vnd.jupyter.widget-view+json": {
       "model_id": "8aa2c86bea1c49a586bd9319e8ac1836",
       "version_major": 2,
       "version_minor": 0
      },
      "text/plain": [
       "HBox(children=(FloatProgress(value=0.0, max=150.0), HTML(value='')))"
      ]
     },
     "metadata": {},
     "output_type": "display_data"
    },
    {
     "name": "stdout",
     "output_type": "stream",
     "text": [
      "\n"
     ]
    },
    {
     "data": {
      "application/vnd.jupyter.widget-view+json": {
       "model_id": "698c72d83be04fbe8e2d1085951aa3b2",
       "version_major": 2,
       "version_minor": 0
      },
      "text/plain": [
       "HBox(children=(FloatProgress(value=0.0, max=134.0), HTML(value='')))"
      ]
     },
     "metadata": {},
     "output_type": "display_data"
    },
    {
     "name": "stdout",
     "output_type": "stream",
     "text": [
      "\n"
     ]
    },
    {
     "data": {
      "application/vnd.jupyter.widget-view+json": {
       "model_id": "8279311838dd40a9a2234361e208f0b8",
       "version_major": 2,
       "version_minor": 0
      },
      "text/plain": [
       "HBox(children=(FloatProgress(value=0.0, max=197.0), HTML(value='')))"
      ]
     },
     "metadata": {},
     "output_type": "display_data"
    },
    {
     "name": "stdout",
     "output_type": "stream",
     "text": [
      "\n"
     ]
    }
   ],
   "source": [
    "from random import sample \n",
    "\n",
    "featurized_seeds = []\n",
    "labels = []\n",
    "seed_texts = []\n",
    "for protest, seed in seeds.items():\n",
    "    for tupl in tqdm(seed):\n",
    "        featurized_seeds.append(vectorizer.transform([\" \".join(tupl[1])]).toarray().flatten())\n",
    "        seed_texts.append(\" \".join(tupl[1]))\n",
    "        labels.append(protest)"
   ]
  },
  {
   "cell_type": "code",
   "execution_count": 54,
   "metadata": {},
   "outputs": [
    {
     "name": "stdout",
     "output_type": "stream",
     "text": [
      "[((defaultdict(<function keywordCounter.<locals>.<lambda> at 0x7f68e1f4b050>, {'latin': 2}), defaultdict(<function keywordCounter.<locals>.<lambda> at 0x7f68e1f4b0e0>, {'Venezuela': 2}), 13), 'earlier on friday thousands of chileans gathered in the centre of santiago for the latest in a series of rallies that initially erupted in october over a spike in transportation costs which have evolved into larger protests targeting economic and social policies hooded protesters in chile\\'s capital santiago looted a roman catholic church on 8 november near plaza italia square - the main venue of weeks of mass anti-government protests the ap reports people were seen dragging religious adornments out of la asuncion church and adding them to a barricade that was set on fire the church was reportedly stripped bare as everything from church pews to statues of jesus and other religious iconography were carried out into the street with the ashes from the blaze spreading to santiago\\'s plaza italia square where according to the chilean capital\\'s mayor an estimated 75,000 people had crowded chanting and holding banners with many turning on the lights on their cellphones and waving chilean national flags rock-throwing demonstrators clashed with riot police a short time after the church was looted as the authorities responded with tear gas and water cannons there were plumes of smoke seen billowing from the nearby headquarters of pedro de valdivia university which was also looted authorities were reported to be still investigating the cause of the fire as it wasn\\'t clear if the protesters had torched it chile\\'s president vows to crack down on crime earlier on friday thousands of people had gathered in the capital\\'s square as truck drivers and students were protesting against a spate of security measures announced by chilean president sebastian pinera earlier in the week what began as a relatively peaceful protest shortly escalated as a large group of black-clad hooded protesters led the raid on the church on thursday chile\\'s president sebastian pinera said he would send bills to chile\\'s congress to toughen penalties against looting violence and destruction committed during protests particularly for hooded perpetrators trying to hide their identities pinera vowed to beef up intelligence-gathering activities saying in a televised speech: \"one of the principal responsibilities of the state is to ensure public order and security.\" he added that police and security forces in chile had \"total support\" from his administration pinera is also expected to reshuffle his cabinet and announced a raise in the minimum salary chile\\'s worst unrest since the end of augusto pinochet\\'s dictatorship in 1990 is reported to have wrought more than $1.5 billion in damage to businesses protests show no sign of abating santiago\\'s plaza italia has been used for three weeks now as the main gathering site for mass demonstrations as nationwide protests are estimated to have left 20 dead so far and a further 2,500 injured (c) sputnik / francisco bravo protests in chile initially the unrest was sparked last month by a public transport peak-time fare hike that prompted students to start jumping turnstiles in protest like many latin american countries chile has a high degree of income inequality ranking among the top 25 most unequal countries in the world according to the world bank estimate of its gini index the turmoil gradually escalated and spread nationwide with a broad range of demands put forward that included improvements in education and health care resource-rich chile has long been seen as a stable democracy with south america\\'s highest per-capita income however this has failed to save the country from a wave of protests which have hit several countries in latin america in the past few months including bolivia and ecuador analysts cited by afp claim there has been an accumulation of anger as the working class has failed to share in the benefits of three decades of growth with economic and political power in the country vested in the hands of a wealthy minority that display a disconnect with the population they also cite popular frustration over a spate of high-profile corruption cases involving money laundering tax fraud and illegal political party financing where those convicted have successfully dodged prison sentences.'), ((defaultdict(<function keywordCounter.<locals>.<lambda> at 0x7f68e1777830>, {'venezuela': 9, 'nicolas': 2, 'maduro': 6, 'juan': 1, 'guaido': 4, 'venezuelan': 5, 'caracas': 4, 'shortages': 1, 'hyperinflation': 1, 'cucuta': 2}), defaultdict(<function keywordCounter.<locals>.<lambda> at 0x7f68e17778c0>, {'Venezuela': 35}), 8), 'two killed as opposition tries to move aid into venezuela sparking running battles along border bridges venezuela\\'s embattled president nicolas maduro has severed diplomatic ties with colombia amid escalating tension over an opposition-led effort to bring foreign aid across the countries\\' mutual border maduro on saturday said colombian diplomats had been ordered to leave venezuela which is in the grip of a major economic crisis within the next 24 hours his announcement took place against a backdrop of deadly border clashes which saw two people killed in unrest near brazil and at least 23 soldiers switch loyalties to opposition leader juan guaido amid an increasingly unpredictable and unruly fight for power in the oil-rich south american nation reacting to maduro\\'s decision colombia\\'s foreign minister carlos holmes trujillo said bogota did not recognise the \"legitimacy\" of the venezuelan leader but would withdraw its diplomatic staff from caracas as soon as possible in order to protect their \"life and integrity\" the diplomatic spat came as protests against maduro\\'s rule convulsed venezuelan border towns and the capital caracas with security forces ordered to seal the country\\'s entry and exit points in a bid to prevent food and medical supplies from crossing government blockades maduro has routinely denied there is a humanitarian crisis in venezuela - despite the country being racked by widespread shortages of basic supplies and rampant hyperinflation he alleges the aid packages are part of a us-engineered plan to remove him from power venezuela\\'s national guard fired tear gas on young protesters on saturday who were trying to clear a barricaded border bridge to colombia the clashes occurred after opposition leader guaido who most western nations recognise as the country\\'s legitimate leader gave a personal send off to an aid caravan from the colombian border city of cucuta guaido briefly boarded one of a dozen trucks carrying the us-backed aid before they set off towards the border where they were pushed back by venezuelan security forces colombia\\'s migration agency said their contents would be unloaded at the simon bolivar bridge which connects colombia with neighbouring venezuela and transported and transported by \"human chains\" that had formed on the road but that plan did not work two of the trucks were set on fire by venezuelan security personnel as they crossed into venezuela two remaining trucks retreated into columbia al jazeera\\'s alessandro rampietti reporting from cucuta on saturday said the opposition had \"given up on getting the aid through at least for today\" as a result of the venezuelan security forces\\' blocking efforts \"it\\'s been a long day of fighting over this bridge,\" rampietti said adding that colombian authorities had confirmed 23 members of venezuela\\'s armed forces had defected since the beginning of saturday and 12 people had been wounded by rubber bullets fired by security forces at least two people were killed during a separate effort on saturday aimed at transporting aid into venezuela via the country\\'s border with brazil the afp news agency reported citing the venezuela-based foro penal human rights group guaido claimed in a tweet the aid had succesfuly passed into venezuela but al jazeera was not able to verify this brazil\\'s foreign minister ernesto araujo meanwhile said he expected maduro\\'s government to allow the aid to pass into venezuela the associated press news agency reported \"it is very exciting to see people anxious to recover their freedom and have a decent life,\" araujo said during a speech to a crowd of thousands on saturday at an outdoor rally in venezuela\\'s capital caracas maduro slammed those attempting to bring food and medical supplies into the country as \"traitors\" \"[for our] dignity we will fight harder than ever,\" maduro said \"days will go by weeks will go by and nicolas maduro the worker\\'s president will continue at the head of the motherland,\" he added his comments came as rival demonstrations took place in caracas with thousands of loyalists marching to the city centre in a show of support for his leadership while a smaller anti-maduro demonstration converged on a military air base in a bid to urge soldiers to join their movement us president donald trump meanwhile said in a tweet on saturday that the \"people of venezuela stand at the threshold of history ready to reclaim their country - and their future\".'), ((defaultdict(<function keywordCounter.<locals>.<lambda> at 0x7f68e2373320>, {'venezuela': 12, 'juan': 2, 'guaido': 3, 'nicolas': 2, 'maduro': 3, 'caracas': 1, 'venezuelans': 2, 'cucuta': 3, 'venezuelan': 2}), defaultdict(<function keywordCounter.<locals>.<lambda> at 0x7f68e23733b0>, {'Venezuela': 30}), 16), 'venezuela\\'s national guard fired tear gas at protesters clearing a barricaded border bridge between venezuela and colombia on saturday heightening tensions over blocked humanitarian aid that opposition leader juan guaido has vowed to bring into the country despite objections from president nicolas maduro  throughout the turbulent day as police and protesters squared off two bridges connecting venezuela to colombia guaido made repeated calls for the military to join him in the fight against maduro\\'s \"dictatorship\" colombian authorities said more than 60 soldiers answered his call deserting their posts in often gripping fashion though most were lower in rank and didn\\'t appear to dent the higher command\\'s continued loyalty to maduro\\'s socialist government in one dramatic high point a group of activists led by exiled legislators managed to escort three flatbed trucks of aid past the halfway point into venezuela when they were repelled by security forces in a flash the cargo caught fire with some witnesses claiming the troops doused a tarp covering the boxes with gas before setting it on fire during a speech in front of a crowd of thousands on saturday at an outdoor rally in caracas maduro slammed those attempting to bring food and medical supplies into the country as \"traitors\" hundreds of venezuelans gathered on the colombian side of the simon bolivar international bridge that connects cucuta with san antonio in the venezuelan state of tachira to form a corridor that allows humanitarian aid to go to their country [mauricio duenas castaneda/epa] a truck that was carrying humanitarian aid for venezuela is seen on fire after clashes between opposition supporters and venezuela\\'s security forces at francisco de paula santander bridge on the border line between colombia and venezuela [marco bello/reuters] an officer of the bolivarian national guard fires his shotgun during clashes in urena venezuela near the border with colombia venezuela\\'s national guard fired tear gas on residents clearing a barricaded border bridge between venezuela and colombia on saturday heightening tensions over blocked humanitarian aid that opposition leader juan guaido has vowed to bring into the country over objections from president nicolas maduro [fernando llano/ap photo] a demonstrator is given first aid after he was injured in the face during clashes with the bolivarian national guard in urena venezuela near the border with colombia [rodrigo abd/ap photo] a demonstrator falls after getting caught in a strand of barbed wire during clashes with the bolivarian national guard in urena venezuela [fernando llano/ap photo] a man is arrested during clashes with the bolivarian national guard in urena venezuela [rodrigo abd/ap photo] a wounded man is rescued during clashes between the venezuelan police and protesters that occured at the simon bolivar international bridge in cucuta colombia [ernesto guzman jr/epa] venezuelans sit atop a semi-trailer with national flags and white roses accompanying us humanitarian aid destined for venezuela in cucuta colombia on saturday [fernando vergara/ap photo] demonstrators push a bus that was torched during clashes with the bolivarian national guard in urena venezuela near the border with colombia [rodrigo abd/ap photo]link original: aljazeera')]\n"
     ]
    }
   ],
   "source": [
    "NUM_SEED_SAMPLES = 3\n",
    "_, texts, kws = zip(*seeds['Venezuela'])\n",
    "texts = [\" \".join(text) for text in texts]\n",
    "print(sample(list(zip(kws,texts)), k=NUM_SEED_SAMPLES))"
   ]
  },
  {
   "cell_type": "code",
   "execution_count": 179,
   "metadata": {},
   "outputs": [
    {
     "data": {
      "text/plain": [
       "0.9599358974358975"
      ]
     },
     "execution_count": 179,
     "metadata": {},
     "output_type": "execute_result"
    }
   ],
   "source": [
    "from sklearn.model_selection import train_test_split\n",
    "from sklearn.linear_model import LogisticRegression\n",
    "\n",
    "X_train, X_test, y_train, y_test = train_test_split( featurized_seeds, labels, test_size=0.2, random_state=42)\n",
    "clf = LogisticRegression(random_state=0).fit(X_train, y_train)\n",
    "clf.score(X_train, y_train)"
   ]
  },
  {
   "cell_type": "code",
   "execution_count": 180,
   "metadata": {},
   "outputs": [
    {
     "data": {
      "text/plain": [
       "'              precision    recall  f1-score   support\\n\\n      France       0.94      1.00      0.97        29\\n   Hong Kong       0.93      0.93      0.93        30\\n        Iran       0.93      1.00      0.97        28\\n          NA       0.89      0.81      0.85        42\\n   Venezuela       0.93      0.93      0.93        28\\n\\n    accuracy                           0.92       157\\n   macro avg       0.93      0.93      0.93       157\\nweighted avg       0.92      0.92      0.92       157\\n'"
      ]
     },
     "execution_count": 180,
     "metadata": {},
     "output_type": "execute_result"
    }
   ],
   "source": [
    "from sklearn.metrics import f1_score,classification_report\n",
    "\n",
    "clf.score(X_test, y_test)\n",
    "y_preds = clf.predict(X_test)\n",
    "f1_score(y_test, y_preds, average='weighted')\n",
    "classification_report(y_test, y_preds)"
   ]
  },
  {
   "cell_type": "code",
   "execution_count": 181,
   "metadata": {},
   "outputs": [
    {
     "name": "stdout",
     "output_type": "stream",
     "text": [
      "Extracting features over entire dataset\n"
     ]
    },
    {
     "data": {
      "application/vnd.jupyter.widget-view+json": {
       "model_id": "fd01480dba384b9ba95a3981144907a3",
       "version_major": 2,
       "version_minor": 0
      },
      "text/plain": [
       "HBox(children=(FloatProgress(value=0.0, max=58677.0), HTML(value='')))"
      ]
     },
     "metadata": {},
     "output_type": "display_data"
    },
    {
     "name": "stdout",
     "output_type": "stream",
     "text": [
      "\n"
     ]
    }
   ],
   "source": [
    "print(\"Extracting features over entire dataset\")\n",
    "article_features = [vectorizer.transform([article]) for article in tqdm(raw_articles)]"
   ]
  },
  {
   "cell_type": "code",
   "execution_count": 182,
   "metadata": {},
   "outputs": [
    {
     "data": {
      "application/vnd.jupyter.widget-view+json": {
       "model_id": "81ff620ce0af4d6fa29a95782fbc0c22",
       "version_major": 2,
       "version_minor": 0
      },
      "text/plain": [
       "HBox(children=(FloatProgress(value=0.0, max=58677.0), HTML(value='')))"
      ]
     },
     "metadata": {},
     "output_type": "display_data"
    },
    {
     "name": "stdout",
     "output_type": "stream",
     "text": [
      "\n"
     ]
    },
    {
     "data": {
      "application/vnd.jupyter.widget-view+json": {
       "model_id": "042224961fb34b58b9ddca8f168b15e8",
       "version_major": 2,
       "version_minor": 0
      },
      "text/plain": [
       "HBox(children=(FloatProgress(value=0.0, max=58677.0), HTML(value='')))"
      ]
     },
     "metadata": {},
     "output_type": "display_data"
    },
    {
     "name": "stdout",
     "output_type": "stream",
     "text": [
      "\n"
     ]
    }
   ],
   "source": [
    "article_scores = [clf.predict_proba(article_feature.toarray()) for article_feature in tqdm(article_features)]\n",
    "article_preds = [clf.predict(article_feature.toarray()) for article_feature in tqdm(article_features)]"
   ]
  },
  {
   "cell_type": "code",
   "execution_count": 92,
   "metadata": {},
   "outputs": [
    {
     "data": {
      "text/plain": [
       "13980"
      ]
     },
     "execution_count": 92,
     "metadata": {},
     "output_type": "execute_result"
    }
   ],
   "source": [
    "sum([val for _, val in Counter([pred[-1] for _,_,pred in thresholded_articles]).items()])"
   ]
  },
  {
   "cell_type": "code",
   "execution_count": 183,
   "metadata": {},
   "outputs": [
    {
     "name": "stdout",
     "output_type": "stream",
     "text": [
      "Counter({'Hong Kong': 3847, 'Iran': 1863, 'Venezuela': 1853, 'France': 1627}) 9190\n"
     ]
    }
   ],
   "source": [
    "from collections import Counter\n",
    "\n",
    "# Come up with a thresholding scheme\n",
    "MIN_CONFIDENCE = 0\n",
    "# Remove weak candidates\n",
    "thresholded_articles =  [(article, score.tolist(), pred[0]) for article, score, pred in zip(unfiltered_articles, article_scores, article_preds) if score.max() >= MIN_CONFIDENCE and pred != \"NA\"]\n",
    "# Label the remaining articles\n",
    "# Check stats (Protests, KWs, etc..)\n",
    "highest_NA = sorted(list(zip(article_scores, raw_articles)), key=lambda x : x[0][0][-2], reverse=True)\n",
    "highest_NA[95:100]\n",
    "\n",
    "article_counts = Counter([pred for _,_,pred in thresholded_articles])\n",
    "print(article_counts, sum([val for _, val in article_counts.items()]))"
   ]
  },
  {
   "cell_type": "code",
   "execution_count": 40,
   "metadata": {},
   "outputs": [
    {
     "data": {
      "text/plain": [
       "array(['France', 'Hong Kong', 'Iran', 'NA', 'Venezuela'], dtype='<U9')"
      ]
     },
     "execution_count": 40,
     "metadata": {},
     "output_type": "execute_result"
    }
   ],
   "source": [
    "list(zip(article_scores, raw_articles))[0][-1]\n",
    "clf.classes_"
   ]
  },
  {
   "cell_type": "code",
   "execution_count": 184,
   "metadata": {},
   "outputs": [],
   "source": [
    "with open('filtered_data_v5.json', 'w+') as filtered_data_fh:\n",
    "    json.dump(thresholded_articles, filtered_data_fh)"
   ]
  }
 ],
 "metadata": {
  "kernelspec": {
   "display_name": "Python 3",
   "language": "python",
   "name": "python3"
  },
  "language_info": {
   "codemirror_mode": {
    "name": "ipython",
    "version": 3
   },
   "file_extension": ".py",
   "mimetype": "text/x-python",
   "name": "python",
   "nbconvert_exporter": "python",
   "pygments_lexer": "ipython3",
   "version": "3.7.6"
  }
 },
 "nbformat": 4,
 "nbformat_minor": 4
}
