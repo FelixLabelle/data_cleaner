{
 "cells": [
  {
   "cell_type": "code",
   "execution_count": 2,
   "metadata": {},
   "outputs": [],
   "source": [
    "import json\n",
    "from tqdm.notebook import tqdm\n",
    "\n",
    "# Maybe add military\n",
    "protest_key_words = set([\n",
    "    'protest', 'protesters', 'protester',\n",
    "    'demonstration', 'demonstrations', 'demonstrators', 'demonstrator'\n",
    "    'clash', 'clashes',\n",
    "    'riot', 'riots',\n",
    "    'barricades', 'barricade',\n",
    "    'tear', 'gas',\n",
    "    'unrest', 'unrests',\n",
    "    'revolt',\n",
    "    'upheaval',\n",
    "    'uproar',\n",
    "    'manifestation', 'manifestations'\n",
    "])\n",
    "# Removed long (HK), yellow(France), avenue (France)\n",
    "protest_specific_key_words = {\n",
    "'Venezuela':['maduro', 'guaido', 'venezuela', 'caracas', 'venezuelan', 'juan', 'venezuelans', 'nicolas', 'lopez', 'chavez', 'cabello', 'leopoldo', 'diosdado', 'hyperinflation', 'latin', 'shortages', 'cucuta', 'hugo', 'padrino'],\n",
    "'France':['paris', 'macron', 'french', 'france', 'champs', 'elysees', 'vest', 'vests', 'arc', 'triomphe', 'emmanuel', 'christophe', 'castaner', 'jackets', 'philippe', 'elysee', 'marseille', 'michel', 'edouard', 'lyon'],\n",
    "'Hong Kong':['hong', 'kong', 'china', 'lam', 'chinese', 'extradition', 'beijing', 'mainland', 'carrie', 'wong', 'yuen', 'cheung', 'chan', 'communist', 'xi', 'kowloon', 'xinjiang', 'kongers', 'chinese'],\n",
    "'Iran':['iran', 'iranian', 'tehran', 'soleimani', 'khamenei', 'irgc', 'ali', 'ayatollah', 'fadavi', 'drone', 'iranians', 'irbil', 'erbil', 'rouhani', 'mousavi', 'khuzestan', 'persian', 'zarif']\n",
    "}\n",
    "\n",
    "with open('unfiltered_articles.json') as articles_fh:\n",
    "    unfiltered_articles = json.load(articles_fh)"
   ]
  },
  {
   "cell_type": "code",
   "execution_count": 3,
   "metadata": {},
   "outputs": [],
   "source": [
    "import unidecode\n",
    "import re\n",
    "from nltk.stem.snowball import PorterStemmer\n",
    "#import spacy\n",
    "#nlp = spacy.load(\"en_core_web_sm\")\n",
    "#doc = nlp(\"Apple is looking at buying U.K. startup for $1 billion\")\n",
    "\n",
    "def preprocess_text(text, split=True, stem=True):\n",
    "    text = text.lower()\n",
    "    # Convert to ascii\n",
    "    text = unidecode.unidecode(text)\n",
    "    if split:\n",
    "        text = re.split('!?\\.?,?;?;?\\s+', text) #text.split() #[token for token in nlp(text)]\n",
    "    if stem:\n",
    "        stemmer = PorterStemmer()\n",
    "        text = [stemmer.stem(tok) for tok in text]\n",
    "    return text\n",
    "\n"
   ]
  },
  {
   "cell_type": "code",
   "execution_count": 4,
   "metadata": {},
   "outputs": [
    {
     "data": {
      "application/vnd.jupyter.widget-view+json": {
       "model_id": "23ed6be77b6a4ca390185421dd3a4e2c",
       "version_major": 2,
       "version_minor": 0
      },
      "text/plain": [
       "HBox(children=(FloatProgress(value=0.0, max=58677.0), HTML(value='')))"
      ]
     },
     "metadata": {},
     "output_type": "display_data"
    },
    {
     "name": "stdout",
     "output_type": "stream",
     "text": [
      "\n"
     ]
    },
    {
     "data": {
      "text/plain": [
       "'Demonstrators are moving between districts, blocking roads and setting fires.\\n\\nHere\\'s what you need to know:Tear gas engulfed districts as protesters besieged police stations.City\\'s leader warns protesters against challenging Beijing.Protesters occupy a shopping mall where clashes erupted last month.Demonstrators rally across the city.Police say hundreds have been arrested this summer.Tear gas engulfed districts as protesters besieged police stations.\\n\\nRiot police officers fired many volleys of tear gas at protesters near government offices, apartment complexes, shopping malls and parks across Hong Kong on Monday, as clashes with demonstrators plunged a broad stretch of the territory into chaos.\\n\\nAntigovernment demonstrators fanned out across at least a half-dozen districts, occupying roads and hurling objects at police stations as they tested the limits of the police force. They set a fire outside a police station in Sha Tin, in the New Territories region of northern Hong Kong, that quickly swelled until flames licked the sides of the building. Firefighters extinguished the blaze.\\n\\nLocations of protests on Monday\\n\\nBy The New York Times\\n\\nActivists called for a general strike and rallies on Monday, leading to service disruptions on several subway and rail lines and the cancellation of more than 200 flights from the city\\'s airport.\\n\\nThe officers arrested dozens of people, pinning some to the ground, and fired multiple rounds of tear gas, filling the air with white, acrid fumes. Local news outlets said that the riot officers also shot off rubber bullets.\\n\\nThe clashes on Monday were particularly widespread, even by the standards of the unrest that has roiled the city almost every weekend since early June. The clashes encompassed several districts where clashes had occurred in recent days and weeks, including several working-class neighborhoods, a shopping mall that is popular with mainland tourists, and a highway near the Hong Kong legislature. But the protests also ventured into other areas, including a town in Hong Kong\\'s northern reaches that had not previously been the site of any violence.\\n\\nThe police have repeatedly defended their use of tear gas, saying it is deployed only to disperse demonstrators who gather illegally or vandalize property. They have urged residents to stay indoors and keep their windows closed during such crackdowns.\\n\\nBut protesters and their supporters say the police are using tear gas indiscriminately. Many have raised questions about how the spraying of tear gas in dense urban areas might affect the health of vulnerable residents, such as pregnant women and old people.\\n\\n[A general strike has disrupted transit and led to canceled flights.]\\n\\nThe mass demonstrations started in early June over an unpopular extradition bill, but the protesters\\' demands quickly expanded to include calls for an independent commission to investigate alleged police misconduct, for the resignation of the city\\'s top leader and for the release of detained protesters.\\n\\nThe protesters have also increasingly called for greater democracy in the territory -- a reflection of pent-up anger and frustration with the rapid erosion of civil liberties in Hong Kong under Chinese rule. There is a widespread perception that the territory\\'s political elite is more beholden to Beijing than to local residents.\\n\\nSeparately, video footage circulating Monday morning appeared to show a van breaking through a barricade that protesters had set up on a road in the satellite town of Yuen Long, where a mob attacked protesters last month.\\n\\nAs the vehicle drove through, it scattered the crowd and appeared to hit at least one protester.\\n\\nLate Monday, a large group of men armed with long sticks attacked the protesters in the eastern district of North Point, local news outlets reported. Earlier, the protesters had warned in chat groups about the presence of the mob.\\n\\nCity\\'s leader warns protesters against challenging Beijing.\\n\\nThe embattled chief executive of Hong Kong warned that the antigovernment protests that have roiled the city for two months sought to challenge Beijing\\'s authority in ways that were \"very dangerous\" and would ruin the semiautonomous territory\\'s future.\\n\\nIn a news conference on Monday, the territory\\'s leader, Carrie Lam, condemned the increasingly confrontational tactics of protesters in recent weeks and vowed to restore law and order in the financial hub.\\n\\n\"This is the time for us to rally together, to set aside differences and bring back order and say \\'no\\' to chaos and violence,\" Ms. Lam said as the city was brought to standstill on Monday during a general strike and demonstrations that interrupted the morning commute for millions of people.\\n\\nIn recent demonstrations, a core group of protesters have tried to surround the central government\\'s representative office in the city, taunted mainland Chinese shoppers and traders, and over the past weekend threw the Chinese flag into the Victoria Harbor in a move that was swiftly condemned by Beijing.\\n\\n\"Some people have tarnished the national emblem and even removed the national flag and thrown it into the sea,\" Mrs. Lam said.\\n\\n\"In recent days, what we can see are obvious and willful statements of \\'Restore Hong Kong, revolution of our times,\\'\" Mrs. Lam said, citing a slogan from a pro-independence movement that has re-emerged in recent protest chants.\\n\\n\"We can see some actions challenging \\'One Country, Two Systems\\' and the country\\'s national sovereignty, and if I can even speak more boldly, they want to topple Hong Kong, to thoroughly destroy the livelihoods that 7 million people cherish.\"\\n\\nThe demonstrations began this summer initially as a way to protest a bill that would allow residents and visitors to Hong Kong to be extradited to mainland China for trial. Ms. Lam repeated her stance that the bill was \"dead,\" and said the city should not let the protesters use the cause as a pretext for pushing against Chinese rule.\\n\\n\"If we continue to allow these violent protesters to make use of the Fugitive Offenders\\' bill and these demands to conceal their ulterior motives, that is going to push Hong Kong to the verge of a very dangerous situation,\" she said.\\n\\nProtesters occupy a shopping mall where clashes erupted last month.\\n\\nHong Kong\\'s finance secretary, Paul Chan, told reporters on Monday morning that a summer of protests had already depressed the city\\'s economic growth. As an example, he cited sagging profits in the city\\'s luxury retail and jewelry sectors.\\n\\nHours later, as if to underscore Mr. Chan\\'s point, thousands of protesters streamed into a luxury mall, scattering bewildered shoppers in their wake.\\n\\nMany of the protesters sat on the mall\\'s ground floor, while others stood on a balcony holding yellow signs that said \"strike,\" \"boycott business,\" and \"boycott classes.\"\\n\\nThe mall, New Town Plaza in Sha Tin, was the site of a frenzied brawl last month between police and protesters that left more than two dozen people injured.\\n\\n\"I\\'m here because I\\'m on strike today. This city needs saving, so how can we still go to work like nothing is wrong?\" said Tammy Chan, 28, who said she works in human resources. \"I understand that people might have different values, and they might think that their jobs and their money are more important. But the truth is, if our home is destroyed by the Beijing government and all their lackeys, money isn\\'t going to be able to fix this society.\"\\n\\nBy Monday evening, several luxury stores around the city -- including in Causeway Bay and Tsim Sha Tsui, two major shopping districts that protesters occupied over the weekend -- had closed early for the day.\\n\\nDemonstrators rally across the city.\\n\\nThousands of antigovernment protesters rallied in swirling crowds across parks, shopping malls and other public spaces on Monday afternoon to support the general strike.\\n\\nOutside government offices in Admiralty, a downtown district on Hong Kong Island, protesters blocked traffic by moving steel and plastic barriers -- some erected by the police weeks earlier for crowd control -- to a nearby highway.\\n\\nJanice Lau, 38, a teacher who had taken her 6-year-old daughter to a rally in a nearby park, pumped her fist in encouragement.\\n\\n\"I\\'m proud of them,\" she said of the protesters, minutes before riot police officers began attempting to clear the crowd with tear gas. \"Society forced them to do this, and they didn\\'t harm society.\"\\n\\nArthur Chan, a physical education teacher at a Hong Kong university, was among those who attended a rally on Monday in the northwestern district of Tuen Mun.\\n\\n\"I asked for leave especially for today because I\\'ve seen injustice,\" said Mr. Chan, 24, noting that one of his students was among the 44 protesters that the police arrested last week on suspicion of rioting. The charge carries a prison term of up to 10 years.\\n\\n\"I feel particularly worried about him,\" Mr. Chan said of his student. \"He\\'s in his 20s, he does well in school and he\\'s very nice. I used to be sure that he had a bright future.\"\\n\\nPolice say hundreds have been arrested this summer.\\n\\nThe Hong Kong police said on Monday that officers had arrested 420 people since protests in the territory began in early June, including 82 on Monday.\\n\\nOfficers have also fired 1,000 rounds of tear gas and around 160 rubber bullets over the same time period, two police officials said in a news conference.\\n\\n\"We are here to maintain order to protect the community,\" said Kong Wing Cheung, the police superintendent.\\n\\nThe scale and intensity of the police response to the protests has prompted criticism from residents.\\n\\nCritics note that when protesters occupied central Hong Kong for 79 days in 2014, the police used tear gas more sparingly. But supporters say the police have regularly shown restraint, and did not use force against the demonstrators even when they stormed the Legislative Council in July.\\n\\nStrikes ground planes and delay public transit.\\n\\nHong Kong, one of Asia\\'s most important transit and financial hubs, was brought to a standstill on Monday, with more than 200 flights grounded and commuter trains disrupted as a citywide strike and demonstrations roiled the territory.\\n\\nAt the height of the morning rush, protesters blocked the doors of subway cars, causing delays throughout the system that kept millions of people from getting to work.\\n\\nThe disruptions were the third time in three weeks that protesters have interrupted train service. RTHK, a local broadcaster, said one-third of the Hong Kong International Airport\\'s air traffic controllers had joined the strike.\\n\\nDancus Au, 24, who works at a security firm, said he had been stuck at the Tai Wai subway station since early Monday morning but he blamed his inability to get to work on the city\\'s leader\\'s refusal to withdraw the extradition bill.\\n\\n\"My post is crucial because a security firm requires a lot of people to support its operation,\" Mr. Au said. \"Carrie Lam has caused my absence today. She should have said \\'withdraw\\' at the beginning of this fiasco. She is part of the root cause while Beijing is another part of it.\"\\n\\n\"I think the general strike is one of the last resorts that the protesters think are possible to express their views. I don\\'t blame them,\" he said, adding that he was considering attending a protest rally.\\n\\nAt least 200 flights were canceled, most of them aboard Hong Kong\\'s flag carrier Cathay Pacific.\\n\\n\\'Disappointing!\\' one pro-establishment politician says of city leader\\'s speech.\\n\\nProminent lawmakers across the political spectrum criticized Mrs. Lam, the city\\'s leader, saying her remarks in the morning about the protests provided no solutions to the political crisis that has roiled the territory for two months.\\n\\nClaudia Mo, a lawmaker in Hong Kong\\'s pro-democracy legislative minority, called Mrs. Lam\\'s administration \"morally bankrupt\" for failing to take responsibility for the unrest.\\n\\nMrs. Lam said on Monday that protesters had recently started to chant a slogan that challenged Beijing\\'s authority over the territory. But Ms. Mo said the slogan alone -- \"Revive Hong Kong, revolution of our times\" -- - did not prove that protesters were demanding independence.\\n\\n\"A slogan is a slogan is a slogan,\" Ms. Mo said. \"If she thinks that is a problem, what is the solution to it? Well, we\\'ll advise her: Try democracy.\"\\n\\nAnn Chiang, a lawmaker from Hong Kong\\'s largest pro-Beijing party, the Democratic Alliance for the Betterment of Hong Kong, also criticized Mrs. Lam\\'s performance.\\n\\n\"Carrie Lam raised many questions at the news conference, but where are the solutions?\" Ms. Chiang wrote on Facebook. \"Disappointing!!!\"\\n\\nAntony Dapiran, a Hong Kong-based lawyer and the author of a book about dissent in Hong Kong, called the news conference a \"disaster,\" in part because it included no concessions and came before the public turnout of Monday\\'s general strike was fully apparent.\\n\\nMrs. Lam has presented no clear way out of the crisis, he said, while the protesters have become increasingly confrontational.\\n\\n\"For me the most alarming thing is we\\'re kind of on a knife\\'s edge here -- open disrespect for the police, police stations being targeted,\" he said. \"We are on the cusp of what could be a general breakdown of law and order. It hasn\\'t gotten there yet, but the government hasn\\'t done anything to stop it.\"\\n\\nJoseph Wong, the former head of Hong Kong\\'s civil service, said he had not even bothered to listen to Mrs. Lam\\'s speech because he had lost faith in her. Mr. Wong said that instead of condemning protesters, Mrs. Lam should act on their demands -- for example, by formally withdrawing the contentious extradition bill and commissioning an independent inquiry into the police response to recent mob attacks in a Hong Kong metro station.\\n\\n\"The Chief Executive has the responsibility to set a good example by complying with the rule of law,\" he added. \"Many people doubt the chief executive herself is doing precisely what she keeps on preaching to the Hong Kong people.\"\\n\\nChina calls on Hong Kong public to \"stop the violence.\"\\n\\nChina\\'s state-run media denounced the resurgence of unrest in Hong Kong, portraying the demonstrators as lawless and warning that Beijing would not tolerate a descent into chaos.\\n\\nThe People\\'s Daily, the flagship newspaper of the ruling Communist Party, on Monday recited a long list of supposed offenses committed by the protesters, including insulting the Chinese flag -- an apparent reference to protesters who threw a Chinese flag into the harbor on Saturday.\\n\\nThe newspaper called on the Hong Kong public to rally behind the local police and to \"stop the violence,\" saying the protesters wanted to end the \"one country, two systems\" arrangement that has governed the territory since its handover to mainland China in 1997.\\n\\n\"They simply want to push Hong Kong into chaos,\" the editorial said of the protesters.\\n\\nThe Global Times, a hawkish tabloid, also raised the possibility of intervention by the mainland authorities in Hong Kong, a position embraced by some Chinese nationalists.\\n\\n\"The central government will not allow the complete fall of the rule of law in Hong Kong,\" the newspaper said in an editorial on Sunday. \"A few mobs can confuse Hong Kong for a while, but they absolutely cannot overthrow the order of Hong Kong completely.\"\\n\\nChinese news stations showed footage of protesters inside Hong Kong subway cars, trying to argue, without evidence, that they had lost public support.\\n\\nThe Hong Kong and Macau Affairs Office in Beijing, which oversees central government policy for the city, invited Hong Kong reporters to a news conference on Tuesday, the second since last week. The office is also scheduled to hold a meeting on Wednesday in Shenzhen, the mainland city closest to Hong Kong, to discuss recent developments with Hong Kong delegates to the national congress, the Hong Kong broadcaster RTHK reported.\\n\\nSkipping work to join Monday\\'s strike carries legal risks, experts say.\\n\\nHong Kong is a financial hub with an international reputation for efficiency and order.\\n\\nNot surprisingly, the city\\'s government offers limited protections for striking workers.\\n\\nSome employers signaled that they would tolerate workers\\' absence, including the Catholic Diocese and at least two local universities.\\n\\nBut because the general strike is a political action and not a labor dispute, scholars say, those who take part would not be covered by the limited protections offered to striking workers under Hong Kong law.\\n\\n\"Anyone on the general strike can be counted as being a brave person,\" said Rick Glofcheski, a law professor at the University of Hong Kong. \"In the current political mood, there are millions of them in Hong Kong. But basically you don\\'t have any protection.\"\\n\\nMaggie Chung, a 32-year-old accountant who attended a protest rally on Sunday, said that she planned to join the strike even though she had not yet passed the probationary period of her new job. \"If I lose my job, I can find another one,\" she said. \"But if Hong Kong is lost, it\\'s gone forever.\"\\n\\nProtesters are nimble and unpredictable.\\n\\nOne emerging feature of the civil disobedience gripping Hong Kong: Protesters are increasingly trying to keep the authorities guessing their next move.\\n\\nOver the weekend, groups of black-clad protesters appeared with little warning in neighborhoods across the city, in some cases blocking roads and vandalizing police stations. And in many instances, they disappeared before the police could tackle them to the ground or disperse them with tear gas and pepper spray.\\n\\n\"We are not as well equipped as the police, so we have to be as fluid as possible,\" Jason Law, a 19-year-old protester, said on Sunday.\\n\\nThe flash-mob-style tactics continued Monday morning as protesters briefly occupied subway stations and roads across the city, including in the satellite town of Yuen Long, the site of mob attacks against demonstrators last month.\\n\\nMany protesters have linked the tactics to the phrase \"Be water,\" a reference to a line uttered by Bruce Lee, the Hong Kong native and martial-arts star, in a 1971 episode of the American television series \"Longstreet.\" The protesters say the phrase captures their strategy of trying to outrun the authorities by swiftly changing tactics and targets.\\n\\nReporting was contributed by Mike Ives, Austin Ramzy, Tiffany May, Ezra Cheung, Katherine Li, Russell Goldman and Gillian Wong from Hong Kong, and by Javier Hernandez from Beijing. Elsie Chen contributed research from Beijing.'"
      ]
     },
     "execution_count": 4,
     "metadata": {},
     "output_type": "execute_result"
    }
   ],
   "source": [
    "raw_articles = [article['body'] for article in tqdm(unfiltered_articles)]\n",
    "raw_articles[0]"
   ]
  },
  {
   "cell_type": "code",
   "execution_count": 5,
   "metadata": {},
   "outputs": [
    {
     "data": {
      "application/vnd.jupyter.widget-view+json": {
       "model_id": "1510d2faa328401ea74069782bcd233f",
       "version_major": 2,
       "version_minor": 0
      },
      "text/plain": [
       "HBox(children=(FloatProgress(value=0.0, max=58677.0), HTML(value='')))"
      ]
     },
     "metadata": {},
     "output_type": "display_data"
    },
    {
     "name": "stdout",
     "output_type": "stream",
     "text": [
      "\n"
     ]
    },
    {
     "data": {
      "text/plain": [
       "['demonstrators',\n",
       " 'are',\n",
       " 'moving',\n",
       " 'between',\n",
       " 'districts',\n",
       " 'blocking',\n",
       " 'roads',\n",
       " 'and',\n",
       " 'setting',\n",
       " 'fires',\n",
       " \"here's\",\n",
       " 'what',\n",
       " 'you',\n",
       " 'need',\n",
       " 'to',\n",
       " 'know:tear',\n",
       " 'gas',\n",
       " 'engulfed',\n",
       " 'districts',\n",
       " 'as',\n",
       " 'protesters',\n",
       " 'besieged',\n",
       " 'police',\n",
       " \"stations.city's\",\n",
       " 'leader',\n",
       " 'warns',\n",
       " 'protesters',\n",
       " 'against',\n",
       " 'challenging',\n",
       " 'beijing.protesters',\n",
       " 'occupy',\n",
       " 'a',\n",
       " 'shopping',\n",
       " 'mall',\n",
       " 'where',\n",
       " 'clashes',\n",
       " 'erupted',\n",
       " 'last',\n",
       " 'month.demonstrators',\n",
       " 'rally',\n",
       " 'across',\n",
       " 'the',\n",
       " 'city.police',\n",
       " 'say',\n",
       " 'hundreds',\n",
       " 'have',\n",
       " 'been',\n",
       " 'arrested',\n",
       " 'this',\n",
       " 'summer.tear',\n",
       " 'gas',\n",
       " 'engulfed',\n",
       " 'districts',\n",
       " 'as',\n",
       " 'protesters',\n",
       " 'besieged',\n",
       " 'police',\n",
       " 'stations',\n",
       " 'riot',\n",
       " 'police',\n",
       " 'officers',\n",
       " 'fired',\n",
       " 'many',\n",
       " 'volleys',\n",
       " 'of',\n",
       " 'tear',\n",
       " 'gas',\n",
       " 'at',\n",
       " 'protesters',\n",
       " 'near',\n",
       " 'government',\n",
       " 'offices',\n",
       " 'apartment',\n",
       " 'complexes',\n",
       " 'shopping',\n",
       " 'malls',\n",
       " 'and',\n",
       " 'parks',\n",
       " 'across',\n",
       " 'hong',\n",
       " 'kong',\n",
       " 'on',\n",
       " 'monday',\n",
       " 'as',\n",
       " 'clashes',\n",
       " 'with',\n",
       " 'demonstrators',\n",
       " 'plunged',\n",
       " 'a',\n",
       " 'broad',\n",
       " 'stretch',\n",
       " 'of',\n",
       " 'the',\n",
       " 'territory',\n",
       " 'into',\n",
       " 'chaos',\n",
       " 'antigovernment',\n",
       " 'demonstrators',\n",
       " 'fanned',\n",
       " 'out',\n",
       " 'across',\n",
       " 'at',\n",
       " 'least',\n",
       " 'a',\n",
       " 'half-dozen',\n",
       " 'districts',\n",
       " 'occupying',\n",
       " 'roads',\n",
       " 'and',\n",
       " 'hurling',\n",
       " 'objects',\n",
       " 'at',\n",
       " 'police',\n",
       " 'stations',\n",
       " 'as',\n",
       " 'they',\n",
       " 'tested',\n",
       " 'the',\n",
       " 'limits',\n",
       " 'of',\n",
       " 'the',\n",
       " 'police',\n",
       " 'force',\n",
       " 'they',\n",
       " 'set',\n",
       " 'a',\n",
       " 'fire',\n",
       " 'outside',\n",
       " 'a',\n",
       " 'police',\n",
       " 'station',\n",
       " 'in',\n",
       " 'sha',\n",
       " 'tin',\n",
       " 'in',\n",
       " 'the',\n",
       " 'new',\n",
       " 'territories',\n",
       " 'region',\n",
       " 'of',\n",
       " 'northern',\n",
       " 'hong',\n",
       " 'kong',\n",
       " 'that',\n",
       " 'quickly',\n",
       " 'swelled',\n",
       " 'until',\n",
       " 'flames',\n",
       " 'licked',\n",
       " 'the',\n",
       " 'sides',\n",
       " 'of',\n",
       " 'the',\n",
       " 'building',\n",
       " 'firefighters',\n",
       " 'extinguished',\n",
       " 'the',\n",
       " 'blaze',\n",
       " 'locations',\n",
       " 'of',\n",
       " 'protests',\n",
       " 'on',\n",
       " 'monday',\n",
       " 'by',\n",
       " 'the',\n",
       " 'new',\n",
       " 'york',\n",
       " 'times',\n",
       " 'activists',\n",
       " 'called',\n",
       " 'for',\n",
       " 'a',\n",
       " 'general',\n",
       " 'strike',\n",
       " 'and',\n",
       " 'rallies',\n",
       " 'on',\n",
       " 'monday',\n",
       " 'leading',\n",
       " 'to',\n",
       " 'service',\n",
       " 'disruptions',\n",
       " 'on',\n",
       " 'several',\n",
       " 'subway',\n",
       " 'and',\n",
       " 'rail',\n",
       " 'lines',\n",
       " 'and',\n",
       " 'the',\n",
       " 'cancellation',\n",
       " 'of',\n",
       " 'more',\n",
       " 'than',\n",
       " '200',\n",
       " 'flights',\n",
       " 'from',\n",
       " 'the',\n",
       " \"city's\",\n",
       " 'airport',\n",
       " 'the',\n",
       " 'officers',\n",
       " 'arrested',\n",
       " 'dozens',\n",
       " 'of',\n",
       " 'people',\n",
       " 'pinning',\n",
       " 'some',\n",
       " 'to',\n",
       " 'the',\n",
       " 'ground',\n",
       " 'and',\n",
       " 'fired',\n",
       " 'multiple',\n",
       " 'rounds',\n",
       " 'of',\n",
       " 'tear',\n",
       " 'gas',\n",
       " 'filling',\n",
       " 'the',\n",
       " 'air',\n",
       " 'with',\n",
       " 'white',\n",
       " 'acrid',\n",
       " 'fumes',\n",
       " 'local',\n",
       " 'news',\n",
       " 'outlets',\n",
       " 'said',\n",
       " 'that',\n",
       " 'the',\n",
       " 'riot',\n",
       " 'officers',\n",
       " 'also',\n",
       " 'shot',\n",
       " 'off',\n",
       " 'rubber',\n",
       " 'bullets',\n",
       " 'the',\n",
       " 'clashes',\n",
       " 'on',\n",
       " 'monday',\n",
       " 'were',\n",
       " 'particularly',\n",
       " 'widespread',\n",
       " 'even',\n",
       " 'by',\n",
       " 'the',\n",
       " 'standards',\n",
       " 'of',\n",
       " 'the',\n",
       " 'unrest',\n",
       " 'that',\n",
       " 'has',\n",
       " 'roiled',\n",
       " 'the',\n",
       " 'city',\n",
       " 'almost',\n",
       " 'every',\n",
       " 'weekend',\n",
       " 'since',\n",
       " 'early',\n",
       " 'june',\n",
       " 'the',\n",
       " 'clashes',\n",
       " 'encompassed',\n",
       " 'several',\n",
       " 'districts',\n",
       " 'where',\n",
       " 'clashes',\n",
       " 'had',\n",
       " 'occurred',\n",
       " 'in',\n",
       " 'recent',\n",
       " 'days',\n",
       " 'and',\n",
       " 'weeks',\n",
       " 'including',\n",
       " 'several',\n",
       " 'working-class',\n",
       " 'neighborhoods',\n",
       " 'a',\n",
       " 'shopping',\n",
       " 'mall',\n",
       " 'that',\n",
       " 'is',\n",
       " 'popular',\n",
       " 'with',\n",
       " 'mainland',\n",
       " 'tourists',\n",
       " 'and',\n",
       " 'a',\n",
       " 'highway',\n",
       " 'near',\n",
       " 'the',\n",
       " 'hong',\n",
       " 'kong',\n",
       " 'legislature',\n",
       " 'but',\n",
       " 'the',\n",
       " 'protests',\n",
       " 'also',\n",
       " 'ventured',\n",
       " 'into',\n",
       " 'other',\n",
       " 'areas',\n",
       " 'including',\n",
       " 'a',\n",
       " 'town',\n",
       " 'in',\n",
       " 'hong',\n",
       " \"kong's\",\n",
       " 'northern',\n",
       " 'reaches',\n",
       " 'that',\n",
       " 'had',\n",
       " 'not',\n",
       " 'previously',\n",
       " 'been',\n",
       " 'the',\n",
       " 'site',\n",
       " 'of',\n",
       " 'any',\n",
       " 'violence',\n",
       " 'the',\n",
       " 'police',\n",
       " 'have',\n",
       " 'repeatedly',\n",
       " 'defended',\n",
       " 'their',\n",
       " 'use',\n",
       " 'of',\n",
       " 'tear',\n",
       " 'gas',\n",
       " 'saying',\n",
       " 'it',\n",
       " 'is',\n",
       " 'deployed',\n",
       " 'only',\n",
       " 'to',\n",
       " 'disperse',\n",
       " 'demonstrators',\n",
       " 'who',\n",
       " 'gather',\n",
       " 'illegally',\n",
       " 'or',\n",
       " 'vandalize',\n",
       " 'property',\n",
       " 'they',\n",
       " 'have',\n",
       " 'urged',\n",
       " 'residents',\n",
       " 'to',\n",
       " 'stay',\n",
       " 'indoors',\n",
       " 'and',\n",
       " 'keep',\n",
       " 'their',\n",
       " 'windows',\n",
       " 'closed',\n",
       " 'during',\n",
       " 'such',\n",
       " 'crackdowns',\n",
       " 'but',\n",
       " 'protesters',\n",
       " 'and',\n",
       " 'their',\n",
       " 'supporters',\n",
       " 'say',\n",
       " 'the',\n",
       " 'police',\n",
       " 'are',\n",
       " 'using',\n",
       " 'tear',\n",
       " 'gas',\n",
       " 'indiscriminately',\n",
       " 'many',\n",
       " 'have',\n",
       " 'raised',\n",
       " 'questions',\n",
       " 'about',\n",
       " 'how',\n",
       " 'the',\n",
       " 'spraying',\n",
       " 'of',\n",
       " 'tear',\n",
       " 'gas',\n",
       " 'in',\n",
       " 'dense',\n",
       " 'urban',\n",
       " 'areas',\n",
       " 'might',\n",
       " 'affect',\n",
       " 'the',\n",
       " 'health',\n",
       " 'of',\n",
       " 'vulnerable',\n",
       " 'residents',\n",
       " 'such',\n",
       " 'as',\n",
       " 'pregnant',\n",
       " 'women',\n",
       " 'and',\n",
       " 'old',\n",
       " 'people',\n",
       " '[a',\n",
       " 'general',\n",
       " 'strike',\n",
       " 'has',\n",
       " 'disrupted',\n",
       " 'transit',\n",
       " 'and',\n",
       " 'led',\n",
       " 'to',\n",
       " 'canceled',\n",
       " 'flights.]',\n",
       " 'the',\n",
       " 'mass',\n",
       " 'demonstrations',\n",
       " 'started',\n",
       " 'in',\n",
       " 'early',\n",
       " 'june',\n",
       " 'over',\n",
       " 'an',\n",
       " 'unpopular',\n",
       " 'extradition',\n",
       " 'bill',\n",
       " 'but',\n",
       " 'the',\n",
       " \"protesters'\",\n",
       " 'demands',\n",
       " 'quickly',\n",
       " 'expanded',\n",
       " 'to',\n",
       " 'include',\n",
       " 'calls',\n",
       " 'for',\n",
       " 'an',\n",
       " 'independent',\n",
       " 'commission',\n",
       " 'to',\n",
       " 'investigate',\n",
       " 'alleged',\n",
       " 'police',\n",
       " 'misconduct',\n",
       " 'for',\n",
       " 'the',\n",
       " 'resignation',\n",
       " 'of',\n",
       " 'the',\n",
       " \"city's\",\n",
       " 'top',\n",
       " 'leader',\n",
       " 'and',\n",
       " 'for',\n",
       " 'the',\n",
       " 'release',\n",
       " 'of',\n",
       " 'detained',\n",
       " 'protesters',\n",
       " 'the',\n",
       " 'protesters',\n",
       " 'have',\n",
       " 'also',\n",
       " 'increasingly',\n",
       " 'called',\n",
       " 'for',\n",
       " 'greater',\n",
       " 'democracy',\n",
       " 'in',\n",
       " 'the',\n",
       " 'territory',\n",
       " '--',\n",
       " 'a',\n",
       " 'reflection',\n",
       " 'of',\n",
       " 'pent-up',\n",
       " 'anger',\n",
       " 'and',\n",
       " 'frustration',\n",
       " 'with',\n",
       " 'the',\n",
       " 'rapid',\n",
       " 'erosion',\n",
       " 'of',\n",
       " 'civil',\n",
       " 'liberties',\n",
       " 'in',\n",
       " 'hong',\n",
       " 'kong',\n",
       " 'under',\n",
       " 'chinese',\n",
       " 'rule',\n",
       " 'there',\n",
       " 'is',\n",
       " 'a',\n",
       " 'widespread',\n",
       " 'perception',\n",
       " 'that',\n",
       " 'the',\n",
       " \"territory's\",\n",
       " 'political',\n",
       " 'elite',\n",
       " 'is',\n",
       " 'more',\n",
       " 'beholden',\n",
       " 'to',\n",
       " 'beijing',\n",
       " 'than',\n",
       " 'to',\n",
       " 'local',\n",
       " 'residents',\n",
       " 'separately',\n",
       " 'video',\n",
       " 'footage',\n",
       " 'circulating',\n",
       " 'monday',\n",
       " 'morning',\n",
       " 'appeared',\n",
       " 'to',\n",
       " 'show',\n",
       " 'a',\n",
       " 'van',\n",
       " 'breaking',\n",
       " 'through',\n",
       " 'a',\n",
       " 'barricade',\n",
       " 'that',\n",
       " 'protesters',\n",
       " 'had',\n",
       " 'set',\n",
       " 'up',\n",
       " 'on',\n",
       " 'a',\n",
       " 'road',\n",
       " 'in',\n",
       " 'the',\n",
       " 'satellite',\n",
       " 'town',\n",
       " 'of',\n",
       " 'yuen',\n",
       " 'long',\n",
       " 'where',\n",
       " 'a',\n",
       " 'mob',\n",
       " 'attacked',\n",
       " 'protesters',\n",
       " 'last',\n",
       " 'month',\n",
       " 'as',\n",
       " 'the',\n",
       " 'vehicle',\n",
       " 'drove',\n",
       " 'through',\n",
       " 'it',\n",
       " 'scattered',\n",
       " 'the',\n",
       " 'crowd',\n",
       " 'and',\n",
       " 'appeared',\n",
       " 'to',\n",
       " 'hit',\n",
       " 'at',\n",
       " 'least',\n",
       " 'one',\n",
       " 'protester',\n",
       " 'late',\n",
       " 'monday',\n",
       " 'a',\n",
       " 'large',\n",
       " 'group',\n",
       " 'of',\n",
       " 'men',\n",
       " 'armed',\n",
       " 'with',\n",
       " 'long',\n",
       " 'sticks',\n",
       " 'attacked',\n",
       " 'the',\n",
       " 'protesters',\n",
       " 'in',\n",
       " 'the',\n",
       " 'eastern',\n",
       " 'district',\n",
       " 'of',\n",
       " 'north',\n",
       " 'point',\n",
       " 'local',\n",
       " 'news',\n",
       " 'outlets',\n",
       " 'reported',\n",
       " 'earlier',\n",
       " 'the',\n",
       " 'protesters',\n",
       " 'had',\n",
       " 'warned',\n",
       " 'in',\n",
       " 'chat',\n",
       " 'groups',\n",
       " 'about',\n",
       " 'the',\n",
       " 'presence',\n",
       " 'of',\n",
       " 'the',\n",
       " 'mob',\n",
       " \"city's\",\n",
       " 'leader',\n",
       " 'warns',\n",
       " 'protesters',\n",
       " 'against',\n",
       " 'challenging',\n",
       " 'beijing',\n",
       " 'the',\n",
       " 'embattled',\n",
       " 'chief',\n",
       " 'executive',\n",
       " 'of',\n",
       " 'hong',\n",
       " 'kong',\n",
       " 'warned',\n",
       " 'that',\n",
       " 'the',\n",
       " 'antigovernment',\n",
       " 'protests',\n",
       " 'that',\n",
       " 'have',\n",
       " 'roiled',\n",
       " 'the',\n",
       " 'city',\n",
       " 'for',\n",
       " 'two',\n",
       " 'months',\n",
       " 'sought',\n",
       " 'to',\n",
       " 'challenge',\n",
       " \"beijing's\",\n",
       " 'authority',\n",
       " 'in',\n",
       " 'ways',\n",
       " 'that',\n",
       " 'were',\n",
       " '\"very',\n",
       " 'dangerous\"',\n",
       " 'and',\n",
       " 'would',\n",
       " 'ruin',\n",
       " 'the',\n",
       " 'semiautonomous',\n",
       " \"territory's\",\n",
       " 'future',\n",
       " 'in',\n",
       " 'a',\n",
       " 'news',\n",
       " 'conference',\n",
       " 'on',\n",
       " 'monday',\n",
       " 'the',\n",
       " \"territory's\",\n",
       " 'leader',\n",
       " 'carrie',\n",
       " 'lam',\n",
       " 'condemned',\n",
       " 'the',\n",
       " 'increasingly',\n",
       " 'confrontational',\n",
       " 'tactics',\n",
       " 'of',\n",
       " 'protesters',\n",
       " 'in',\n",
       " 'recent',\n",
       " 'weeks',\n",
       " 'and',\n",
       " 'vowed',\n",
       " 'to',\n",
       " 'restore',\n",
       " 'law',\n",
       " 'and',\n",
       " 'order',\n",
       " 'in',\n",
       " 'the',\n",
       " 'financial',\n",
       " 'hub',\n",
       " '\"this',\n",
       " 'is',\n",
       " 'the',\n",
       " 'time',\n",
       " 'for',\n",
       " 'us',\n",
       " 'to',\n",
       " 'rally',\n",
       " 'together',\n",
       " 'to',\n",
       " 'set',\n",
       " 'aside',\n",
       " 'differences',\n",
       " 'and',\n",
       " 'bring',\n",
       " 'back',\n",
       " 'order',\n",
       " 'and',\n",
       " 'say',\n",
       " \"'no'\",\n",
       " 'to',\n",
       " 'chaos',\n",
       " 'and',\n",
       " 'violence,\"',\n",
       " 'ms',\n",
       " 'lam',\n",
       " 'said',\n",
       " 'as',\n",
       " 'the',\n",
       " 'city',\n",
       " 'was',\n",
       " 'brought',\n",
       " 'to',\n",
       " 'standstill',\n",
       " 'on',\n",
       " 'monday',\n",
       " 'during',\n",
       " 'a',\n",
       " 'general',\n",
       " 'strike',\n",
       " 'and',\n",
       " 'demonstrations',\n",
       " 'that',\n",
       " 'interrupted',\n",
       " 'the',\n",
       " 'morning',\n",
       " 'commute',\n",
       " 'for',\n",
       " 'millions',\n",
       " 'of',\n",
       " 'people',\n",
       " 'in',\n",
       " 'recent',\n",
       " 'demonstrations',\n",
       " 'a',\n",
       " 'core',\n",
       " 'group',\n",
       " 'of',\n",
       " 'protesters',\n",
       " 'have',\n",
       " 'tried',\n",
       " 'to',\n",
       " 'surround',\n",
       " 'the',\n",
       " 'central',\n",
       " \"government's\",\n",
       " 'representative',\n",
       " 'office',\n",
       " 'in',\n",
       " 'the',\n",
       " 'city',\n",
       " 'taunted',\n",
       " 'mainland',\n",
       " 'chinese',\n",
       " 'shoppers',\n",
       " 'and',\n",
       " 'traders',\n",
       " 'and',\n",
       " 'over',\n",
       " 'the',\n",
       " 'past',\n",
       " 'weekend',\n",
       " 'threw',\n",
       " 'the',\n",
       " 'chinese',\n",
       " 'flag',\n",
       " 'into',\n",
       " 'the',\n",
       " 'victoria',\n",
       " 'harbor',\n",
       " 'in',\n",
       " 'a',\n",
       " 'move',\n",
       " 'that',\n",
       " 'was',\n",
       " 'swiftly',\n",
       " 'condemned',\n",
       " 'by',\n",
       " 'beijing',\n",
       " '\"some',\n",
       " 'people',\n",
       " 'have',\n",
       " 'tarnished',\n",
       " 'the',\n",
       " 'national',\n",
       " 'emblem',\n",
       " 'and',\n",
       " 'even',\n",
       " 'removed',\n",
       " 'the',\n",
       " 'national',\n",
       " 'flag',\n",
       " 'and',\n",
       " 'thrown',\n",
       " 'it',\n",
       " 'into',\n",
       " 'the',\n",
       " 'sea,\"',\n",
       " 'mrs',\n",
       " 'lam',\n",
       " 'said',\n",
       " '\"in',\n",
       " 'recent',\n",
       " 'days',\n",
       " 'what',\n",
       " 'we',\n",
       " 'can',\n",
       " 'see',\n",
       " 'are',\n",
       " 'obvious',\n",
       " 'and',\n",
       " 'willful',\n",
       " 'statements',\n",
       " 'of',\n",
       " \"'restore\",\n",
       " 'hong',\n",
       " 'kong',\n",
       " 'revolution',\n",
       " 'of',\n",
       " 'our',\n",
       " 'times,\\'\"',\n",
       " 'mrs',\n",
       " 'lam',\n",
       " 'said',\n",
       " 'citing',\n",
       " 'a',\n",
       " 'slogan',\n",
       " 'from',\n",
       " 'a',\n",
       " 'pro-independence',\n",
       " 'movement',\n",
       " 'that',\n",
       " 'has',\n",
       " 're-emerged',\n",
       " 'in',\n",
       " 'recent',\n",
       " 'protest',\n",
       " 'chants',\n",
       " '\"we',\n",
       " 'can',\n",
       " 'see',\n",
       " 'some',\n",
       " 'actions',\n",
       " 'challenging',\n",
       " \"'one\",\n",
       " 'country',\n",
       " 'two',\n",
       " \"systems'\",\n",
       " 'and',\n",
       " 'the',\n",
       " \"country's\",\n",
       " 'national',\n",
       " 'sovereignty',\n",
       " 'and',\n",
       " 'if',\n",
       " 'i',\n",
       " 'can',\n",
       " 'even',\n",
       " 'speak',\n",
       " 'more',\n",
       " 'boldly',\n",
       " 'they',\n",
       " 'want',\n",
       " 'to',\n",
       " 'topple',\n",
       " 'hong',\n",
       " 'kong',\n",
       " 'to',\n",
       " 'thoroughly',\n",
       " 'destroy',\n",
       " 'the',\n",
       " 'livelihoods',\n",
       " 'that',\n",
       " '7',\n",
       " 'million',\n",
       " 'people',\n",
       " 'cherish.\"',\n",
       " 'the',\n",
       " 'demonstrations',\n",
       " 'began',\n",
       " 'this',\n",
       " 'summer',\n",
       " 'initially',\n",
       " 'as',\n",
       " 'a',\n",
       " 'way',\n",
       " 'to',\n",
       " 'protest',\n",
       " 'a',\n",
       " 'bill',\n",
       " 'that',\n",
       " 'would',\n",
       " 'allow',\n",
       " 'residents',\n",
       " 'and',\n",
       " 'visitors',\n",
       " 'to',\n",
       " 'hong',\n",
       " 'kong',\n",
       " 'to',\n",
       " 'be',\n",
       " 'extradited',\n",
       " 'to',\n",
       " 'mainland',\n",
       " 'china',\n",
       " 'for',\n",
       " 'trial',\n",
       " 'ms',\n",
       " 'lam',\n",
       " 'repeated',\n",
       " 'her',\n",
       " 'stance',\n",
       " 'that',\n",
       " 'the',\n",
       " 'bill',\n",
       " 'was',\n",
       " '\"dead,\"',\n",
       " 'and',\n",
       " 'said',\n",
       " 'the',\n",
       " 'city',\n",
       " 'should',\n",
       " 'not',\n",
       " 'let',\n",
       " 'the',\n",
       " 'protesters',\n",
       " 'use',\n",
       " 'the',\n",
       " 'cause',\n",
       " 'as',\n",
       " 'a',\n",
       " 'pretext',\n",
       " 'for',\n",
       " 'pushing',\n",
       " 'against',\n",
       " 'chinese',\n",
       " 'rule',\n",
       " '\"if',\n",
       " 'we',\n",
       " 'continue',\n",
       " 'to',\n",
       " 'allow',\n",
       " 'these',\n",
       " 'violent',\n",
       " 'protesters',\n",
       " 'to',\n",
       " 'make',\n",
       " 'use',\n",
       " 'of',\n",
       " 'the',\n",
       " 'fugitive',\n",
       " \"offenders'\",\n",
       " 'bill',\n",
       " 'and',\n",
       " 'these',\n",
       " 'demands',\n",
       " 'to',\n",
       " 'conceal',\n",
       " 'their',\n",
       " 'ulterior',\n",
       " 'motives',\n",
       " 'that',\n",
       " 'is',\n",
       " 'going',\n",
       " 'to',\n",
       " 'push',\n",
       " 'hong',\n",
       " 'kong',\n",
       " 'to',\n",
       " 'the',\n",
       " 'verge',\n",
       " 'of',\n",
       " 'a',\n",
       " 'very',\n",
       " 'dangerous',\n",
       " 'situation,\"',\n",
       " 'she',\n",
       " 'said',\n",
       " 'protesters',\n",
       " 'occupy',\n",
       " 'a',\n",
       " 'shopping',\n",
       " 'mall',\n",
       " 'where',\n",
       " 'clashes',\n",
       " 'erupted',\n",
       " 'last',\n",
       " 'month',\n",
       " 'hong',\n",
       " \"kong's\",\n",
       " 'finance',\n",
       " 'secretary',\n",
       " 'paul',\n",
       " 'chan',\n",
       " 'told',\n",
       " 'reporters',\n",
       " 'on',\n",
       " ...]"
      ]
     },
     "execution_count": 5,
     "metadata": {},
     "output_type": "execute_result"
    }
   ],
   "source": [
    "processed_articles = [preprocess_text(article['body'], stem=False) for article in tqdm(unfiltered_articles)]\n",
    "processed_articles[0]"
   ]
  },
  {
   "cell_type": "code",
   "execution_count": 6,
   "metadata": {},
   "outputs": [
    {
     "data": {
      "application/vnd.jupyter.widget-view+json": {
       "model_id": "2541ed9b17f242fb9e43f90b1efba0c0",
       "version_major": 2,
       "version_minor": 0
      },
      "text/plain": [
       "HBox(children=(FloatProgress(value=0.0, max=58677.0), HTML(value='')))"
      ]
     },
     "metadata": {},
     "output_type": "display_data"
    },
    {
     "name": "stdout",
     "output_type": "stream",
     "text": [
      "\n"
     ]
    },
    {
     "data": {
      "text/plain": [
       "(defaultdict(<function __main__.keywordCounter.<locals>.<lambda>()>,\n",
       "             {'hong': 49,\n",
       "              'kong': 41,\n",
       "              'mainland': 6,\n",
       "              'extradition': 3,\n",
       "              'chinese': 8,\n",
       "              'beijing': 8,\n",
       "              'yuen': 2,\n",
       "              'carrie': 1,\n",
       "              'lam': 11,\n",
       "              'china': 3,\n",
       "              'chan': 5,\n",
       "              'cheung': 2,\n",
       "              'wong': 3,\n",
       "              'communist': 1}),\n",
       " defaultdict(<function __main__.keywordCounter.<locals>.<lambda>()>,\n",
       "             {'Hong Kong': 143}),\n",
       " 96)"
      ]
     },
     "execution_count": 6,
     "metadata": {},
     "output_type": "execute_result"
    }
   ],
   "source": [
    "from collections import defaultdict\n",
    "\n",
    "def keywordCounter(tokenized_article, labeled_kws, protest_kw):\n",
    "    keyword_counts = defaultdict(lambda: 0)\n",
    "    label_counts = defaultdict(lambda: 0)\n",
    "    protest_counts = 0\n",
    "    for tok in tokenized_article:\n",
    "        for label, key_words in labeled_kws.items():\n",
    "            if tok in key_words:\n",
    "                label_counts[label] += 1\n",
    "                keyword_counts[tok] +=1\n",
    "        if tok in protest_kw:\n",
    "            protest_counts += 1\n",
    "    return keyword_counts, label_counts, protest_counts\n",
    "\n",
    "kw_counts = [keywordCounter(article, protest_specific_key_words, protest_key_words) for article in tqdm(processed_articles)]\n",
    "kw_counts[0]"
   ]
  },
  {
   "cell_type": "code",
   "execution_count": 7,
   "metadata": {},
   "outputs": [
    {
     "data": {
      "image/png": "[encoded data removed]",
      "text/plain": [
       "<Figure size 432x288 with 1 Axes>"
      ]
     },
     "metadata": {
      "needs_background": "light"
     },
     "output_type": "display_data"
    },
    {
     "data": {
      "image/png": "[encoded data removed]",
      "text/plain": [
       "<Figure size 432x288 with 1 Axes>"
      ]
     },
     "metadata": {
      "needs_background": "light"
     },
     "output_type": "display_data"
    },
    {
     "data": {
      "image/png": "[encoded data removed]",
      "text/plain": [
       "<Figure size 432x288 with 1 Axes>"
      ]
     },
     "metadata": {
      "needs_background": "light"
     },
     "output_type": "display_data"
    },
    {
     "data": {
      "image/png": "[encoded data removed]",
      "text/plain": [
       "<Figure size 432x288 with 1 Axes>"
      ]
     },
     "metadata": {
      "needs_background": "light"
     },
     "output_type": "display_data"
    }
   ],
   "source": [
    "import matplotlib.pyplot as plt\n",
    "\n",
    "num_protests_per_article = [len(label_count) for kw_count, label_count, _ in kw_counts]\n",
    "min_kw_per_article = [min([val for _,val in label_count.items()]) for _, label_count, _ in kw_counts if label_count]\n",
    "max_kw_per_article = [max([val for _,val in label_count.items()]) for _, label_count, _ in kw_counts if label_count]\n",
    "protest_kws_counts = [protest_count for _, _, protest_count in kw_counts]\n",
    "#min_kw_per_article = [min([val for _,val in label_count]) for _, label_count in kw_counts]\n",
    "\n",
    "plt.hist(num_protests_per_article)\n",
    "plt.show()\n",
    "\n",
    "plt.hist(min_kw_per_article)\n",
    "plt.show()\n",
    "\n",
    "plt.hist(max_kw_per_article)\n",
    "plt.show()\n",
    "\n",
    "plt.hist(protest_kws_counts, bins=120)\n",
    "plt.show()"
   ]
  },
  {
   "cell_type": "code",
   "execution_count": 8,
   "metadata": {},
   "outputs": [],
   "source": [
    "def minKeywordFilter(kw_counts , label_threshold, protest_threshold):\n",
    "    _, label_counts, protest_kw_count =kw_counts \n",
    "    if label_counts:\n",
    "        return min([val for _,val in label_counts.items()]) >= label_threshold and protest_kw_count >= protest_threshold\n",
    "    else:\n",
    "        return False\n",
    "\n",
    "LABEL_THRESHOLD = 2\n",
    "PROTEST_THRESHOLD = 8\n",
    "article_tuples = list(zip(unfiltered_articles, processed_articles, kw_counts))\n",
    "kw_filtered_articles = [article_tuple for article_tuple in article_tuples if minKeywordFilter(article_tuple[2], LABEL_THRESHOLD, PROTEST_THRESHOLD)]\n",
    "removed_articles = [article_tuple for article_tuple in article_tuples if not minKeywordFilter(article_tuple[2], LABEL_THRESHOLD, PROTEST_THRESHOLD)]\n",
    "raw_filtered_texts = [article[0]['body'] for article in kw_filtered_articles]\n",
    "raw_filtered_kw = [article[2] for article in kw_filtered_articles]"
   ]
  },
  {
   "cell_type": "code",
   "execution_count": 9,
   "metadata": {},
   "outputs": [
    {
     "data": {
      "text/plain": [
       "4499"
      ]
     },
     "execution_count": 9,
     "metadata": {},
     "output_type": "execute_result"
    }
   ],
   "source": [
    "len(kw_filtered_articles)\n"
   ]
  },
  {
   "cell_type": "code",
   "execution_count": 10,
   "metadata": {},
   "outputs": [
    {
     "data": {
      "text/plain": [
       "'foreign direct investment (fdi) into china in july rose 4.1 per cent from a year ago to us$8.07 billion according to china\\'s ministry of commerce us president donald trump claims companies are fleeing china because of tariffs imposed by his administration over the last 16 months of the trade war blackrock the world\\'s biggest asset manager has rescheduled its asia media forum set for next month in hong kong as protesters disrupted operations at the city\\'s airport for a second consecutive day on tuesday the invitation-only forum in which journalists meet global and regional executives from the company was set to take place during the first week of september it has now been rescheduled to february 2020 blackrock said \"the power of this convening lies in the diverse range of perspectives brought together from throughout the region and we are adjusting the schedule so that as many partners as possible from across asia are able to join,\" the company said without citing the protests blackrock executives and employees have continued to travel to hong kong on a regular basis including for client meetings and discussions according to a person familiar with the matter a number of events ranging from consumer expositions to tribute concerts have been cancelled as protests and civil unrest over the past two months have disrupted transit blocked roads and caused flight cancellations stuart bailey the chairman of the hong kong exhibition and convention industry association said earlier this month that the second half of the year could be more challenging for its members protesters began amassing in the streets on weekends in june in opposition to a controversial extradition bill that would have made it easier to send criminal suspects to mainland china the protests have since evolved into a grievances over the city\\'s leadership and the response of the city\\'s police force to the demonstrations clashes between police and protesters have become increasingly violent in recent weeks with police using tear gas and rubber bullets the protests have forced businesses to close on multiple weekends in a variety of neighbourhoods across hong kong and are beginning to affect parts of the city\\'s economy particularly the airline hotel property and retail sectors on saturday trump claimed that \"thousands\" of companies were fleeing china because of us tariffs imposed by his administration over the last 13 months of the trade war \"they must stem the flow,\" the us president tweeted insisting that beijing \"badly\" wanted a trade deal after the latest round of talks in shanghai in july failed to yield any significant progress and after trump\\'s threat to impose 10 per cent levies on us$300 billion of chinese goods from september indeed this is a notable trend among international companies with many moving part of their production lines to other countries such as mexico or vietnam to avoid tariffs but also rising costs in china however in the first seven months of the year the aggregated fdi into china rose 7.3 per cent to 533.14 billion yuan (us$75.4 billion) or 3.6 per cent to us$78.8 billion accelerating from 7.2 per cent and 3.5 per cent in the first six months of the year the commerce ministry\\'s data showed the ministry did not disclose the growth rate of direct investment from the us a figure that has been missing from the data for the last two months the growth rate of investment from hong kong which has been china\\'s largest source of foreign investment was also not disclosed investment from germany and south korea increased by 72.4 per cent and 69.7 per cent respectively between january and july pan gongsheng a deputy governor of the people\\'s bank of china who is in charge of financial markets wrote in a commentary piece published on monday that fdi into china still had great potential for development as the business environment in the country had further improved \"the liberalisation and facilitation of cross-border trade and investment will have a greater improvement,\" he said xin guobin vice-minister of industry and information technology said in july that beijing was not surprised some foreign manufacturing companies had opted to relocate from china but that there was only a limited number of firms who had left \"the impacts on china\\'s economic growth industrial upgrading and employment are overall under control,\" he said \"it is just normal operations of enterprises [to pursue regions with lower cost] and [that is] in line with the objective laws of industrial development.\" south korea\\'s samsung and japan\\'s olympus and epson have already closed factories in china and are believed to be considering withdrawing completely from the chinese market retailer carrefour along with tesco and wal-mart are also in the process of selling significant stakes in their chinese operations.'"
      ]
     },
     "execution_count": 10,
     "metadata": {},
     "output_type": "execute_result"
    }
   ],
   "source": [
    "from random import sample\n",
    "\n",
    "sampled_articles = sample(kw_filtered_articles, k=20)\n",
    "sampled_articles = [\" \".join(sampled_article[1]) for sampled_article in sampled_articles]\n",
    "sampled_articles[0]"
   ]
  },
  {
   "cell_type": "code",
   "execution_count": 190,
   "metadata": {},
   "outputs": [
    {
     "data": {
      "text/plain": [
       "['city\\'s chief executive due to hold first \\'public dialogue\\' on thursday as she acknowledges trust deficit hong kong leader carrie lam said on tuesday the city\\'s police force which has been accused of beating activists and using excessive force in three months of street protests is under extreme pressure and acknowledged it will be a \"long road\" towards healing the divisions in hong kong society beijing-backed lam said it was \"quite remarkable\" there had not been fatalities during the demonstrations and said she hoped dialogue would help resolve the political crisis gripping the city police cast doubt over allegations that officers beat a man during a protest on saturday while amnesty international called on the government to investigate police use of force on demonstrators police acting senior superintendent vasco williams told reporters on monday that footage of the alleged incident appeared to show an \"officer kicking a yellow object\" not a man in an alley he conceded that the incident needed to be investigated although he ruled out police \"malpractice\" and said the video could have been \"doctored\" lam said that while she supported the police to safeguard the rule of law she would not \"condone irregularities or wrong practices done by the police force.\" \"i know the level of mutual trust is now relatively low in hong kong but we have to make sure that we can continue to operate as a civil society,\" she told reporters lam was speaking after amnesty called for an investigation into police actions and urged the hong kong government to encourage beijing to safeguard protesters\\' right to peaceful assembly \"ordering an independent and effective investigation into police actions would be a vital first step,\" joshua rosenzweig head of amnesty\\'s east asia regional office said in a report \"authorities need to show they are willing to protect human rights in hong kong even if this means pushing back against beijing\\'s \\'red line\\'.\" in 2017 chinese president xi jinping warned in a speech marking the 20th anniversary of hong kong\\'s handover to beijing that any attempt to undermine china\\'s sovereignty was a \"red line\" that would not be tolerated what started as protests over a now-shelved extradition bill that would have allowed criminal suspects to be sent to mainland chinafor trial have evolved into broader calls for greater democracy and an independent inquiry into police actions a democratic lawmaker roy kwong was taken to hospital on tuesday after being punched and kicked by three men in the tin shui wai district close to the border with mainland china fellow democratic party lawmaker lam cheuk-ting said the assailants had suspected triad or organised criminal backgrounds and intended \"to send a message to threaten all\" pro-democracy lawmakers over more than three months many peaceful protests have degenerated into running battles between black-clad protesters and police who have responded with tear gas water cannon rubber bullets bean bag rounds and several live rounds fired into the air police who have also been seen beating protesters on the ground with batons say they have shown restraint in the face of increased violence including protesters hurling petrol bombs lam said she hoped a dialogue session on thursday evening with 150 members of the public would help bridge the divide but conceded reconciliation would take time activists are also frustrated by what they see as beijing\\'s tightening grip over the former british colony that was returned to china under a \"one country two systems\" arrangement in 1997 china has said it is committed to the arrangement that ensures hong kong freedoms not enjoyed on the mainland in a direct challenge to communist party rulers in mainland china some protesters have targeted beijing\\'s representative office in hong kong thrown bricks outside the chinese people\\'s liberation army base and set fire to the chinese flag china celebrates the 70th anniversary of the founding of the people\\'s republic on oct 1 with authorities in hong kong eager to avoid scenes that could embarrass the central government in beijing lam said all national events should be respected.']"
      ]
     },
     "execution_count": 190,
     "metadata": {},
     "output_type": "execute_result"
    }
   ],
   "source": [
    "samp_article = sample(sampled_articles,k=1)\n",
    "samp_article"
   ]
  },
  {
   "cell_type": "code",
   "execution_count": 191,
   "metadata": {},
   "outputs": [
    {
     "data": {
      "text/plain": [
       "(defaultdict(<function __main__.keywordCounter.<locals>.<lambda>()>,\n",
       "             {'hong': 9,\n",
       "              'kong': 8,\n",
       "              'lam': 7,\n",
       "              'xi': 1,\n",
       "              'mainland': 4,\n",
       "              'china': 5,\n",
       "              'communist': 1}),\n",
       " defaultdict(<function __main__.keywordCounter.<locals>.<lambda>()>,\n",
       "             {'Hong Kong': 35}),\n",
       " 9)"
      ]
     },
     "execution_count": 191,
     "metadata": {},
     "output_type": "execute_result"
    }
   ],
   "source": [
    "keywordCounter(preprocess_text(samp_article[0],split=True),protest_specific_key_words, protest_key_words)"
   ]
  },
  {
   "cell_type": "code",
   "execution_count": 11,
   "metadata": {},
   "outputs": [
    {
     "data": {
      "image/png": "[encoded data removed]",
      "text/plain": [
       "<Figure size 432x288 with 1 Axes>"
      ]
     },
     "metadata": {
      "needs_background": "light"
     },
     "output_type": "display_data"
    },
    {
     "data": {
      "image/png": "[encoded data removed]",
      "text/plain": [
       "<Figure size 432x288 with 1 Axes>"
      ]
     },
     "metadata": {
      "needs_background": "light"
     },
     "output_type": "display_data"
    },
    {
     "data": {
      "image/png": "[encoded data removed]",
      "text/plain": [
       "<Figure size 432x288 with 1 Axes>"
      ]
     },
     "metadata": {
      "needs_background": "light"
     },
     "output_type": "display_data"
    },
    {
     "data": {
      "image/png": "[encoded data removed]",
      "text/plain": [
       "<Figure size 432x288 with 1 Axes>"
      ]
     },
     "metadata": {
      "needs_background": "light"
     },
     "output_type": "display_data"
    }
   ],
   "source": [
    "import matplotlib.pyplot as plt\n",
    "\n",
    "filtered_kw_counts = [kw_count for _,_,kw_count in kw_filtered_articles]\n",
    "num_protests_per_article = [len(label_count) for kw_count, label_count, _ in filtered_kw_counts]\n",
    "min_kw_per_article = [min([val for _,val in label_count.items()]) for _, label_count, _ in filtered_kw_counts if label_count]\n",
    "max_kw_per_article = [max([val for _,val in label_count.items()]) for _, label_count, _ in filtered_kw_counts if label_count]\n",
    "protest_kws_counts = [protest_count for _, _, protest_count in filtered_kw_counts]\n",
    "#min_kw_per_article = [min([val for _,val in label_count]) for _, label_count in kw_counts]\n",
    "\n",
    "plt.hist(num_protests_per_article)\n",
    "plt.show()\n",
    "\n",
    "plt.hist(min_kw_per_article)\n",
    "plt.show()\n",
    "\n",
    "plt.hist(max_kw_per_article)\n",
    "plt.show()\n",
    "\n",
    "plt.hist(protest_kws_counts, bins=120)\n",
    "plt.show()"
   ]
  },
  {
   "cell_type": "code",
   "execution_count": 13,
   "metadata": {},
   "outputs": [],
   "source": [
    "#corpus_tf_idfs = vectorizer.transform()\n",
    "\n",
    "\n",
    "def assign_label(tupl):\n",
    "    _, _, (kw, labels, _) = tupl\n",
    "    if len(labels) > 1:\n",
    "        return \"NA\"\n",
    "    else:\n",
    "        return [key for key in labels][0]\n",
    "\n",
    "def score_seed(tupl):\n",
    "    score = 0\n",
    "    _, _, (kw, labels, _) = tupl \n",
    "    if len(labels) == 1:\n",
    "        keys = [key for key in labels]\n",
    "        score = labels[keys[0]]\n",
    "    return score\n",
    "\n",
    "PROTESTS = ['Venezuela', 'France', 'Hong Kong', 'Iran']\n",
    "\n",
    "def gather_k_seeds(ranked_labelled_tuples, k =200):\n",
    "    seeds = defaultdict(list)\n",
    "    ranks = defaultdict(list)\n",
    "    for rank, label, tupl in ranked_labelled_tuples:\n",
    "        if len(seeds[label]) < k:\n",
    "            seeds[label].append(tupl)\n",
    "            ranks[label].append(rank)\n",
    "    return seeds, ranks\n",
    "\n",
    "SEED_SIZE = 150\n",
    "scored_examples = [(score_seed(tupl), tupl) for tupl in kw_filtered_articles]\n",
    "ranked_examples = sorted(scored_examples , key = lambda x: x[0], reverse=True)\n",
    "ranks, ranked_examples = zip(*ranked_examples)\n",
    "labels = [assign_label(tupl) for tupl in ranked_examples]\n",
    "labelled_ranks = list(zip(labels,ranks))\n",
    "ranked_labelled_tuples = list(zip(ranks,labels,ranked_examples))\n",
    "seeds, seed_ranks = gather_k_seeds(ranked_labelled_tuples, k = SEED_SIZE)\n",
    "\n",
    "# Take the most likely from each class (With no overlap between kw labels. Visualize the stats from above again)\n",
    "# Come up with a min threshold that gives you the highest number K of these clean articles\n",
    "# Add a NOTA class\n",
    "# Train a classifier\n",
    "# Evaluate over a holdout set\n",
    "# Score all the examples\n",
    "# Filter based on scores\n",
    "# Threshold\n",
    "# Check class distribution across riots\n",
    "# Manually evaluate 30 samples"
   ]
  },
  {
   "cell_type": "code",
   "execution_count": 14,
   "metadata": {},
   "outputs": [
    {
     "data": {
      "image/png": "[encoded data removed]",
      "text/plain": [
       "<Figure size 432x288 with 1 Axes>"
      ]
     },
     "metadata": {
      "needs_background": "light"
     },
     "output_type": "display_data"
    },
    {
     "data": {
      "image/png": "[encoded data removed]",
      "text/plain": [
       "<Figure size 432x288 with 1 Axes>"
      ]
     },
     "metadata": {
      "needs_background": "light"
     },
     "output_type": "display_data"
    },
    {
     "data": {
      "image/png": "[encoded data removed]",
      "text/plain": [
       "<Figure size 432x288 with 1 Axes>"
      ]
     },
     "metadata": {
      "needs_background": "light"
     },
     "output_type": "display_data"
    },
    {
     "data": {
      "image/png": "[encoded data removed]",
      "text/plain": [
       "<Figure size 432x288 with 1 Axes>"
      ]
     },
     "metadata": {
      "needs_background": "light"
     },
     "output_type": "display_data"
    }
   ],
   "source": [
    "import matplotlib.pyplot as plt\n",
    "\n",
    "num_protests_per_article = [len(label_count) for kw_count, label_count,_ in raw_filtered_kw]\n",
    "min_kw_per_article = [min([val for _,val in label_count.items()]) for _, label_count,_ in raw_filtered_kw if label_count]\n",
    "max_kw_per_article = [max([val for _,val in label_count.items()]) for _, label_count,_ in raw_filtered_kw if label_count]\n",
    "#min_kw_per_article = [min([val for _,val in label_count]) for _, label_count in kw_counts]\n",
    "\n",
    "plt.hist(num_protests_per_article)\n",
    "plt.show()\n",
    "\n",
    "plt.hist(min_kw_per_article)\n",
    "plt.show()\n",
    "\n",
    "plt.hist(max_kw_per_article)\n",
    "plt.show()\n",
    "\n",
    "plt.hist(labels)\n",
    "plt.show()"
   ]
  },
  {
   "cell_type": "code",
   "execution_count": 15,
   "metadata": {},
   "outputs": [
    {
     "data": {
      "text/plain": [
       "[150, 150, 150, 150, 121]"
      ]
     },
     "execution_count": 15,
     "metadata": {},
     "output_type": "execute_result"
    }
   ],
   "source": [
    "[len(seed) for protest, seed in seeds.items()]"
   ]
  },
  {
   "cell_type": "code",
   "execution_count": 16,
   "metadata": {},
   "outputs": [
    {
     "name": "stderr",
     "output_type": "stream",
     "text": [
      "/home/felixlabelle3/.local/lib/python3.7/site-packages/sklearn/feature_extraction/text.py:385: UserWarning: Your stop_words may be inconsistent with your preprocessing. Tokenizing the stop words generated tokens ['abov', 'ani', 'becaus', 'befor', 'doe', 'dure', 'ha', 'hi', \"it'\", 'onc', 'onli', 'ourselv', \"she'\", \"should'v\", 'themselv', 'thi', 'veri', 'wa', 'whi', \"you'r\", \"you'v\", 'yourselv'] not in stop_words.\n",
      "  'stop_words.' % sorted(inconsistent))\n"
     ]
    },
    {
     "data": {
      "text/plain": [
       "24"
      ]
     },
     "execution_count": 16,
     "metadata": {},
     "output_type": "execute_result"
    }
   ],
   "source": [
    "from sklearn.feature_extraction.text import TfidfVectorizer\n",
    "from nltk.corpus import stopwords\n",
    "stop_words = set(stopwords.words('english'))\n",
    "\n",
    "# TODO: Consider adding n-grams after training the model a first time\n",
    "vectorizer = TfidfVectorizer(preprocessor=lambda x: x, tokenizer = preprocess_text, stop_words=stop_words, max_features=50000)\n",
    "seed_texts = [\" \".join(tupl[1]) for protest, seed in seeds.items() for tupl in seed]\n",
    "X = vectorizer.fit_transform(seed_texts)\n",
    "# CHECK THAT ALL KEYWORDS ARE IN YOUR VOCAB\n",
    "vec_line_up = [(label, key_word) for label, key_words in protest_specific_key_words.items() for key_word in key_words if key_word in vectorizer.vocabulary_]\n",
    "vocab_kws = set([kw for _, kw in vec_line_up])\n",
    "kw_set = set([kw for _, kws in protest_specific_key_words.items() for kw in kws])\n",
    "len([kw for kw in kw_set if kw not in vocab_kws])"
   ]
  },
  {
   "cell_type": "code",
   "execution_count": 17,
   "metadata": {},
   "outputs": [
    {
     "data": {
      "application/vnd.jupyter.widget-view+json": {
       "model_id": "629ee306970942cc96233751a4cfac23",
       "version_major": 2,
       "version_minor": 0
      },
      "text/plain": [
       "HBox(children=(FloatProgress(value=0.0, max=150.0), HTML(value='')))"
      ]
     },
     "metadata": {},
     "output_type": "display_data"
    },
    {
     "name": "stdout",
     "output_type": "stream",
     "text": [
      "\n"
     ]
    },
    {
     "data": {
      "application/vnd.jupyter.widget-view+json": {
       "model_id": "c7ae6dd768d341d4a83169066dc14c37",
       "version_major": 2,
       "version_minor": 0
      },
      "text/plain": [
       "HBox(children=(FloatProgress(value=0.0, max=150.0), HTML(value='')))"
      ]
     },
     "metadata": {},
     "output_type": "display_data"
    },
    {
     "name": "stdout",
     "output_type": "stream",
     "text": [
      "\n"
     ]
    },
    {
     "data": {
      "application/vnd.jupyter.widget-view+json": {
       "model_id": "26c2e68cef614a389d8622bb5548eb73",
       "version_major": 2,
       "version_minor": 0
      },
      "text/plain": [
       "HBox(children=(FloatProgress(value=0.0, max=150.0), HTML(value='')))"
      ]
     },
     "metadata": {},
     "output_type": "display_data"
    },
    {
     "name": "stdout",
     "output_type": "stream",
     "text": [
      "\n"
     ]
    },
    {
     "data": {
      "application/vnd.jupyter.widget-view+json": {
       "model_id": "68bd0a7d92944dc89effb2dcdc9ccccb",
       "version_major": 2,
       "version_minor": 0
      },
      "text/plain": [
       "HBox(children=(FloatProgress(value=0.0, max=150.0), HTML(value='')))"
      ]
     },
     "metadata": {},
     "output_type": "display_data"
    },
    {
     "name": "stdout",
     "output_type": "stream",
     "text": [
      "\n"
     ]
    },
    {
     "data": {
      "application/vnd.jupyter.widget-view+json": {
       "model_id": "6364d28d94284de9befa4cb8bc88b284",
       "version_major": 2,
       "version_minor": 0
      },
      "text/plain": [
       "HBox(children=(FloatProgress(value=0.0, max=150.0), HTML(value='')))"
      ]
     },
     "metadata": {},
     "output_type": "display_data"
    },
    {
     "name": "stdout",
     "output_type": "stream",
     "text": [
      "\n"
     ]
    }
   ],
   "source": [
    "featurized_seeds = []\n",
    "labels = []\n",
    "seed_texts = []\n",
    "for protest, seed in seeds.items():\n",
    "    if protest == 'NA' and len(seed) < SEED_SIZE:\n",
    "        seed += sample(removed_articles , k = SEED_SIZE-len(seed))\n",
    "    for tupl in tqdm(seed):\n",
    "        featurized_seeds.append(vectorizer.transform([\" \".join(tupl[1])]).toarray().flatten())\n",
    "        seed_texts.append(\" \".join(tupl[1]))\n",
    "        labels.append(protest)"
   ]
  },
  {
   "cell_type": "code",
   "execution_count": 18,
   "metadata": {},
   "outputs": [
    {
     "data": {
      "text/plain": [
       "[('NA',\n",
       "  'washington (nytimes) - the plane was late and the kill team was worried international listings showed that cham wings airlines flight 6q501 scheduled to take off from damascus syria at 7.30pm for baghdad had departed but in fact an informant at the airport reported it was still on the ground and the targeted passenger had not yet shown up the hours ticked by and some involved in the operation wondered if it should be called off then just before the plane door closed a convoy of cars pulled up on the tarmac carrying general qassem soleimani iran\\'s security mastermind who climbed on board along with two escorts flight 6q501 lifted off three hours late bound for the iraqi capital the plane landed at baghdad international airport just after midnight at 12.36am and the first to disembark were soleimani and his entourage waiting at the bottom of the gangway was abu mahdi al-muhandis an iraqi official in charge of militias and close to iran two cars carrying the group headed into the night - shadowed by american mq-9 reaper drones at 12.47 the first of several missiles smashed into the vehicles engulfing them in flames and leaving 10 charred bodies inside the operation that took out soleimani commander of the quds force of iran\\'s revolutionary guard propelled the united states to the precipice of war with iran and plunged the world into seven days of roiling uncertainty the story of those seven days and the secret planning in the months preceding them ranks as the most perilous chapter so far in president donald trump\\'s three years in office: his decision to launch an audacious strike on iran and his attempt through allies and a back channel to keep the ensuing crisis from mushrooming out of control the president\\'s decision to ratchet up decades of simmering conflict with iran set off an extraordinary worldwide drama much of which played out behind the scenes in capitals from europe to the middle east leaders and diplomats sought to head off a full-fledged new war while at the white house and pentagon the president and his advisers ordered more troops to the region saudi arabia\\'s de facto ruler was so alarmed he dispatched his brother to washington for a clandestine meeting with trump european leaders incensed at being kept in the dark scrambled to keep iran from escalating if it did americans developed plans to strike a command-and-control ship and conduct a cyberattack to partly disable iran\\'s oil and gas sector but the united states also sent secret messages through swiss intermediaries urging iran not to respond so forcefully that trump would feel compelled to go even further after iran did respond - firing 16 missiles at bases housing us troops without hurting anyone as a relatively harmless show of force - a message came back through the swiss saying that would be the end of its reprisal for now the message forwarded to washington within five minutes after it was received persuaded the president to stand down when the week ended without the war many feared trump boasted that he had taken out a us enemy but the struggle between two nations is not really over iran may find other ways to take revenge iraqi leaders may expel us forces accomplishing in death what soleimani tried and failed to do in life and in the confusion a ukrainian civilian passenger jet was destroyed by an iranian missile killing 176 people the episode briefly gave trump\\'s allies something to cheer distracting from the coming senate impeachment trial but now trump faces questions even among republicans about the shifting justifications for the strike that he and his national security team have offered secretary of state mike pompeo initially cited the need to forestall an \"imminent\" attack and the president has amplified that to say four us embassies were targeted but administration officials said they did not actually know when or where such an attack might occur and one state department official said it was \"a mistake\" to use the word \"imminent.\" and some were stunned that trump picked what they considered a radical option with unforeseen consequences related story soleimani\\'s death opens nuclear can of worms this account - based on interviews with dozens of trump administration officials military officers diplomats intelligence analysts and others in the united states europe and the middle east - offers new details about what may be the most consequential seven days of the trump presidency if protesters enter the compound kill them protesters burn property in front of the us embassy compound in baghdad on dec 31 2019 photo: ap the confrontation may have actually begun by accident for years iran has sponsored proxy forces in iraq competing for influence with us troops who first arrived in the invasion of 2003 starting last fall iranian-backed militias launched rockets at iraqi bases that house us troops shattering nerves more than doing much damage so when rockets smashed into the k1 military base near kirkuk on dec 27 killing an american civilian contractor nawres waleed hamid and injuring several others the only surprise was the casualties hizbollah the iranian-backed militia group held responsible had fired at least five other rocket attacks on bases with americans in the previous month without deadly results us intelligence officials monitoring communications between hizbollah and soleimani\\'s guard learned that the iranians wanted to keep the pressure on the americans but had not intended to escalate the low-level conflict the rockets landed in a place and at a time when us and iraqi personnel normally were not there and it was only by unlucky chance that hamid was killed us officials said but that did not matter to trump and his team an american was dead and the president who had called off a retaliatory strike with 10 minutes to go in june and otherwise refrained from military action in response to iranian provocations now faced a choice advisers told him iran had probably misinterpreted his previous reluctance to use force as a sign of weakness to reestablish deterrence he should authorise a tough response on holiday at mar-a-lago his florida resort the president agreed to strikes on five sites in iraq and syria two days later killing at least 25 members of kataib hizbollah and injuring at least 50 more related story did trump\\'s iran gamble pay off? related story was us killing of qassem soleimani a strategic error? two days later on dec 31 pro-iranian protesters backed by many members of the same militia responded by breaking into the us embassy compound in baghdad and setting fires worried about repeats of the 1979 embassy takeover in iran or the 2012 attack on a diplomatic post in benghazi libya trump and his team ordered more than 100 marines to rush to baghdad from kuwait the marines received little information about their mission or what was happening on the ground as they loaded their magazines with ammunition all they knew was they were being sent to secure the embassy with one clear order: if protesters entered the compound kill them some of the marines made dry jokes about the movie \"rules of engagement,\" starring samuel l jackson as a commander whose unit fires on a crowd of embassy protesters stirring an international episode and a court-martial but when the marines reached baghdad none had to open fire they used nonlethal weapons like tear gas to disperse protesters and the siege ended without bloodshed still watching television in florida trump grew agitated by the chaos and ready to authorise a more robust response and dec 31 even as protests were beginning a top secret memo began circulating signed by robert o\\'brien his national security adviser listing potential targets including an iranian energy facility and a command-and-control ship used by the guard to direct small boats that harass oil tankers in the waters around iran the ship had been an irritant to americans for months especially after a series of covert attacks on oil tankers the memo also listed a more provocative option: targeting specific iranian officials for death by military strike among the targets mentioned according to officials who saw it was abdul reza shahlai an iranian commander in yemen who helped finance armed groups across the region in a photo taken on oct 1 2019 iranian revolutionary guards corps major general and commander of the quds force qasem soleimani speaks during an interview with members of the iranian leader\\'s bureau in teheran photo: afp soleimani was hardly a household name in the united states but as far as us officials were concerned he was responsible for more instability and death in the middle east than almost anyone as head of the elite quds force soleimani was effectively the second most powerful man in iran and had a hand in managing proxy wars in iraq syria lebanon and yemen including a campaign of roadside bombs and other attacks that killed an estimated 600 us troops during the height of the iraq war at 62 with a narrow face gray hair and a close-cropped beard soleimani was known for travelling without body armor or personal protection collaborating with some of the most ruthless figures in the region while sharing meals with the fighters and telling them to take care of their mothers according to a hezbollah field commander who met him in syria after decades of working in the shadows soleimani had emerged in recent years following the arab spring and war with the islamic state as the public figure most associated with iran\\'s goal of achieving regional dominance photographs surfaced showing him visiting the front lines in iraq or syria and meeting with iran\\'s supreme leader in teheran and sitting down with hezbollah leader hassan nasrallah in lebanon when president bashar assad of syria visited teheran last year it was soleimani who welcomed him by the end of 2019 soleimani could boast of a number of iranian accomplishments: assad a longtime iranian ally was safely in power in damascus syria\\'s capital prevailing in a bloody multifront years-long civil war and the quds force had a permanent presence on israel\\'s frontier a number of militias soleimani had helped foster were receiving salaries from the iraqi government and exerting power in iraq\\'s political system and the islamic state had been defeated in syria and iraq - thanks in part to ground forces he had overseen one area where he and the united states shared interests related story trump ups iran accusations says 4 us embassies targeted related story washington turns down iraqi call to remove troops for the past 18 months officials said there had been discussions about whether to target soleimani figuring that it would be too difficult to hit him in iran officials contemplated going after him during one of his frequent visits to syria or iraq and focused on developing agents in seven different entities to report on his movements - the syrian army the quds force in damascus hizbollah in damascus the damascus and baghdad airports and the hizbollah and popular mobilisation forces in iraq by the time tensions with iran spiked in may with attacks on four oil tankers john bolton then the president\\'s national security adviser asked the military and intelligence agencies to produce new options to deter iranian aggression among those presented to bolton was killing soleimani and other leaders of the guard at that point work to track soleimani\\'s travels grew more intense by september the us central command and joint special operations command were brought into the process to plan a possible operation various alternatives were discussed - some in syria some in iraq syria seemed more complicated both because the us military had less freedom of movement there and because soleimani spent most of his time with hizbollah officers and officials did not want to bring them into the mix and risk a new war with israel agents recruited in syria and iraq reported from time to time on soleimani\\'s movements according to an official involved surveillance revealed that he flew on a number of airlines and sometimes tickets for a trip were bought on more than one to throw off pursuers he would be delivered to his plane at the last possible moment then sit in the front row of business class so he could get off first and depart quickly soleimani set off on his last trip on new year\\'s day flying to damascus and then heading by car to lebanon to meet with nasrallah the hezbollah leader before returning to damascus that evening during their meeting nasrallah said in a later speech he warned soleimani that the us news media was focusing on him and publishing his photograph \"this was media and political preparation for his assassination,\" nasrallah said but as he recalled soleimani laughed and said that in fact he hoped to die a martyr and asked nasrallah to pray that he would at spy headquarters seeing a \\'mosaic effect\\' us secretary of state mike pompeo announces new sanctions on iran from the white house in washington on jan 10 2020 that same day at cia headquarters in langley virginia gina haspel was working to fulfil that prayer haspel the director was shown intelligence indicating that soleimani was preparing to move from syria to iraq officials told her there was additional intelligence that he was working on a large-scale attack intended to drive us forces out of the middle east there was no single definitive piece of intelligence instead officials said cia officers spoke of the \"mosaic effect,\" multiple scraps of information that came together indicating that soleimani was organising proxy forces around the region including in lebanon yemen and iraq to attack us embassies and bases several officials said they did not have enough concrete information to describe such a threat as \"imminent,\" despite pompeo\\'s assertion but they did see a worrying pattern while pompeo also claimed later that such an attack could kill \"hundreds,\" other officials said they had no specific intelligence suggesting that most us facilities in the region have been heavily fortified for years and such an immense death toll would be unlikely at no point in the last two decades even during the worst of the iraq war have any hostile forces been able to pull off such a deadly assault on americans at once related story us orders more iran sanctions confronts doubts about threat nonetheless haspel was convinced there was evidence of a coming attack and argued the consequences of not striking soleimani were more dangerous than waiting officials said while others worried about reprisals she reassured colleagues that iran\\'s response would be measured indeed she predicted the most likely response would be an ineffectual missile strike from iran on iraqi bases where us troops were stationed \"if past is prologue we have learned that when we enforce a red line with iran when iran gets rapped on the knuckles they tactically retreat,\" said dan hoffman a former cia officer who served in iraq \"the retreat might be ephemeral before iran probes its enemies with more gradually escalating attacks but we\\'ve seen it repeatedly.\" there was little dissent about killing soleimani among trump\\'s senior advisers but some pentagon officials were shocked that the president picked what they considered the most extreme option and some intelligence officials worried that the possible long-term ramifications were not adequately considered particularly if action on iraqi soil prompted iraq to expel u.s forces \"the whole thing seems haphazard to me,\" said marc polymeropoulos a former senior cia official who retired last year in the middle east \\'a state of mobilisation\\' the funeral procession for gen qassem soleimani in teheran iran on jan 6 2020 photo: the new york times the trump administration has said that soleimani was going to baghdad as part of the attack plot but there are different theories about the purpose of his visit soleimani had long played a role as power broker in iraqi politics and two iraqi politicians with links to iran said he was coming to baghdad to help break an impasse over replacing the prime minister after the collapse of the government in november in the face of anti-iran protests but prime minister adel abdul mahdi still serving as a caretaker until a new government is formed told parliament after the drone strike that soleimani had another goal: to bring an iranian response to a saudi offer to reduce tensions the shadow conflict between iran and saudi arabia had been heating up after iranian forces were blamed for an attack on two saudi oil facilities in september and trump opted against a military response saudi officials worried that they were vulnerable and opened a back channel in his speech to parliament abdul mahdi said he had planned to meet with soleimani a few hours after his arrival in baghdad \"it was expected that he was carrying a message for me from the iranian side responding to the saudi message that we had sent to the iranian side to reach agreements and breakthroughs,\" abdul mahdi said related story us tried failed to take out another iranian leader the same day top general was killed a saudi official said he was unaware of any message carried by soleimani and some analysts doubted abdul mahdi\\'s account \"that is laughable,\" said mohammed alyahya editor-in-chief of al arabiya english a saudi news site \"suddenly this man is a diplomat extraordinaire one day before he died?\" another theory advanced by an intelligence official involved in the operation held that soleimani was visiting iraq to quash anti-iranian protests by having his shi\\'ite militia break them up by force he hoped to install a new anti-us government that might even throw out us forces whatever goals soleimani may have had they died with him in the mangled wreckage at baghdad\\'s airport altogether 10 people were killed - soleimani al-muhandis and their aides al-muhandis had helped found hizbollah the militia held responsible for the dec 27 rocket attack that killed the american contractor but another iranian commander escaped the same night soleimani died us forces tried to kill shahlai the quds force commander in yemen mentioned in o\\'brien\\'s memo still the attack failed because of an undisclosed problem with the intelligence iran braced for more \"there was a state of mobilisation to get ready in case that was the first stage in a wider plan,\" said mohammed obeid a lebanese political activist with ties to iran\\'s \"resistance axis\" in the region \"there could have been other steps that the americans or the israelis would take broadening the circle of confrontation.\" \\'we know that our region is stormy\\' in a photo taken on june 17 2017 members of the iranian-backed militias known as the popular mobilization forces watch the road at the syrian border outside al badi iraq photo: the new york times trump planned to play golf the next morning jan 4 but advisers concluded it would send the wrong message as soleimani\\'s death stirred unrest around the middle east and raised the prospect of a wider conflict with iran the president was initially upbeat expecting the operation to be greeted with applause much like the raid in october that killed abu bakr al-baghdadi leader of the islamic state indeed trump opened his first statement to reporters on the mission that friday by describing soleimani as the \"no 1 terrorist anywhere in the world,\" much as he had opened his statement a couple of months ago calling al-baghdadi the \"world\\'s no 1 terrorist leader.\" but as the president watched television over the weekend he grew angry that critics were accusing him of reckless escalation he sought validation from guests at his florida clubs recounting details of the baghdad embassy protests and drinking in their praise for his decisiveness he told some associates that he wanted to preserve the support of republican hawks in the senate in the coming impeachment trial naming republican senator tom cotton of arkansas as an example even though they had not spoken about iran since before christmas while trump tipped off another hawk - republican senator lindsey graham of south carolina who was visiting in florida - his administration gave no advance warning to its european allies or persian gulf partners in advance of the strike the only foreign leader who appeared in the know was prime minister benjamin netanyahu of israel who had spoken with pompeo before the attack and later offered a cryptic public hint hours before it took place \"we know that our region is stormy very very dramatic things are happening in it,\" netanyahu told reporters unprompted on the tarmac in tel aviv before departing for a visit to athens greece he went on to offer support for the united states \"and to its full right to defend itself and its citizens.\" israeli leaders were later pleased by the death of soleimani one of their deadliest enemies but remained silent lest they provoke retaliation even as shelter supplies were checked and a ski resort near the syrian frontier was briefly closed yet some figured that if hizbollah were to attack israel on iran\\'s behalf it might be better to have that battle now \"this camp believes that there will be such a clash anyway and the best timing is before the us elections - and that israel may lose this president in the white house,\" said ofer zalzberg an analyst at the international crisis group in riyadh saudi arabia the crown prince mohammed bin salman was unsettled despite his hawkish approach to iran he has been recently accepting offers from pakistanis omanis iraqis and others to mediate now he immediately dispatched his younger brother prince khalid bin salman the deputy defence minister on an emergency mission to the white house the saudi view was \"hitting soleimani is great but what is the plan?\" said sir john jenkins a former british ambassador to riyadh \"if there is a plan we are down with it if not we all have to de-escalate.\" khalid was pleased by whatever trump told him telling diplomats afterwards that the royal family was glad the president had dealt iran a serious blow - and relieved that he did not seem inclined to escalate further \\'a new stage in the trans-atlantic divorce\\' iran has 22 cultural sites designated on the world heritage list by unesco including the ruins of persepolis photo: ap but many were not sure trump issued bellicose threats to destroy iran if it retaliated including cultural treasures - in violation of international law - touching off international outrage and forcing his own defence secretary to publicly disavow the threat saying it would be a war crime trump was largely alone on the world stage no major european power not even britain voiced support for the drone strike even as leaders agreed that soleimani had blood on his hands as le monde the french newspaper put it the rift signalled \"a new stage in the trans-atlantic divorce over the middle east.\" trump\\'s withdrawal from the 2015 nuclear accord with iran has been a major point of contention european leaders deeply resented the unilateral pullout seeing that as a grave error that started a cycle of sanctions and recriminations that led to the seven-day showdown and now the restart of the iranian nuclear program when pompeo phoned his european counterparts after the strike they expressed concern in a 15-minute call foreign minister heiko maas of germany said the killing had not made it any easier to stabilise the region pompeo responded that the situation was now more stable the french and japanese both offered to serve as mediators but that only annoyed trump who dislikes middlemen so the europeans focused on keeping iran from overreacting a senior german diplomat sent a text message to his iranian counterpart urging calm he got back a terse though polite message in a series of phone calls european officials tried to give the iranians a sense that it was not them against the rest of the world but that in fact there was a global public beyond the united states according to one european diplomat president emmanuel macron of france played an active role reaching out to both sides \"macron\\'s specificity is that he does not approve but he also does not condemn,\" said michel duclos a former french ambassador to syria macron reached trump on sunday and emphasised the need for de-escalation trump suggested he was still open to diplomacy all the iranians had to do was come to him and they could make a deal trump said according to a senior french official two days later macron spoke with president hassan rouhani of iran and reminded him that he had \"missed a chance in september\" to talk directly with trump in a phone call macron tried to arrange on the sidelines of the annual united nations session chancellor angela merkel of germany spoke with trump too and expressed concern for iraq\\'s stability if allied troops withdrew if the united states stayed she said germany would also trump joked that germany was welcome to lead the international force and replace the americans merkel laughed \\'the ball is in our court,\\' the defence secretary says the attack on the ain al-asad airbase came after pro-teheran factions in iraq had vowed to join forces to \"respond\" to an american drone strike photos: ap babak taghvaee/twitter the most important european country in these seven days it turned out was switzerland which has served as the intermediary between the united states and iran since they broke off diplomatic relations in 1980 hours after the strike markus leitner the swiss ambassador in teheran headed to the iranian foreign ministry for the first of two visits that day according to a swiss analyst the americans had sent a letter to the iranians through the swiss warning against any retaliation for the drone strike that would incite further military action by trump the americans \"said that if you want to get revenge get revenge in proportion to what we did,\" rear adm ali fadavi deputy commander of the guard told iranian state television us officials disputed that characterisation and analysts doubted it was that explicit although that could be how iran interpreted it in any case leitner went back to the foreign ministry at day\\'s end for the iranian response unbeknown to the iranians trump had agreed to targeting the other sites originally considered - the oil and gas facility and the command-in-control ship - as part of any further retaliation that might be necessary if iran responded to the drone strike despite trump\\'s threat none of the targets on the list were actually cultural an official said that was just presidential bluster aggravated by an instinct to double down in the face of criticism on tuesday the defence special missile and astronautics centre part of the national security agency pulled together multiple strands of information including overhead imagery and communication intercepts to conclude that an iranian missile strike on iraqi bases was coming officials said the centre sent the warning to the white house vice president mike pence and o\\'brien immediately headed to the situation room in the basement joined later by the president and pompeo at the pentagon defence secretary mark esper and the entire joint chiefs of staff led by its chairman gen mark milley convened in a third-floor conference room and discussed how to move troops and families in the region to safer locations just after 5.30pm an almost robotic voice came over a speakerphone in the situation room \"sir we have indications of a launch at 22.30 zulu time from western iran in the direction of iraq syria and jordan.\" reports began coming in faster the missiles were staggered but most were streaking toward al asad air base in iraq home to 2,000 us troops the barrage ended after an hour but base commanders ordered troops to remain in shelter in case more missiles came around 7:30 about an hour after the strikes concluded esper and milley headed to the white house to meet with trump the missiles damaged a helicopter some tents and other structures but thanks to the advance warning inflicted no casualties and through the swiss came another message: that was it that was iran\\'s retribution the americans were struck by the speed of the communication it was shown to trump and pompeo within five minutes after the swiss received it from iran they passed the it by encrypted fax to their embassy in washington and then to brian hook the special representative on iran two minutes after the iranians gave it to them esper a veteran of the persian gulf war of 1991 counselled caution \"let\\'s stay calm,\" he said \"the ball is in our court there\\'s no rush to do anything let\\'s all sleep on it.\" by the time trump retired to the residence for the night advisers said he was relieved there had been no casualties and eager for a reset a path away from a deeper conflict he posted a reassuring tweet: \"all is well!\" \\'what were the threats?\\' lawmakers shouted president donald trump speaks during a campaign rally in toledo ohio on jan 9 2020 photo: afp the next morning trump addressed the nation from the white house and while he excoriated iran\\'s \"campaign of terror,\" he made clear he would not retaliate further \"iran appears to be standing down,\" he said without revealing the secret message sent through the swiss adding that he was \"ready to embrace peace with all who seek it.\" the immediate crisis over trump sent top officials to brief congress but the closed-door sessions in a secure facility where lawmakers had to surrender their telephones did little to quell concerns about the justification for the drone strike in the house briefing pompeo offered a brief introduction followed by presentations by haspel esper milley and joseph maguire acting director of national intelligence all three offered vague but emphatic assertions of intelligence indicating an imminent threat by soleimani milley said the evidence could not be clearer and was the \"best intelligence\" he had seen during his career but they refused to describe it in detail one lawmaker said the information was no more secret than what could be found on wikipedia at one point milley said the intelligence showed discussion by soleimani of potential terrorist attacks on three specific dates in late december or early january \"what were the threats?\" several lawmakers in the audience shouted but milley declined to say another lawmaker noted that the three dates milley cited were all before the strike on soleimani and no attacks actually occurred then \"what really came across was a sense of disdain and contempt for the legislative branch,\" said democratic representative gerald connolly of virginia \"they didn\\'t even pretend to be engaged in information sharing and consultation.\" republican senator mike lee of utah called the session for senators \"probably the worst briefing\" in his nine years in office \"we never got to the details,\" he said \"every time we got close they said \\'well we can\\'t discuss that here because it\\'s sensitive.\\'\" if it was too sensitive for congress it was not too sensitive for laura ingraham the fox news host in an interview broadcast on friday trump told her that the threat had been to four us embassies even as other officials said privately that they did not have concrete evidence of soleimani\\'s targets after seven days of sabre rattling and fresh deployments the immediate march to war had ended but inside the security establishment few consider the crisis to be over in the months to come they expect iran to regroup and find ways to strike back \"soleimani as a person inspired the masses he was a national icon he symbolised the struggle,\" said ali alfoneh a senior fellow at the arab gulf states institute in washington who studies iran \"but he was also a very small part of a very large organisation \"yes it is decapitated,\" he added \"but the organisation is not destroyed.\" related stories: related story \\'i wish i were dead\\': iran\\'s guard takes responsibility for ukrainian plane shootdown related story was us killing of qassem soleimani a strategic error? related story iran says it \\'unintentionally\\' shot down ukrainian jetliner after repeatedly denying responsibility related story trump ups iran accusations says 4 us embassies targeted related story washington turns down iraqi call to remove troops related story us tried failed to take out another iranian leader the same day top general was killed related story us orders more iran sanctions confronts doubts about threat related story ukraine jetliner crash may be grim echo of us downing of iran flight in 1988 related story trump uses campaign rally to trumpet soleimani killing as \\'justice\\' link original: thestraitstimes'),\n",
       " ('Iran',\n",
       "  'the protests have spread across the islamic republic since friday turning political with demonstrators demanding that top clerical leaders step down at least 100 banks and dozens of buildings and cars have been torched state media reported \"if necessary we will take decisive and revolutionary action against any continued moves to disturb the people\\'s peace and security,\" the revolutionary guards iran\\'s heavily armed main security force said in a statement carried by state media the breadth of the disturbances sparked by announcements of fuel rationing and price rises of at least 50 percent remains unclear as authorities have curbed internet access to stop the use of social media to organise rallies and disseminate videos but it appears to be the worst unrest since late 2017 when protests hit over 80 cities and towns staged by thousands of young and working-class iranians fed up with alleged corruption high unemployment and a widening gap between rich and poor the guards and its affiliated basij militia quelled that bout of unrest in which at least 22 people were killed two years on anger and desperation has resurfaced over the painful economic effect of renewed u.s sanctions and the government\\'s failed promises of more jobs and investment some iranians managed to post social media videos that showed police firing tear gas to disperse protesters the images could not be verified by reuters authorities said several people including members of the security forces and policemen had been killed and around 1,000 \"rioters\" arrested some for using guns and knives the iranian leadership is anxious to end the unrest to avoid giving ammunition to western especially u.s criticism of the islamic republic elite as allegedly corrupt and unaccountable president hassan rouhani\\'s government said the gasoline price rises were intended to raise around $2.55 billion a year for extra subsidies to 18 million families - or roughly 60 million iranians - struggling on low incomes cash handouts to needy fearing that any long spell of disturbances could undermine the legitimacy of the islamic republic altogether iran\\'s faction-ridden political elite has displayed a united front some officials and insiders said the establishment would eventually gain from the turmoil by securing a high turnout at parliamentary elections in february seen as a litmus test for the popularity of the islamic republic at home \"those 60 million people who will receive cash handouts as a result of this price hike will surely vote because the economy is a key issue for many iranians,\" a senior official told reuters on condition of anonymity \"the decision was made because among other reasons there were concerns that the growing economic discontent particularly among middle and lower classes could lead to a low turnout.\" handouts to the poor the most consistent core of support for the clerical establishment will start on tuesday supreme leader ayatollah ali khamenei on sunday blamed the turmoil on iran\\'s opponents and foreign foes denouncing protesters who attacked public property as \"thugs\" for many iranians the challenge to make ends meet became even harder last year when president donald trump withdrew the united states from tehran\\'s nuclear deal with world powers and reimposed sanctions that had been lifted under the accord frustration has grown over a sharp devaluation of iran\\'s rial currency as well as spikes in the prices of bread rice and other staples since washington began to apply \"maximum pressure\" on iran to make tougher nuclear and security concessions many in oil-producing iran see cheap gasoline as a fundamental right and the price hike sparked worries about a further squeeze on living costs despite state assurances that the revenue raised would be put to assisting needy families.'),\n",
       " ('Iran',\n",
       "  'reports monday on a trove of leaked iranian intelligence documents drove home the depth of its influence in iraq where anti-government protesters have accused tehran of meddling and overreach the new york times and online publication the intercept reported that the hundreds of documents from iran\\'s ministry of intelligence and security painted a rich picture of iran\\'s clout in iraq among the revelations they said was how iran had recruited former cia informants after the united states pulled out its troops in 2011 leaving the assets \"jobless and destitute\" and ready to share their knowledge and in one meeting between military intelligence officers from both countries the iraqi side had reportedly signalled to iran: \"all of the iraqi army\\'s intelligence -- consider it yours.\" iraq has had close but complex ties with its large eastern neighbour whose sway among iraqi political and military actors grew vastly after the us-led invasion of 2003 the new reports served to confirm the sentiment of protesters across baghdad and the shiite-majority south who oppose the current government and its backers in iran \"iran is intervening in our country,\" one demonstrator told afp \"but we the people are the decision makers.\" the demonstrator a veiled iraqi woman in her sixties also greeted the fact that iran had been hit by its own wave of protests since friday triggered by a sharp rise in petrol prices \"the spark that started in iraq has reached iran,\" she said - \\'special relationship\\' - the new york times and the intercept said they had verified around 700 pages of reports written mainly in 2014 and 2015 received from an anonymous source the source had said they wanted to \"let the world know what iran is doing in my country iraq\" the media outlets said the leaked documents \"offer a detailed portrait of just how aggressively tehran has worked to embed itself into iraqi affairs and of the unique role of general (qasem) soleimani\" soleimani the head of the iranian revolutionary guard corps\\' elite quds force is tehran\\'s point man on iraq and travels there frequently during times of political turmoil as iraq faces its largest and deadliest protests in decades soleimani has chaired meetings in iraq in recent weeks as a result of those talks sources have told afp iraq\\'s rival political parties have agreed to close rank around their embattled prime minister in one of the iranian leaks adel abdel mahdi is described as having had a \"special relationship\" with tehran when he was iraq\\'s oil minister in 2014 the prime minister\\'s office told afp it had \"no comment\" for the time being on the report - \\'client state\\' - iran and iraq fought a devastating war from 1980 to 1988 and were ferocious foes under dictator saddam hussein many iraqi dissidents under the saddam regime sheltered in iran but returned to political life in baghdad following the brutal ruler\\'s ouster in 2003 iran has therefore enjoyed close ties with the new generation of iraqi politicians and has helped train military actors including in the hashed al-shaabi paramilitary network it is also a major trading partner selling crucial electricity and natural gas to supplement iraq\\'s gutted power sector as well as goods ranging from fruit to carpets and cars iran has used wide-ranging intelligence operations to maintain that deep influence the nyt and the intercept reported its major goals were to \"keep iraq from falling apart and prevent the emergence of an independent kurdistan among other strategic aims\" the \"greater focus,\" the nyt report said was \"on maintaining iraq as a client state of iran and making sure that political factions loyal to tehran remain in power\" - protests road blocks - iran\\'s outsized influence has come under fire from protesters who accuse it of propping up a corrupt and inefficient system they want to bring down crowds again hit the streets and schools and government offices remained shut in iraq\\'s southern hotspots of kut najaf diwaniyah and nasiriyah on monday protesters also burnt car tyres and blocked roads leading to oil fields south of the port city of basra in baghdad crowds again swelled in tahrir (liberation) square and on the nearby al-sinek and al-ahrar (free men) bridges said an afp correspondent security forces set up cement barriers around the central bank building several kilometres (miles) away to protect it from attacks said a police source across tahrir demonstrators expressed solidarity with what they saw as a new sister protest movement in iran \"today the iranian people are just like the iraqis,\" 55-year-old protester abdulhadi told afp \"both are demanding their stolen rights and (mobilising) against the rule of our neighbour and against corrupt leaders.\"')]"
      ]
     },
     "execution_count": 18,
     "metadata": {},
     "output_type": "execute_result"
    }
   ],
   "source": [
    "sample(list(zip(labels,seed_texts)), k=3)"
   ]
  },
  {
   "cell_type": "code",
   "execution_count": 19,
   "metadata": {},
   "outputs": [
    {
     "data": {
      "text/plain": [
       "0.9666666666666667"
      ]
     },
     "execution_count": 19,
     "metadata": {},
     "output_type": "execute_result"
    }
   ],
   "source": [
    "from sklearn.model_selection import train_test_split\n",
    "from sklearn.linear_model import LogisticRegression\n",
    "\n",
    "X_train, X_test, y_train, y_test = train_test_split( featurized_seeds, labels, test_size=0.2, random_state=42)\n",
    "clf = LogisticRegression(random_state=0).fit(X_train, y_train)\n",
    "clf.score(X_train, y_train)"
   ]
  },
  {
   "cell_type": "code",
   "execution_count": 20,
   "metadata": {},
   "outputs": [
    {
     "data": {
      "text/plain": [
       "'              precision    recall  f1-score   support\\n\\n      France       0.94      1.00      0.97        30\\n   Hong Kong       0.94      0.97      0.95        32\\n        Iran       0.89      1.00      0.94        24\\n          NA       0.92      0.73      0.81        30\\n   Venezuela       0.94      0.94      0.94        34\\n\\n    accuracy                           0.93       150\\n   macro avg       0.92      0.93      0.92       150\\nweighted avg       0.93      0.93      0.92       150\\n'"
      ]
     },
     "execution_count": 20,
     "metadata": {},
     "output_type": "execute_result"
    }
   ],
   "source": [
    "from sklearn.metrics import f1_score,classification_report\n",
    "\n",
    "clf.score(X_test, y_test)\n",
    "y_preds = clf.predict(X_test)\n",
    "f1_score(y_test, y_preds, average='weighted')\n",
    "classification_report(y_test, y_preds)"
   ]
  },
  {
   "cell_type": "code",
   "execution_count": 21,
   "metadata": {},
   "outputs": [
    {
     "data": {
      "text/plain": [
       "array([[0.01483764, 0.86482111, 0.01342254, 0.09067032, 0.01624839]])"
      ]
     },
     "execution_count": 21,
     "metadata": {},
     "output_type": "execute_result"
    }
   ],
   "source": [
    "\n",
    "clf.predict_proba(vectorizer.transform([raw_articles[0]]).toarray())"
   ]
  },
  {
   "cell_type": "code",
   "execution_count": 22,
   "metadata": {},
   "outputs": [
    {
     "data": {
      "text/plain": [
       "'Demonstrators are moving between districts, blocking roads and setting fires.\\n\\nHere\\'s what you need to know:Tear gas engulfed districts as protesters besieged police stations.City\\'s leader warns protesters against challenging Beijing.Protesters occupy a shopping mall where clashes erupted last month.Demonstrators rally across the city.Police say hundreds have been arrested this summer.Tear gas engulfed districts as protesters besieged police stations.\\n\\nRiot police officers fired many volleys of tear gas at protesters near government offices, apartment complexes, shopping malls and parks across Hong Kong on Monday, as clashes with demonstrators plunged a broad stretch of the territory into chaos.\\n\\nAntigovernment demonstrators fanned out across at least a half-dozen districts, occupying roads and hurling objects at police stations as they tested the limits of the police force. They set a fire outside a police station in Sha Tin, in the New Territories region of northern Hong Kong, that quickly swelled until flames licked the sides of the building. Firefighters extinguished the blaze.\\n\\nLocations of protests on Monday\\n\\nBy The New York Times\\n\\nActivists called for a general strike and rallies on Monday, leading to service disruptions on several subway and rail lines and the cancellation of more than 200 flights from the city\\'s airport.\\n\\nThe officers arrested dozens of people, pinning some to the ground, and fired multiple rounds of tear gas, filling the air with white, acrid fumes. Local news outlets said that the riot officers also shot off rubber bullets.\\n\\nThe clashes on Monday were particularly widespread, even by the standards of the unrest that has roiled the city almost every weekend since early June. The clashes encompassed several districts where clashes had occurred in recent days and weeks, including several working-class neighborhoods, a shopping mall that is popular with mainland tourists, and a highway near the Hong Kong legislature. But the protests also ventured into other areas, including a town in Hong Kong\\'s northern reaches that had not previously been the site of any violence.\\n\\nThe police have repeatedly defended their use of tear gas, saying it is deployed only to disperse demonstrators who gather illegally or vandalize property. They have urged residents to stay indoors and keep their windows closed during such crackdowns.\\n\\nBut protesters and their supporters say the police are using tear gas indiscriminately. Many have raised questions about how the spraying of tear gas in dense urban areas might affect the health of vulnerable residents, such as pregnant women and old people.\\n\\n[A general strike has disrupted transit and led to canceled flights.]\\n\\nThe mass demonstrations started in early June over an unpopular extradition bill, but the protesters\\' demands quickly expanded to include calls for an independent commission to investigate alleged police misconduct, for the resignation of the city\\'s top leader and for the release of detained protesters.\\n\\nThe protesters have also increasingly called for greater democracy in the territory -- a reflection of pent-up anger and frustration with the rapid erosion of civil liberties in Hong Kong under Chinese rule. There is a widespread perception that the territory\\'s political elite is more beholden to Beijing than to local residents.\\n\\nSeparately, video footage circulating Monday morning appeared to show a van breaking through a barricade that protesters had set up on a road in the satellite town of Yuen Long, where a mob attacked protesters last month.\\n\\nAs the vehicle drove through, it scattered the crowd and appeared to hit at least one protester.\\n\\nLate Monday, a large group of men armed with long sticks attacked the protesters in the eastern district of North Point, local news outlets reported. Earlier, the protesters had warned in chat groups about the presence of the mob.\\n\\nCity\\'s leader warns protesters against challenging Beijing.\\n\\nThe embattled chief executive of Hong Kong warned that the antigovernment protests that have roiled the city for two months sought to challenge Beijing\\'s authority in ways that were \"very dangerous\" and would ruin the semiautonomous territory\\'s future.\\n\\nIn a news conference on Monday, the territory\\'s leader, Carrie Lam, condemned the increasingly confrontational tactics of protesters in recent weeks and vowed to restore law and order in the financial hub.\\n\\n\"This is the time for us to rally together, to set aside differences and bring back order and say \\'no\\' to chaos and violence,\" Ms. Lam said as the city was brought to standstill on Monday during a general strike and demonstrations that interrupted the morning commute for millions of people.\\n\\nIn recent demonstrations, a core group of protesters have tried to surround the central government\\'s representative office in the city, taunted mainland Chinese shoppers and traders, and over the past weekend threw the Chinese flag into the Victoria Harbor in a move that was swiftly condemned by Beijing.\\n\\n\"Some people have tarnished the national emblem and even removed the national flag and thrown it into the sea,\" Mrs. Lam said.\\n\\n\"In recent days, what we can see are obvious and willful statements of \\'Restore Hong Kong, revolution of our times,\\'\" Mrs. Lam said, citing a slogan from a pro-independence movement that has re-emerged in recent protest chants.\\n\\n\"We can see some actions challenging \\'One Country, Two Systems\\' and the country\\'s national sovereignty, and if I can even speak more boldly, they want to topple Hong Kong, to thoroughly destroy the livelihoods that 7 million people cherish.\"\\n\\nThe demonstrations began this summer initially as a way to protest a bill that would allow residents and visitors to Hong Kong to be extradited to mainland China for trial. Ms. Lam repeated her stance that the bill was \"dead,\" and said the city should not let the protesters use the cause as a pretext for pushing against Chinese rule.\\n\\n\"If we continue to allow these violent protesters to make use of the Fugitive Offenders\\' bill and these demands to conceal their ulterior motives, that is going to push Hong Kong to the verge of a very dangerous situation,\" she said.\\n\\nProtesters occupy a shopping mall where clashes erupted last month.\\n\\nHong Kong\\'s finance secretary, Paul Chan, told reporters on Monday morning that a summer of protests had already depressed the city\\'s economic growth. As an example, he cited sagging profits in the city\\'s luxury retail and jewelry sectors.\\n\\nHours later, as if to underscore Mr. Chan\\'s point, thousands of protesters streamed into a luxury mall, scattering bewildered shoppers in their wake.\\n\\nMany of the protesters sat on the mall\\'s ground floor, while others stood on a balcony holding yellow signs that said \"strike,\" \"boycott business,\" and \"boycott classes.\"\\n\\nThe mall, New Town Plaza in Sha Tin, was the site of a frenzied brawl last month between police and protesters that left more than two dozen people injured.\\n\\n\"I\\'m here because I\\'m on strike today. This city needs saving, so how can we still go to work like nothing is wrong?\" said Tammy Chan, 28, who said she works in human resources. \"I understand that people might have different values, and they might think that their jobs and their money are more important. But the truth is, if our home is destroyed by the Beijing government and all their lackeys, money isn\\'t going to be able to fix this society.\"\\n\\nBy Monday evening, several luxury stores around the city -- including in Causeway Bay and Tsim Sha Tsui, two major shopping districts that protesters occupied over the weekend -- had closed early for the day.\\n\\nDemonstrators rally across the city.\\n\\nThousands of antigovernment protesters rallied in swirling crowds across parks, shopping malls and other public spaces on Monday afternoon to support the general strike.\\n\\nOutside government offices in Admiralty, a downtown district on Hong Kong Island, protesters blocked traffic by moving steel and plastic barriers -- some erected by the police weeks earlier for crowd control -- to a nearby highway.\\n\\nJanice Lau, 38, a teacher who had taken her 6-year-old daughter to a rally in a nearby park, pumped her fist in encouragement.\\n\\n\"I\\'m proud of them,\" she said of the protesters, minutes before riot police officers began attempting to clear the crowd with tear gas. \"Society forced them to do this, and they didn\\'t harm society.\"\\n\\nArthur Chan, a physical education teacher at a Hong Kong university, was among those who attended a rally on Monday in the northwestern district of Tuen Mun.\\n\\n\"I asked for leave especially for today because I\\'ve seen injustice,\" said Mr. Chan, 24, noting that one of his students was among the 44 protesters that the police arrested last week on suspicion of rioting. The charge carries a prison term of up to 10 years.\\n\\n\"I feel particularly worried about him,\" Mr. Chan said of his student. \"He\\'s in his 20s, he does well in school and he\\'s very nice. I used to be sure that he had a bright future.\"\\n\\nPolice say hundreds have been arrested this summer.\\n\\nThe Hong Kong police said on Monday that officers had arrested 420 people since protests in the territory began in early June, including 82 on Monday.\\n\\nOfficers have also fired 1,000 rounds of tear gas and around 160 rubber bullets over the same time period, two police officials said in a news conference.\\n\\n\"We are here to maintain order to protect the community,\" said Kong Wing Cheung, the police superintendent.\\n\\nThe scale and intensity of the police response to the protests has prompted criticism from residents.\\n\\nCritics note that when protesters occupied central Hong Kong for 79 days in 2014, the police used tear gas more sparingly. But supporters say the police have regularly shown restraint, and did not use force against the demonstrators even when they stormed the Legislative Council in July.\\n\\nStrikes ground planes and delay public transit.\\n\\nHong Kong, one of Asia\\'s most important transit and financial hubs, was brought to a standstill on Monday, with more than 200 flights grounded and commuter trains disrupted as a citywide strike and demonstrations roiled the territory.\\n\\nAt the height of the morning rush, protesters blocked the doors of subway cars, causing delays throughout the system that kept millions of people from getting to work.\\n\\nThe disruptions were the third time in three weeks that protesters have interrupted train service. RTHK, a local broadcaster, said one-third of the Hong Kong International Airport\\'s air traffic controllers had joined the strike.\\n\\nDancus Au, 24, who works at a security firm, said he had been stuck at the Tai Wai subway station since early Monday morning but he blamed his inability to get to work on the city\\'s leader\\'s refusal to withdraw the extradition bill.\\n\\n\"My post is crucial because a security firm requires a lot of people to support its operation,\" Mr. Au said. \"Carrie Lam has caused my absence today. She should have said \\'withdraw\\' at the beginning of this fiasco. She is part of the root cause while Beijing is another part of it.\"\\n\\n\"I think the general strike is one of the last resorts that the protesters think are possible to express their views. I don\\'t blame them,\" he said, adding that he was considering attending a protest rally.\\n\\nAt least 200 flights were canceled, most of them aboard Hong Kong\\'s flag carrier Cathay Pacific.\\n\\n\\'Disappointing!\\' one pro-establishment politician says of city leader\\'s speech.\\n\\nProminent lawmakers across the political spectrum criticized Mrs. Lam, the city\\'s leader, saying her remarks in the morning about the protests provided no solutions to the political crisis that has roiled the territory for two months.\\n\\nClaudia Mo, a lawmaker in Hong Kong\\'s pro-democracy legislative minority, called Mrs. Lam\\'s administration \"morally bankrupt\" for failing to take responsibility for the unrest.\\n\\nMrs. Lam said on Monday that protesters had recently started to chant a slogan that challenged Beijing\\'s authority over the territory. But Ms. Mo said the slogan alone -- \"Revive Hong Kong, revolution of our times\" -- - did not prove that protesters were demanding independence.\\n\\n\"A slogan is a slogan is a slogan,\" Ms. Mo said. \"If she thinks that is a problem, what is the solution to it? Well, we\\'ll advise her: Try democracy.\"\\n\\nAnn Chiang, a lawmaker from Hong Kong\\'s largest pro-Beijing party, the Democratic Alliance for the Betterment of Hong Kong, also criticized Mrs. Lam\\'s performance.\\n\\n\"Carrie Lam raised many questions at the news conference, but where are the solutions?\" Ms. Chiang wrote on Facebook. \"Disappointing!!!\"\\n\\nAntony Dapiran, a Hong Kong-based lawyer and the author of a book about dissent in Hong Kong, called the news conference a \"disaster,\" in part because it included no concessions and came before the public turnout of Monday\\'s general strike was fully apparent.\\n\\nMrs. Lam has presented no clear way out of the crisis, he said, while the protesters have become increasingly confrontational.\\n\\n\"For me the most alarming thing is we\\'re kind of on a knife\\'s edge here -- open disrespect for the police, police stations being targeted,\" he said. \"We are on the cusp of what could be a general breakdown of law and order. It hasn\\'t gotten there yet, but the government hasn\\'t done anything to stop it.\"\\n\\nJoseph Wong, the former head of Hong Kong\\'s civil service, said he had not even bothered to listen to Mrs. Lam\\'s speech because he had lost faith in her. Mr. Wong said that instead of condemning protesters, Mrs. Lam should act on their demands -- for example, by formally withdrawing the contentious extradition bill and commissioning an independent inquiry into the police response to recent mob attacks in a Hong Kong metro station.\\n\\n\"The Chief Executive has the responsibility to set a good example by complying with the rule of law,\" he added. \"Many people doubt the chief executive herself is doing precisely what she keeps on preaching to the Hong Kong people.\"\\n\\nChina calls on Hong Kong public to \"stop the violence.\"\\n\\nChina\\'s state-run media denounced the resurgence of unrest in Hong Kong, portraying the demonstrators as lawless and warning that Beijing would not tolerate a descent into chaos.\\n\\nThe People\\'s Daily, the flagship newspaper of the ruling Communist Party, on Monday recited a long list of supposed offenses committed by the protesters, including insulting the Chinese flag -- an apparent reference to protesters who threw a Chinese flag into the harbor on Saturday.\\n\\nThe newspaper called on the Hong Kong public to rally behind the local police and to \"stop the violence,\" saying the protesters wanted to end the \"one country, two systems\" arrangement that has governed the territory since its handover to mainland China in 1997.\\n\\n\"They simply want to push Hong Kong into chaos,\" the editorial said of the protesters.\\n\\nThe Global Times, a hawkish tabloid, also raised the possibility of intervention by the mainland authorities in Hong Kong, a position embraced by some Chinese nationalists.\\n\\n\"The central government will not allow the complete fall of the rule of law in Hong Kong,\" the newspaper said in an editorial on Sunday. \"A few mobs can confuse Hong Kong for a while, but they absolutely cannot overthrow the order of Hong Kong completely.\"\\n\\nChinese news stations showed footage of protesters inside Hong Kong subway cars, trying to argue, without evidence, that they had lost public support.\\n\\nThe Hong Kong and Macau Affairs Office in Beijing, which oversees central government policy for the city, invited Hong Kong reporters to a news conference on Tuesday, the second since last week. The office is also scheduled to hold a meeting on Wednesday in Shenzhen, the mainland city closest to Hong Kong, to discuss recent developments with Hong Kong delegates to the national congress, the Hong Kong broadcaster RTHK reported.\\n\\nSkipping work to join Monday\\'s strike carries legal risks, experts say.\\n\\nHong Kong is a financial hub with an international reputation for efficiency and order.\\n\\nNot surprisingly, the city\\'s government offers limited protections for striking workers.\\n\\nSome employers signaled that they would tolerate workers\\' absence, including the Catholic Diocese and at least two local universities.\\n\\nBut because the general strike is a political action and not a labor dispute, scholars say, those who take part would not be covered by the limited protections offered to striking workers under Hong Kong law.\\n\\n\"Anyone on the general strike can be counted as being a brave person,\" said Rick Glofcheski, a law professor at the University of Hong Kong. \"In the current political mood, there are millions of them in Hong Kong. But basically you don\\'t have any protection.\"\\n\\nMaggie Chung, a 32-year-old accountant who attended a protest rally on Sunday, said that she planned to join the strike even though she had not yet passed the probationary period of her new job. \"If I lose my job, I can find another one,\" she said. \"But if Hong Kong is lost, it\\'s gone forever.\"\\n\\nProtesters are nimble and unpredictable.\\n\\nOne emerging feature of the civil disobedience gripping Hong Kong: Protesters are increasingly trying to keep the authorities guessing their next move.\\n\\nOver the weekend, groups of black-clad protesters appeared with little warning in neighborhoods across the city, in some cases blocking roads and vandalizing police stations. And in many instances, they disappeared before the police could tackle them to the ground or disperse them with tear gas and pepper spray.\\n\\n\"We are not as well equipped as the police, so we have to be as fluid as possible,\" Jason Law, a 19-year-old protester, said on Sunday.\\n\\nThe flash-mob-style tactics continued Monday morning as protesters briefly occupied subway stations and roads across the city, including in the satellite town of Yuen Long, the site of mob attacks against demonstrators last month.\\n\\nMany protesters have linked the tactics to the phrase \"Be water,\" a reference to a line uttered by Bruce Lee, the Hong Kong native and martial-arts star, in a 1971 episode of the American television series \"Longstreet.\" The protesters say the phrase captures their strategy of trying to outrun the authorities by swiftly changing tactics and targets.\\n\\nReporting was contributed by Mike Ives, Austin Ramzy, Tiffany May, Ezra Cheung, Katherine Li, Russell Goldman and Gillian Wong from Hong Kong, and by Javier Hernandez from Beijing. Elsie Chen contributed research from Beijing.'"
      ]
     },
     "execution_count": 22,
     "metadata": {},
     "output_type": "execute_result"
    }
   ],
   "source": [
    "raw_articles[0]"
   ]
  },
  {
   "cell_type": "code",
   "execution_count": 23,
   "metadata": {},
   "outputs": [
    {
     "name": "stdout",
     "output_type": "stream",
     "text": [
      "Extracting features over entire dataset\n"
     ]
    },
    {
     "data": {
      "application/vnd.jupyter.widget-view+json": {
       "model_id": "d9e9346c3ddb46f49fd532c921821a28",
       "version_major": 2,
       "version_minor": 0
      },
      "text/plain": [
       "HBox(children=(FloatProgress(value=0.0, max=58677.0), HTML(value='')))"
      ]
     },
     "metadata": {},
     "output_type": "display_data"
    },
    {
     "name": "stdout",
     "output_type": "stream",
     "text": [
      "\n",
      "Calculating scores over entire dataset\n"
     ]
    },
    {
     "data": {
      "application/vnd.jupyter.widget-view+json": {
       "model_id": "f6f23a7a331c41fca982a35c09878a19",
       "version_major": 2,
       "version_minor": 0
      },
      "text/plain": [
       "HBox(children=(FloatProgress(value=0.0, max=58677.0), HTML(value='')))"
      ]
     },
     "metadata": {},
     "output_type": "display_data"
    },
    {
     "ename": "ValueError",
     "evalue": "Expected 2D array, got 1D array instead:\narray=[0. 0. 0. ... 0. 0. 0.].\nReshape your data either using array.reshape(-1, 1) if your data has a single feature or array.reshape(1, -1) if it contains a single sample.",
     "output_type": "error",
     "traceback": [
      "\u001b[0;31m---------------------------------------------------------------------------\u001b[0m",
      "\u001b[0;31mValueError\u001b[0m                                Traceback (most recent call last)",
      "\u001b[0;32m<ipython-input-23-525194de0ae0>\u001b[0m in \u001b[0;36m<module>\u001b[0;34m\u001b[0m\n\u001b[1;32m      2\u001b[0m \u001b[0marticle_features\u001b[0m \u001b[0;34m=\u001b[0m \u001b[0;34m[\u001b[0m\u001b[0mvectorizer\u001b[0m\u001b[0;34m.\u001b[0m\u001b[0mtransform\u001b[0m\u001b[0;34m(\u001b[0m\u001b[0;34m[\u001b[0m\u001b[0marticle\u001b[0m\u001b[0;34m]\u001b[0m\u001b[0;34m)\u001b[0m \u001b[0;32mfor\u001b[0m \u001b[0marticle\u001b[0m \u001b[0;32min\u001b[0m \u001b[0mtqdm\u001b[0m\u001b[0;34m(\u001b[0m\u001b[0mraw_articles\u001b[0m\u001b[0;34m)\u001b[0m\u001b[0;34m]\u001b[0m\u001b[0;34m\u001b[0m\u001b[0;34m\u001b[0m\u001b[0m\n\u001b[1;32m      3\u001b[0m \u001b[0mprint\u001b[0m\u001b[0;34m(\u001b[0m\u001b[0;34m\"Calculating scores over entire dataset\"\u001b[0m\u001b[0;34m)\u001b[0m\u001b[0;34m\u001b[0m\u001b[0;34m\u001b[0m\u001b[0m\n\u001b[0;32m----> 4\u001b[0;31m \u001b[0marticle_scores\u001b[0m \u001b[0;34m=\u001b[0m \u001b[0;34m[\u001b[0m\u001b[0mclf\u001b[0m\u001b[0;34m.\u001b[0m\u001b[0mpredict_proba\u001b[0m\u001b[0;34m(\u001b[0m\u001b[0marticle_feature\u001b[0m\u001b[0;34m.\u001b[0m\u001b[0mtoarray\u001b[0m\u001b[0;34m(\u001b[0m\u001b[0;34m)\u001b[0m\u001b[0;34m.\u001b[0m\u001b[0mflatten\u001b[0m\u001b[0;34m(\u001b[0m\u001b[0;34m)\u001b[0m\u001b[0;34m)\u001b[0m \u001b[0;32mfor\u001b[0m \u001b[0marticle_feature\u001b[0m \u001b[0;32min\u001b[0m \u001b[0mtqdm\u001b[0m\u001b[0;34m(\u001b[0m\u001b[0marticle_features\u001b[0m\u001b[0;34m)\u001b[0m\u001b[0;34m]\u001b[0m\u001b[0;34m\u001b[0m\u001b[0;34m\u001b[0m\u001b[0m\n\u001b[0m",
      "\u001b[0;32m<ipython-input-23-525194de0ae0>\u001b[0m in \u001b[0;36m<listcomp>\u001b[0;34m(.0)\u001b[0m\n\u001b[1;32m      2\u001b[0m \u001b[0marticle_features\u001b[0m \u001b[0;34m=\u001b[0m \u001b[0;34m[\u001b[0m\u001b[0mvectorizer\u001b[0m\u001b[0;34m.\u001b[0m\u001b[0mtransform\u001b[0m\u001b[0;34m(\u001b[0m\u001b[0;34m[\u001b[0m\u001b[0marticle\u001b[0m\u001b[0;34m]\u001b[0m\u001b[0;34m)\u001b[0m \u001b[0;32mfor\u001b[0m \u001b[0marticle\u001b[0m \u001b[0;32min\u001b[0m \u001b[0mtqdm\u001b[0m\u001b[0;34m(\u001b[0m\u001b[0mraw_articles\u001b[0m\u001b[0;34m)\u001b[0m\u001b[0;34m]\u001b[0m\u001b[0;34m\u001b[0m\u001b[0;34m\u001b[0m\u001b[0m\n\u001b[1;32m      3\u001b[0m \u001b[0mprint\u001b[0m\u001b[0;34m(\u001b[0m\u001b[0;34m\"Calculating scores over entire dataset\"\u001b[0m\u001b[0;34m)\u001b[0m\u001b[0;34m\u001b[0m\u001b[0;34m\u001b[0m\u001b[0m\n\u001b[0;32m----> 4\u001b[0;31m \u001b[0marticle_scores\u001b[0m \u001b[0;34m=\u001b[0m \u001b[0;34m[\u001b[0m\u001b[0mclf\u001b[0m\u001b[0;34m.\u001b[0m\u001b[0mpredict_proba\u001b[0m\u001b[0;34m(\u001b[0m\u001b[0marticle_feature\u001b[0m\u001b[0;34m.\u001b[0m\u001b[0mtoarray\u001b[0m\u001b[0;34m(\u001b[0m\u001b[0;34m)\u001b[0m\u001b[0;34m.\u001b[0m\u001b[0mflatten\u001b[0m\u001b[0;34m(\u001b[0m\u001b[0;34m)\u001b[0m\u001b[0;34m)\u001b[0m \u001b[0;32mfor\u001b[0m \u001b[0marticle_feature\u001b[0m \u001b[0;32min\u001b[0m \u001b[0mtqdm\u001b[0m\u001b[0;34m(\u001b[0m\u001b[0marticle_features\u001b[0m\u001b[0;34m)\u001b[0m\u001b[0;34m]\u001b[0m\u001b[0;34m\u001b[0m\u001b[0;34m\u001b[0m\u001b[0m\n\u001b[0m",
      "\u001b[0;32m~/.local/lib/python3.7/site-packages/sklearn/linear_model/_logistic.py\u001b[0m in \u001b[0;36mpredict_proba\u001b[0;34m(self, X)\u001b[0m\n\u001b[1;32m   1651\u001b[0m             \u001b[0;32mreturn\u001b[0m \u001b[0msuper\u001b[0m\u001b[0;34m(\u001b[0m\u001b[0;34m)\u001b[0m\u001b[0;34m.\u001b[0m\u001b[0m_predict_proba_lr\u001b[0m\u001b[0;34m(\u001b[0m\u001b[0mX\u001b[0m\u001b[0;34m)\u001b[0m\u001b[0;34m\u001b[0m\u001b[0;34m\u001b[0m\u001b[0m\n\u001b[1;32m   1652\u001b[0m         \u001b[0;32melse\u001b[0m\u001b[0;34m:\u001b[0m\u001b[0;34m\u001b[0m\u001b[0;34m\u001b[0m\u001b[0m\n\u001b[0;32m-> 1653\u001b[0;31m             \u001b[0mdecision\u001b[0m \u001b[0;34m=\u001b[0m \u001b[0mself\u001b[0m\u001b[0;34m.\u001b[0m\u001b[0mdecision_function\u001b[0m\u001b[0;34m(\u001b[0m\u001b[0mX\u001b[0m\u001b[0;34m)\u001b[0m\u001b[0;34m\u001b[0m\u001b[0;34m\u001b[0m\u001b[0m\n\u001b[0m\u001b[1;32m   1654\u001b[0m             \u001b[0;32mif\u001b[0m \u001b[0mdecision\u001b[0m\u001b[0;34m.\u001b[0m\u001b[0mndim\u001b[0m \u001b[0;34m==\u001b[0m \u001b[0;36m1\u001b[0m\u001b[0;34m:\u001b[0m\u001b[0;34m\u001b[0m\u001b[0;34m\u001b[0m\u001b[0m\n\u001b[1;32m   1655\u001b[0m                 \u001b[0;31m# Workaround for multi_class=\"multinomial\" and binary outcomes\u001b[0m\u001b[0;34m\u001b[0m\u001b[0;34m\u001b[0m\u001b[0;34m\u001b[0m\u001b[0m\n",
      "\u001b[0;32m~/.local/lib/python3.7/site-packages/sklearn/linear_model/_base.py\u001b[0m in \u001b[0;36mdecision_function\u001b[0;34m(self, X)\u001b[0m\n\u001b[1;32m    266\u001b[0m         \u001b[0mcheck_is_fitted\u001b[0m\u001b[0;34m(\u001b[0m\u001b[0mself\u001b[0m\u001b[0;34m)\u001b[0m\u001b[0;34m\u001b[0m\u001b[0;34m\u001b[0m\u001b[0m\n\u001b[1;32m    267\u001b[0m \u001b[0;34m\u001b[0m\u001b[0m\n\u001b[0;32m--> 268\u001b[0;31m         \u001b[0mX\u001b[0m \u001b[0;34m=\u001b[0m \u001b[0mcheck_array\u001b[0m\u001b[0;34m(\u001b[0m\u001b[0mX\u001b[0m\u001b[0;34m,\u001b[0m \u001b[0maccept_sparse\u001b[0m\u001b[0;34m=\u001b[0m\u001b[0;34m'csr'\u001b[0m\u001b[0;34m)\u001b[0m\u001b[0;34m\u001b[0m\u001b[0;34m\u001b[0m\u001b[0m\n\u001b[0m\u001b[1;32m    269\u001b[0m \u001b[0;34m\u001b[0m\u001b[0m\n\u001b[1;32m    270\u001b[0m         \u001b[0mn_features\u001b[0m \u001b[0;34m=\u001b[0m \u001b[0mself\u001b[0m\u001b[0;34m.\u001b[0m\u001b[0mcoef_\u001b[0m\u001b[0;34m.\u001b[0m\u001b[0mshape\u001b[0m\u001b[0;34m[\u001b[0m\u001b[0;36m1\u001b[0m\u001b[0;34m]\u001b[0m\u001b[0;34m\u001b[0m\u001b[0;34m\u001b[0m\u001b[0m\n",
      "\u001b[0;32m~/.local/lib/python3.7/site-packages/sklearn/utils/validation.py\u001b[0m in \u001b[0;36mcheck_array\u001b[0;34m(array, accept_sparse, accept_large_sparse, dtype, order, copy, force_all_finite, ensure_2d, allow_nd, ensure_min_samples, ensure_min_features, warn_on_dtype, estimator)\u001b[0m\n\u001b[1;32m    554\u001b[0m                     \u001b[0;34m\"Reshape your data either using array.reshape(-1, 1) if \"\u001b[0m\u001b[0;34m\u001b[0m\u001b[0;34m\u001b[0m\u001b[0m\n\u001b[1;32m    555\u001b[0m                     \u001b[0;34m\"your data has a single feature or array.reshape(1, -1) \"\u001b[0m\u001b[0;34m\u001b[0m\u001b[0;34m\u001b[0m\u001b[0m\n\u001b[0;32m--> 556\u001b[0;31m                     \"if it contains a single sample.\".format(array))\n\u001b[0m\u001b[1;32m    557\u001b[0m \u001b[0;34m\u001b[0m\u001b[0m\n\u001b[1;32m    558\u001b[0m         \u001b[0;31m# in the future np.flexible dtypes will be handled like object dtypes\u001b[0m\u001b[0;34m\u001b[0m\u001b[0;34m\u001b[0m\u001b[0;34m\u001b[0m\u001b[0m\n",
      "\u001b[0;31mValueError\u001b[0m: Expected 2D array, got 1D array instead:\narray=[0. 0. 0. ... 0. 0. 0.].\nReshape your data either using array.reshape(-1, 1) if your data has a single feature or array.reshape(1, -1) if it contains a single sample."
     ]
    }
   ],
   "source": [
    "print(\"Extracting features over entire dataset\")\n",
    "article_features = [vectorizer.transform([article]) for article in tqdm(raw_articles)]\n",
    "print(\"Calculating scores over entire dataset\")\n",
    "article_scores = [clf.predict_proba(article_feature.toarray() for article_feature in tqdm(article_features)]"
   ]
  },
  {
   "cell_type": "code",
   "execution_count": 33,
   "metadata": {},
   "outputs": [
    {
     "data": {
      "application/vnd.jupyter.widget-view+json": {
       "model_id": "a039c2bcaf024baaabc97a6c75bf66eb",
       "version_major": 2,
       "version_minor": 0
      },
      "text/plain": [
       "HBox(children=(FloatProgress(value=0.0, max=58677.0), HTML(value='')))"
      ]
     },
     "metadata": {},
     "output_type": "display_data"
    },
    {
     "name": "stdout",
     "output_type": "stream",
     "text": [
      "\n"
     ]
    },
    {
     "data": {
      "application/vnd.jupyter.widget-view+json": {
       "model_id": "3d1e9404633346bc92e9a11a8bacecb8",
       "version_major": 2,
       "version_minor": 0
      },
      "text/plain": [
       "HBox(children=(FloatProgress(value=0.0, max=58677.0), HTML(value='')))"
      ]
     },
     "metadata": {},
     "output_type": "display_data"
    },
    {
     "name": "stdout",
     "output_type": "stream",
     "text": [
      "\n"
     ]
    }
   ],
   "source": [
    "article_scores = [clf.predict_proba(article_feature.toarray()) for article_feature in tqdm(article_features)]\n",
    "article_preds = [clf.predict(article_feature.toarray()) for article_feature in tqdm(article_features)]\n",
    "clf"
   ]
  },
  {
   "cell_type": "code",
   "execution_count": 44,
   "metadata": {},
   "outputs": [
    {
     "data": {
      "text/plain": [
       "[(array([[0.08042558, 0.12288941, 0.07210743, 0.61334017, 0.11123742]]),\n",
       "  'Good morning.\\n\\nWe\\'re covering preparation in China for its 70th National Day celebrations against a backdrop of fierce protests in Hong Kong. We\\'ve also got the latest on the Trump impeachment inquiry, and a close look at a video game starring a bothersome goose.\\n\\nPrepping for a parade in China. More protests in Hong Kong.\\n\\nBeijing is preparing for the 70th anniversary celebration tomorrow of the Communist Party\\'s rule. President Xi Jinping is expected to give a speech today and will likely use the opportunity to project the strength and endurance of the party.\\n\\nBut the pomp and pageantry come while tensions are growing both inside and outside the mainland. There\\'s the debilitating trade war with the U.S., a swine fever epidemic and months of protests in Hong Kong against Chinese rule.\\n\\nIn Hong Kong over the weekend, scenes of tear gas, fires and clashes between riot police and protesters offered a jarring counternarrative to the Communist Party that threatens to overshadow Beijing\\'s elaborate celebrations on Tuesday.\\n\\nThe latest: Sunday\\'s unrest was the most violent since Hong Kong\\'s protest movement began in June. Protesters set fires at intersections and tossed Molotov cocktails at the police, who hit back with tear gas, rubber bullets and water cannons.\\n\\nGo deeper: At the heart of the turmoil in Hong Kong is an identity crisis. For many, being a loyal resident of the semiautonomous city and being Chinese have become mutually exclusive.\\n\\nFurther scrutiny of Trump\\'s interactions with Ukraine\\n\\nPresident Trump and his personal lawyer, Rudolph Giuliani, have been operating what amounts to a shadow foreign policy in Ukraine, our reporters have found.\\n\\nThe aim? To gather and disseminate political dirt from a foreign country for Mr. Trump\\'s personal benefit. The overlap between this effort and the president\\'s official foreign policy toward Ukraine is at the center of an impeachment inquiry.\\n\\nTimeline: Mr. Trump sought proof that the election meddling in 2016 was not from Russia but from Ukraine. The chain of events picked up speed starting in January, when Mr. Giuliani met with Ukraine\\'s top prosecutor in New York to push him to investigate Mr. Trump\\'s rivals, including former Vice President Joe Biden.\\n\\nWhat\\'s next? House Democrats\\' first subpoena, issued Friday, gives Secretary of State Mike Pompeo one week to produce documents related to the inquiry. And Mr. Trump\\'s special envoy for Ukraine, who resigned last week, is expected to be interviewed by House leaders on Friday.\\n\\nFollow along: We\\'re starting a newsletter that will focus on all the twists and turns of the impeachment inquiry. Sign up here.\\n\\nAn explosion in images of child sexual abuse\\n\\nA warning: This is about one of the darkest corners of the internet. It\\'s grim and contains graphic descriptions.\\n\\nThere has been a boom in the online trading and sharing of images and videos of children -- some just 3 or 4 years old, some even younger -- being raped and tortured.\\n\\nLast year, tech companies flagged a record 45 million illegal images, exposing a response system at a breaking point, an investigation by The New York Times found. And the images show increasingly heinous forms of abuse.\\n\\nThe problem is firmly rooted in the U.S. because of the role Silicon Valley plays in both the spread and detection of the material. Here are more takeaways from the investigation.\\n\\nHow we know: The Times reviewed over 10,000 pages of police and court documents; conducted software tests to assess the availability of the imagery through search engines; accompanied detectives on raids; and spoke with investigators, lawmakers, tech executives and government officials.\\n\\nThe reporting also included conversations with an admitted pedophile who concealed his identity, and who runs a site that has hosted as many as 17,000 such images.\\n\\nIf you have six minutes, this is worth itHas Hollywood reached a turning point?\\n\\n\"Abominable\" is a rare breed in the movie world: a big-studio animated movie with Chinese characters voiced by Asian-Americans. The last time that happened, writes our reporter Brian X. Chen, was more than 20 years ago with Disney\\'s \"Mulan.\"\\n\\nWith this movie, alongside \"Crazy Rich Asians\" and \"The Farewell,\" it might seem like Asian-American representation in Hollywood is reaching a watershed moment, he writes, but real change might take time.\\n\\nHere\\'s what else is happening\\n\\nIndia: In recent decades, the country has built embankments near its border that, during monsoon season, have blocked swollen rivers from emptying south. This has left its northern neighbor Nepal to deal with two or three times more flooding, according to local officials.\\n\\nBritain: An American businesswoman who received tens of thousands of pounds of government money when Prime Minister Boris Johnson was mayor of London admitted to friends that she was having a sexual affair with him, according to The Sunday Times of London. The revelations intensify the scandal hanging over Mr. Johnson as he faces a hostile Parliament over Brexit.\\n\\nApple: Three movies that the company acquired this year will be released in theaters in the U.S. over the next few months, thrusting the technology giant into the movie business. We\\'re told the effort will expand in 2020, when Apple plans to produce its own films.\\n\\nSpaceX: Elon Musk suggested over the weekend that Starship, his space company\\'s largest rocket yet, intended to send people to Mars, could \"reach orbit in less than six months.\"\\n\\nSnapshot: Above, Pope Francis at the unveiling of a new monument to migration on Sunday in St. Peter\\'s Square, Vatican City. \"Angels Unaware,\" by the Canadian artist Timothy Schmalz, depicts 140 migrants and refugees from various historical periods, including indigenous people, the Virgin Mary and Joseph, and Jews fleeing Nazi Germany.\\n\\nWorld food tour: Our Australia critic Besha Rodell spent four months traveling across the globe to discover 30 of the best restaurants for two food and travel magazines. As fun as the job sounds, \"this was a very hard few months,\" she writes, noting that she clocked more than 100,000 miles and spent almost 300 hours on airplanes.\\n\\nUntitled Goose Game: A video game developed by a Melbourne-based studio, which involves a goose bothering the residents of a nice English village, has become an unexpected hit. \"People really take to this idea of a horrible goose,\" said one of the game\\'s creators.\\n\\nWhat we\\'re looking at: Environmental drawings by the Barcelona-based street artist Pejac, collected by the national magazine of the Sierra Club. \"These are stunning,\" tweeted our climate reporter Kendra Pierre-Louis.\\n\\nNow, a break from the news\\n\\nCook: An easy and delicious chicken schnitzel with pan-roasted grapes would go nicely with a salad tonight.\\n\\nRead: Zadie Smith\\'s \"Grand Union: Stories\" is on our list of 18 books to watch for in October.\\n\\nGo: The south coast of New South Wales -- from the dairy town of Berry just two hours south of Sydney, to a historic whaling center near the Victoria state border -- is a destination not just for gorgeous scenery, but also for culinary excellence.\\n\\nSmarter Living: Optimism is associated with many positive physical outcomes and greater professional and social success. A new review of scientific studies concludes that looking on the bright side may also reduce the risk of cardiovascular disease and early death. Optimists are likelier to exercise and eat better, according to the review\\'s main author, but their outlook may also have direct biological effects in the form of \"less inflammation and fewer metabolic abnormalities.\"\\n\\nAnd some scientists think eating insects may be the key to a sustainable food future.\\n\\nAnd now for the Back Story on ...Cars and rockets\\n\\nElon Musk isn\\'t the first auto executive to turn his attention to rockets.\\n\\nIn 1928, Fritz von Opel ran publicity for the pioneering Opel German car company, founded by his grandfather.\\n\\nHe liked speed, and began experimenting with solid rocket fuel in automobiles. His first \"rocket car\" hit an astounding 62 miles an hour (99.7 kilometers an hour), and his second broke through 140 m.p.h. (225 k.p.h.), both feats performed in front of cheering fans and journalists.\\n\\nHe also created a rocket motorcycle and a rocket railway car, before turning his attention to airplanes.\\n\\nNinety years ago today, he became the first person to fly a rocket plane. His low-altitude flight of 1.25 miles in 75 seconds ended in a fiery crash. Unhurt, he focused on his triumph.\\n\\n\"I myself can scarcely grasp my joy!\" he wrote in a first-person account for The New York Times.\\n\\nBut the next month\\'s stock market crash set off the Great Depression, bringing Fritz Opel and his car company back to earth -- and back to focusing on gasoline-powered cars.\\n\\nThat\\'s it for this briefing. See you next time.\\n\\n-- Alisha\\n\\nThank you\\n\\nTo Mark Josephson and Eleanor Stanford for the break from the news. Victoria Shannon wrote today\\'s Back Story. You can reach the team at briefing@nytimes.com.\\n\\nP.S.\\n\\n* We\\'re listening to \"The Daily.\" Our latest episode is about the whistle-blower\\'s complaint.\\n\\n* In \"The Daily\" team\\'s second episode for kids, meet a 9-year-old who learned to face her fears. (The first kids\\' episode follows twin 10-year-old girls as one joins the Boy Scouts.)\\n\\n* Here\\'s our Mini Crossword, and a clue: Nada (5 letters). You can find all our puzzles here.'),\n",
       " (array([[0.10310152, 0.06657664, 0.08758929, 0.61328605, 0.12944651]]),\n",
       "  'Good morning.\\n\\nWe\\'re covering the escalating clash between President Trump and Congress, growing concerns of a global economic slowdown and an isle of women.\\n\\nTrump impeachment inquiry intensifies\\n\\nHouse leaders threatened to subpoena the White House if it did not comply by Friday with requests for documents tied to the Ukraine matter.\\n\\nSpeaker Nancy Pelosi and Representative Adam Schiff warned that any attempt to stonewall the House\\'s request or intimidate witnesses would be construed as obstruction worthy of impeachment itself.\\n\\nPresident Trump responded with a series of angry outbursts. In the Oval Office, next to a visibly uncomfortable president of Finland, he declared angrily that Democrats were \"guilty as hell\" of corrupting the 2016 election, that former Vice President Joe Biden was \"corrupt\" and \"less smart now than he ever was,\" and that a C.I.A. whistle-blower was \"a spy, in my opinion.\"\\n\\nWhat\\'s next? The State Department\\'s inspector general, Steven Linick, has just emerged from briefing lawmakers behind closed doors about urgent material he signaled could be relevant to the Ukraine investigation. We\\'re following the latest in our live briefing.\\n\\nFrom The Times: We\\'ve started an email newsletter with the latest developments in the impeachment inquiry. Sign up here.\\n\\nInvestors\\' worry over economy deepens\\n\\nGlobal stocks slid again on Wednesday as investors fretted over slowing global growth.\\n\\nThe S&P 500 lost 3 percent over two days, shattering a relatively calm period for Wall Street, with industrial companies, automakers and technology companies hit particularly hard. Wednesday\\'s selling followed a sharp drop in Europe, where London\\'s FTSE 100 fell more than 3 percent.\\n\\nThe sell-off began in New York on Tuesday, after news that U.S. manufacturing had contracted in September and the World Trade Organization slashed its global trade outlook.\\n\\nAdding to concerns: The W.T.O. on Wednesday granted the U.S. permission to impose tariffs on as much as $7.5 billion European products as part of a long-running complaint over European subsidies for the plane maker Airbus. The ruling could escalate the Trump administration\\'s strained trade relations with Europe.\\n\\nIt doesn\\'t stop there: Chinese consumers, whose big spending has fueled global growth for years, aren\\'t spending so big anymore -- and that could have repercussions around the world.\\n\\nIf you have 7 minutes, this is worth itShe stands out. And that\\'s the point.\\n\\nSibeth Ndiaye is the first black spokeswoman to represent a French president. Unlike many of her colleagues, she didn\\'t attend elite French universities. And she wears a bright mix of colors to work, in jarring contrast to the sea of sober suits she is surrounded by.\\n\\nIn a country where clothing is deeply embedded in the national identity, Ms. Ndiaye\\'s relaxed fashion choices have become a lightning rod for discussions around race, gender and body shape in France. \"The way I dress is almost a political statement,\" she told The Times.\\n\\nHere\\'s what else is happening\\n\\nBoeing: A senior engineer filed an internal complaint this year saying that the company had rejected a safety system for the 737 Max jet to minimize costs. The engineer said he believed it might have reduced risks that contributed to two fatal crashes.\\n\\nHong Kong: The shooting of an 18-year-old, Tsang Chi-kin, during protests this week has divided the tense city, symbolizing the excesses of both the police force and the increasingly violent protesters.\\n\\nSouth Korea: A 56-year-old man confessed to raping and murdering 14 women more than two decades ago, the police said, in the nation\\'s most infamous serial killing.\\n\\nin STYLN_email_trump-0_control_STYLN_email_trump\\n\\nNorth Korea: The country launched a short-range missile that for the first time in two years splashed down in Japanese waters, reinforcing the threat the North poses for its neighbors while negotiations with the U.S. languish.\\n\\nSaudi Arabia: A year after Saudi agents killed and dismembered the dissident writer Jamal Khashoggi in Istanbul, Prince Mohammed bin Salman -- the kingdom\\'s de facto leader -- is struggling to restore his image.\\n\\nSnapshot: Above, Virve Koster, 91, one of the inhabitants of the Estonian island of Kihnu, which has an overwhelmingly female population that has adapted to living without men.\\n\\n\"Lady Chatterley\\'s Lover\": Bristol University announced this week that it had acquired the judge\\'s copy of the racy 1928 D.H. Lawrence novel that was at the center of a landmark obscenity trial in 1960. The move follows a crowdfunding campaign and other efforts to keep the book in Britain after it was auctioned last year to a private buyer in the U.S.\\n\\nWhat we\\'re reading: This Instagram account dedicated to round and roly-poly animals. \"Just because, \" writes our Briefings teammate Remy Tumin.\\n\\nNow, a break from the news\\n\\nCook: Polenta with mushrooms in a soy-butter sauce is meatless but hearty.\\n\\nListen: Our pop music critic Jon Pareles says there\\'s \"something old-fashioned, almost Broadway-ish,\" about Zedd and Kehlani\\'s song \"Good Thing.\"\\n\\nGo: From its immersive airport art to its hyper-engineered skyline, Singapore offers a sci-fi vision for the present day.\\n\\nSmarter Living: There are simple ways to be a more conscious consumer, whether by reducing your carbon footprint or buying from ethical sources. A few tips: Look for companies that have B Corp certification, which means they were vetted for social and environmental responsibility. And shopping secondhand is a simple way to avoid creating more waste.\\n\\nIt\\'s a golden age for price alerts, which let you know about bargains on (mostly international) flights. Here are a few recommended services.\\n\\nAnd now for the Back Story on ...The march of history\\n\\nToday, Germany commemorates the reunification of East and West, a fusion that took place 29 years ago amid the collapse of Soviet communism and the end of the Cold War.\\n\\nThe political upheaval of the late 1980s was so profound that one policy analyst, Francis Fukuyama, theorized that it was \"the end of history\" -- his shorthand for the idea that the Western system of liberal democracy had triumphed around the world and would be \"the final form of human government.\"\\n\\nIt was a catchy meme, but it didn\\'t quite work out that way.\\n\\nEven after the Soviet Union was dissolved in 1991, Chinese communism remained intact, and the decades since then have witnessed plenty of dictators, ultranationalism, and government-sponsored and independent terrorism.\\n\\nIn other words, history kept on going.\\n\\nThat\\'s it for this briefing. See you next time.\\n\\n-- Alisha\\n\\nThank you\\n\\nTo Mark Josephson and Eleanor Stanford for the break from the news. Victoria Shannon wrote today\\'s Back Story. You can reach the team at briefing@nytimes.com.\\n\\nP.S.\\n\\n* We\\'re listening to \"The Daily.\" Our latest episode is about the anniversary celebration in China and the protests in Hong Kong.\\n\\n* Here\\'s our Mini Crossword, and a clue: Mary Oliver and Maya Angelou (five letters). You can find all our puzzles here.\\n\\n* Jason Stallman, an executive producer of The Times\\'s TV program \"The Weekly,\" talked about how the series is produced.'),\n",
       " (array([[0.10247474, 0.04363291, 0.08167327, 0.61261576, 0.15960331]]),\n",
       "  'Australia fires, Oyo, Martin Scorsese: Here\\'s what you need to know.\\n\\nGood morning.\\n\\nWe\\'re covering accusations of abuse by the Indian police, the months leading up to Carlos Ghosn\\'s daring escape and what Martin Scorsese is thinking about at 77.\\n\\nIndia\\'s police are accused of abusing Muslims\\n\\nAs the Indian authorities struggle to contain huge nationwide protests over a contentious new citizenship law, accounts are emerging of abuse meted out by police officers.\\n\\nIn Uttar Pradesh, the northern Indian state with the most Muslim residents, the rioting and the violent police backlash have been the most intense. Indian news media have reported that police officers were encouraged by their superiors to kill protesters engaged in violence.\\n\\nAt least 19 people have been killed in the state during the protests, more than anywhere else in India. Police and state officials have denied using excessive force or singling out Muslims.\\n\\nDetails: According to interviews with more than three dozen people in several towns, police officers broke into houses, stole money and threatened to rape women.\\n\\nA group of minors in the town of Nagina said they were beaten in a makeshift jail with wooden canes for protesting. Some had obvious signs of deep bruising. Two said the officers were laughing, saying, \"You will die in this prison.\"\\n\\nContext: Many Indians fear that the new law, which offers an easy path to citizenship to migrants from every major South Asian faith but Islam, is blatantly discriminatory toward Muslims.\\n\\nQuotable: \"How do you justify detaining minors, let alone beating them black and blue?\" asked one municipal officer in Nagina.\\n\\nAustralians are warned: Fires will worsen\\n\\nTens of thousands of people were forced to evacuate their homes on Thursday, after the authorities warned that the massive fires headed their way might be the worst yet in an already catastrophic season.\\n\\nFleeing motorists formed long lines at gas stations in the southeastern part of New South Wales, after the state declared a state of emergency.\\n\\nPrime Minister Scott Morrison, who has repeatedly refused to talk about climate change\\'s role in the fires, was heckled by angry residents who cursed and insulted him as he visited Cobargo, in New South Wales.\\n\\nQuotable: \"It\\'s going to be a blast furnace\" in the coming days, Andrew Constance, the transport minister of New South Wales, told The Sydney Morning Herald. He said the relocation of people was the region\\'s largest.\\n\\nToll: Eight people have died in the past week alone, and the fires have burned down more than 1,000 houses and killed countless wild animals in recent months. In the Victorian town of Mallacoota, where 4,000 people are stranded after fires cut off escape routes, a slow rescue effort by boat will begin this morning.\\n\\nIs Oyo a ticking time bomb?\\n\\nThe SoftBank-backed start-up that offers budget hotel rooms has become one of India\\'s most valuable private companies -- but its rise was, at least in part, built on practices that raise questions about the health of its business.\\n\\nWorkers told our reporters that Oyo gave freebies to the police to avoid trouble over illegal rooms, imposed hidden fees, padded listings and even withheld payments. Its employees, under intense pressure to add new rooms to the service, brought hotels online that lacked electricity and water heaters.\\n\\nSome believe that Oyo\\'s unstable foundation makes it a bubble waiting to burst.\\n\\nImpact: The company expects to lose money at least through 2021, according to government filings. If Oyo falls apart, it could blight the country\\'s start-up landscape as a whole, home to other multibillion-dollar companies like the ride-hailing firm Ola and the digital payments provider Paytm. It would be another black eye for SoftBank, after WeWork and Instacart.\\n\\nHow we know: We combed through financial filings and court documents and talked to 20 current and former employees, as well as others familiar with Oyo\\'s operations.\\n\\nHow Carlos Ghosn escaped\\n\\nThe escape of the fallen former chairman of Nissan and Renault has all the elements of a Hollywood-style thriller.\\n\\nWhen Mr. Ghosn skipped bail in Japan late Sunday, a plane was waiting to whisk him away to Turkey, and another to take him on to Lebanon. There were multiple passports, rumors of shadowy forces at work and people in power denying they knew anything about it.\\n\\nOur reporters paint a picture of what might have been going through his mind before he fled, blindsiding the lawyers defending him in a drawn-out criminal case on charges of financial wrongdoing.\\n\\nThe latest: Lebanon received an Interpol arrest warrant for Mr. Ghosn, Tokyo prosecutors raided his home and a French official said Mr. Ghosn, who holds French, Brazilian and Lebanese passports, would not be extradited if he traveled to France.\\n\\nTurkey began an investigation into his escape via Istanbul, questioning seven people, including four pilots.\\n\\nReminder: Mr. Ghosn is accused of underreporting his compensation, shifting personal financial losses to Nissan and using funds from Renault to organize parties at the Palace of Versailles.\\n\\nIf you have 20 minutes, this is worth itMartin Scorsese lets go\\n\\nThe 77-year-old director had a topic in mind when he sat down with our reporter: death. What motivates Mr. Scorsese now, he said, is not fear of it but acceptance that it happens to everyone. Mortality, a recurring theme in his childhood, is important in his latest film, \"The Irishman.\"\\n\\n\"As they say in my movie, \\'It\\'s what it is,\\'\" he said. \"You\\'ve got to embrace it.\"\\n\\nHere\\'s what else is happening\\n\\nTaiwan: Eight people, including the chief of the armed forces, were killed when the military helicopter carrying them crashed on a mountainside, officials said.\\n\\nIndonesia: Flash floods killed at least 30 people and left tens of thousands homeless in flood-prone Jakarta, after the capital\\'s most intense rainfall in decades.\\n\\nTurkey: President Recep Tayyip Erdogan is preparing to send troops to Libya, just months after a military incursion into Syria. Analysts see the country as increasingly confident in its role as a regional power.\\n\\nIsrael: The Supreme Court refused to weigh in on whether a prime ministerial candidate charged with serious crimes can be asked to form a new government, removing an obstacle for Benjamin Netanyahu ahead of a general election on March 2.\\n\\nSnapshot: Above, a frozen waterfall in the Kashmiri town of Tangmarg. A record-breaking cold wave has taken hold in the region, where centralized heating is rare and residents were unprepared. Schools have been closed and pollution is intensifying.\\n\\nWhat we\\'re reading: This essay in The New Yorker on the highs and lows of raising a toddler. \"Love this so much,\" says Emma G. Fitzsimmons, our new City Hall bureau chief. \"We need more writing on parenting by fathers. It shouldn\\'t be viewed as (more) women\\'s work.\"\\n\\nNow, a break from the news\\n\\nCook: Take the time this weekend to make perfect pancakes with crisp, fritter-like edges.\\n\\nListen: This week\\'s Popcast asks The Times\\'s critics: If you could change your best album lists from the past decade, would you?\\n\\nRead: Two books by the Polish fantasy writer Andrzej Sapkowski, whose work is the basis of the Netflix series \"The Witcher,\" debut on our monthly audio fiction best-seller list.\\n\\nSmarter Living: Tired of going to the gym (or berating yourself for not)? Here are five cheap(ish) things to bring the gym to you.\\n\\nAnd now for the Back Story on ...What your phone will do next\\n\\nThe New York Times has been reporting on how your smartphone can cost you privacy.\\n\\nMost recently, our Opinion desk published One Nation, Tracked, an investigation into the location data industry that shows how companies quietly collect and profit off the precise movements of smartphone users.\\n\\nBut there\\'s a new vulnerability coming.\\n\\nApple is including a new chip in its iPhone 11s that will enable ultra wideband wireless communication with other phones and smart devices. More phone makers, like Samsung, appear ready to launch their own UWB. (UWB chips are already in N.F.L. players\\' shoulder pads, to gather metrics and inform computer animated replays.)\\n\\nThe new short-range technology could bring a host of conveniences: unlocking your car or front door as you approach and relocking when you exit, speeding phone-to-phone transfers and the like. All faster than Bluetooth.\\n\\nBut it could also make your location trackable even more precisely. In stores, retailers could \"see\" where you paused in their aisles, possibly keeping track of not only what you bought, but what you may have considered.\\n\\nAnd if past experience is a guide, law enforcement could also draw on the data.\\n\\nThat\\'s it for this briefing. See you next time.\\n\\n-- Melina\\n\\nThank you\\n\\nTo Mark Josephson and Eleanor Stanford for the break from the news. Andrea Kannapell, the Briefings editor, wrote today\\'s Back Story. You can reach the team at briefing@nytimes.com.\\n\\nP.S.\\n\\n* We\\'re listening to \"The Daily.\" Our latest episode revisits an interview with President Trump that included the publisher of The Times, A.G. Sulzberger.\\n\\n* Here\\'s our Mini Crossword, and a clue: Half of 2020 (four letters). You can find all our puzzles here.\\n\\n* Each day, our editors collect some of the most interesting or delightful facts to appear in that day\\'s coverage. Here are 79 favorites from last year.'),\n",
       " (array([[0.06700017, 0.08016145, 0.1413946 , 0.61194845, 0.09949533]]),\n",
       "  'Good morning.\\n\\nWe\\'re covering the second day of Turkey\\'s offensive in northern Syria, the German gunman\\'s manifesto and the boon koalas offer to science.\\n\\nTurkey escalates assault across Syrian border\\n\\nShells and rockets landed in several Turkish border towns on Thursday, killing four civilians, one of them an infant, and wounding 70, on the second day of Turkey\\'s air and ground offensive against a U.S.-allied, Kurdish-led militia.\\n\\nAt least 23 Kurds were reported to have been killed, a monitoring group said.\\n\\nU.S. military and national security officials say that by allowing the attack on the Kurdish fighters, who did the heavy lifting in the fight against the Islamic State, the U.S. risks repeating a scenario that helped pave the way for the Iraq war.\\n\\nISIS: The American military is working to remove as many as several dozen Islamic State detainees from Kurdish-run prisons in Syria. The U.S. already has in custody two British men who tortured and killed Western hostages.\\n\\nFact check: President Trump, under sharp bipartisan criticism, defended his decision to allow the Turkish offensive by saying that the Kurds had fought with the U.S. only out of self-interest, adding, \"as somebody wrote in a very, very powerful article today, they didn\\'t help us in the Second World War.\" However, there is evidence that some Kurds fought for the Allies.\\n\\nU.S. arrests add new twists to Ukraine case\\n\\nU.S. law enforcement officials have arrested two Ukrainian-born American businessmen named in the whistle-blower account that set off the House impeachment inquiry against President Trump.\\n\\nThe web is complext. The two were accused of engaging in a scheme to funnel foreign money to candidates for federal and state office. The indictment also connected them to an effort to remove Marie Yovanovitch from her post as U.S. ambassador to Ukraine.\\n\\nThey had also played a part in the pressure campaign on Ukraine to investigate Democrats, helping arrange for the president\\'s personal lawyer Rudy Giuliani to make connections to Ukrainian politicians.\\n\\nScene: The men were arrested at Dulles International Airport near Washington, with one-way tickets out of the country, the U.S. attorney in Manhattan said. Hours earlier, a Wall Street Journal reporter spotted them eating lunch with Mr. Giuliani at the Trump International Hotel in Washington.\\n\\nUkraine: At a marathon news conference at a food court in Kiev, President Volodymyr Zelensky said that Mr. Trump had not sought to blackmail him over military aid in their July phone call, the focus of the whistle-blower complaint.\\n\\nFree-speech tensions shadow U.S.-China trade talks\\n\\nAn N.B.A. game in Shanghai went on as scheduled Thursday night, and patriotic vitriol on Chinese social media began to subside.\\n\\nBut Beijing officials have put growing pressure on the American basketball league to apologize for a Houston Rockets executive\\'s tweet of support for pro-democracy protests in Hong Kong. The N.B.A., citing free speech, has said the executive won\\'t be punished.\\n\\nThe frictions could play into the 13th round of trade talks that began in Washington on Thursday. While a limited agreement appears possible, the White House has also weighed options for escalation, including the possibility of disrupting the flow of capital between Hong Kong and mainland China if it determines that Hong Kong\\'s autonomy is not being respected.\\n\\nU.S. options: The ideas the White House is considering, according to people familiar with the discussions, would move its negotiating tool of choice beyond tariffs toward limiting China\\'s access to American capital markets and imposing greater scrutiny on its companies. Closer ties with Taiwan are also being studied.\\n\\nRelated: After intense criticism from China, Apple took down HKmap.live, which let protesters in Hong Kong track the police.\\n\\nA hate-filled screed from attacker in Germany\\n\\nA locked door saved the synagogue.\\n\\nOnly that kept the gunman who killed two people in the eastern city of Halle on Wednesday from getting inside, where, according to a manifesto he published online, he hoped to kill as many Jews as possible.\\n\\nThe police have identified the suspect they arrested as a German citizen, but the manifesto was written in English. \"He wanted to have a worldwide effect,\" said Peter Frank, Germany\\'s federal prosecutor.\\n\\nShared online: The gunman\\'s head-mounted camera streamed the attack to Twitch, an Amazon-owned video platform that has struggled to police its content. Twitch apologized and said that only five people had watched the shooting live. About 2,200 people viewed a recording before it was removed.\\n\\nIf you have six minutes, this is worth itRobotic help for gymnastic judges\\n\\nGymnastics officials are making artificial intelligence technology available to judges at this week\\'s world championships in Stuttgart, Germany. The robot judges made by Fujitsu, each about the size and shape of a Wi-Fi router, use three-dimensional laser sensors to track the gymnasts\\' movements in displays like the one above.\\n\\nBaseball is already experimenting with robot umpires, and tennis is starting to expand electronic line-calling. For now, humans have the final say.\\n\\nHere\\'s what else is happening\\n\\nNobels in literature: The Austrian writer Peter Handke won this year\\'s prize, setting off a controversy because of his friendship with Slobodan Milosevic, who as president of Yugoslavia was widely seen as the driving force behind the Balkan wars of the 1990s. The Polish author Olga Tokarczuk won the postponed 2018 prize. The peace prize will be announced today.\\n\\nBrexit: Britain\\'s faltering negotiations with the European Union got a lifeline from an unexpectedly upbeat meeting on Thursday between Prime Minister Boris Johnson of Britain and Prime Minister Leo Varadkar of Ireland. Both said they could see \"a pathway to a possible deal\" to handle issues over Northern Ireland.\\n\\nTyphoon Hagibis: The organizers of the Rugby World Cup canceled two matches as Japan scrambled to prepare for the storm, which is expected to make landfall over the weekend.\\n\\nKoalas: Researchers studying why the marsupials are plagued by certain diseases have found them to be star subjects for research in how viruses can insert themselves into an animal\\'s DNA -- and sometimes change the course of evolution.\\n\\nSnapshot: Above, spectators at a World Cup soccer qualifier at Azadi stadium in Tehran. For the first time in almost four decades, women were allowed to attend a match in Iran.\\n\\nElon Musk: The administrator of NASA is meeting the SpaceX chief at the company\\'s headquarters in California, weeks after the two exchanged tense words on Twitter and in the news media. They\\'ll be taking questions from reporters at 5 p.m. Eastern (8 a.m. Sydney) on a live stream.\\n\\nWhat we\\'re reading: This Wired article. \"Why the PG&E Blackouts Spared California\\'s Big Tech HQs,\" writes Adam Pasick, on the Briefings team. \"The reasons are fascinating.\"\\n\\nNow, a break from the news\\n\\nCook: For weekend comfort cooking, try baked, gooey macaroni and cheese.\\n\\nRead: Raina Telgemeier\\'s \"Guts\" is a No. 1 debut on our newly created graphic books and manga best-seller list.\\n\\nWatch: When it was released 20 years ago, \"Boys Don\\'t Cry\" was the first mainstream film to focus on a transgender man. It has been reframed by a new generation of trans activists who reject much of what it stood for in 1999.\\n\\nSmarter Living: Our Climate Fwd: newsletter collected advice for parents on helping kids through anxiety about climate change. Dr. Lise Van Susteren, a founder of the Climate Psychiatry Alliance, suggests listening to their fears, but then pivoting to solutions. You can describe people and organizations working to help and discuss steps you\\'ve taken as a family or as individuals to reduce your carbon footprints.\\n\\nPlus: A new review of studies suggest that people who own dogs live longer.\\n\\nAnd now for the Back Story on ...\\'Wag the Dog\\'\\n\\nSince the White House abruptly announced it would allow Turkish forces to begin taking part of northeastern Syria, the phrase \"wag the dog\" has been bandied about.\\n\\nFor instance, Meghan McCain, co-host of the ABC talk show \"The View\" and former Senator John McCain\\'s daughter, characterized the disruption in U.S. policy as a \"wag the dog situation.\"\\n\\nThe phrase comes from a longer saying: \"the tail wagging the dog,\" which dates to the 1870s, according to Dictionary.com, and \"indicates a backwards situation where a small or unimportant entity (the tail) controls a bigger, more important one (the dog).\"\\n\\n\"Wag the dog\" has also come to mean deflecting attention from one problem by creating a new one. That was sense of Ms. McCain\\'s accusation: that the Turkey decision was meant to redirect the public\\'s focus from the impeachment investigation.\\n\\nFiction got there long ago. In the 1997 movie \"Wag the Dog,\" a spin doctor working for a scandal-plagued U.S. president fakes a war with Albania.\\n\\nThanks for reading. If you value the Morning Briefing, please consider supporting our work: Subscribe to The New York Times today.\\n\\nSee you next time.\\n\\n-- Andrea\\n\\nThank you\\n\\nChris Stanford helped compile this briefing. Mark Josephson and Eleanor Stanford wrote the break from the news. Claire Moses, a London-based home page editor, wrote today\\'s Back Story. You can reach the team at briefing@nytimes.com.\\n\\nP.S.\\n\\n* We\\'re listening to \"The Daily.\" Our latest episode is about Republicans\\' strategy in the impeachment inquiry.\\n\\n* Here\\'s our Mini Crossword, and a clue: Habitat explored by a scuba diver (four letters). You can find all our puzzles here.\\n\\n* J. Kenji López-Alt, who writes a monthly food column for The Times, explained how he uses the scientific method to write recipes.'),\n",
       " (array([[0.11940109, 0.04689218, 0.08444832, 0.61175876, 0.13749965]]),\n",
       "  '(Want to get this briefing by email? Here\\'s the sign-up.)\\n\\nGood morning. Negotiations to start in France, a temporary truce in the U.S.-China trade war and the death of George Bush.\\n\\nHere\\'s the latest:\\n\\n* Turmoil continues in France.\\n\\nThe French government is considering declaring a state of emergency after a third week of violent protests against increased gasoline taxes. The demonstrations have left three people dead and hundreds more wounded. Politicians and law enforcement officials said the situation was close to an \"insurrection.\"\\n\\nOn Monday, the government will meet with representatives of the \"Yellow Vests\" protest movement and with the leaders of the opposition political parties. While the government has not signaled any intention to roll back the gas tax increase, some Yellow Vests have indicated they are ready to negotiate.\\n\\nDeep frustration: The anger fueling the protests in Paris has its roots in the poor rural regions of France, our Paris correspondent reports.\\n\\n_____\\n\\n* A trade war truce, at least in the short term.\\n\\nOver steaks at the Group of 20 meeting in Argentina this weekend, President Trump and President Xi Jinping of China, pictured above, agreed on compromises that will pause their escalating economic conflict.\\n\\nMr. Trump agreed to hold off on a major increase in tariffs on Chinese goods planned for Jan. 1. Mr. Xi agreed to increase Chinese purchases of American goods.\\n\\nBut the handshake deal was \"less a breakthrough than a breakdown averted,\" our White House correspondent writes. The two world leaders set an ambitious 90-day timeline to reach broader trade agreements, but they remain deeply divided.\\n\\nChina also didn\\'t give any specifics for its side of the deal, and state media quickly framed the agreement as a concession from the American president, leaving out any mention of the deadline.\\n\\nMore from the summit: Mr. Trump dodged unsavory friends, smiled through chilly encounters and was chased by legal troubles at home.\\n\\n_____\\n\\n* Remembering George Bush.\\n\\n\"I love you, too.\" Those were the last words of the 41st U.S. president, above, and they were directed at the 43rd, his son.\\n\\nAn era ended with the death of Mr. Bush, 94, on Friday. A Republican, he was the last president to have fought in World War II. He served in Congress, the U.N. and the C.I.A. before winning the White House. Though he lasted only a single term, he was a transitional figure who helped steer the country out of the Cold War.\\n\\nMr. Bush will lie in state at the U.S. Capitol until Wednesday. Friends and family will gather for a memorial service on Wednesday, which Mr. Trump has designated as a national day of mourning. Mr. Bush will then be laid to rest in Texas.\\n\\nMr. Bush\\'s death has quieted a raucous political system, but the peace is unlikely to last, writes our chief White House correspondent.\\n\\nRead our full obituary and this remembrance by Maureen Dowd, the longtime White House correspondent, who portrays her improbable friendship with Mr. Bush as \"a screwball story.\"\\n\\n_____\\n\\n* Getting rich off detained migrant children.\\n\\nAs the founder and chief executive of Southwest Key, a nonprofit that houses more migrant children than any other organization in the United States, Juan Sanchez has made millions and is indispensable to the Trump administration\\'s immigration policy.\\n\\nBut a New York Times investigation, drawing on dozens of interviews and an examination of documents, has found a record of sloppy management and possible financial improprieties including possible self-dealing with top executives.\\n\\nBusiness\\n\\n* The global economy is slowing: Oil prices are falling, many nations are mired in stagnation or heading that way and companies are warning of disappointing profits. Our European economics correspondent thinks the mix could intensify the grievances that have contributed to the rise of populism around the world. Above, a factory in China.\\n\\n* Carlos Ghosn, the head of the Renault-Nissan alliance, remains in detention in Tokyo. On Friday, a court gave prosecutors 10 more days to assess allegations of financial misconduct.\\n\\n* The stolen personal data of 500 million Marriott guests has not shown up on the dark web, cyber experts say, suggesting the hacking was by a state actor for espionage purposes. Here\\'s how to double down on your digital security.\\n\\n* Two of the world\\'s biggest airports -- in Istanbul and Beijing -- point toward a vastly expanded future of travel, when facial recognition and other technologies will help manage growing numbers of travelers.\\n\\n* Coming this week: Google\\'s chief executive, Sundar Pichai, will testify at a congressional hearing in Washington, and the oil-producing nations of OPEC will meet in Vienna.\\n\\n* Here\\'s a snapshot of global markets.\\n\\nIn the News\\n\\n* More than two dozen journalists worldwide have been killed by members of organized crime since the beginning of 2017, according to a new report by Reporters without Borders. Mexico has borne the brunt of the killings. [The New York Times]\\n\\n* Delegates from nearly 200 nations have begun two weeks of high-stakes climate talks in Katowice, in the heart of Poland\\'s coal region. [Reuters]\\n\\n* In Britain, calls for a new referendum on Brexit are growing. [BBC]\\n\\n* A North Korean soldier defected to South Korea by crossing the countries\\' heavily armed border; defectors usually flee via China. [The New York Times]\\n\\n* The Israeli police recommended that Prime Minister Benjamin Netanyahu be indicted on bribery and fraud charges, dealing another blow to his teetering government coalition. [The New York Times]\\n\\n* In New York, three taxi owners and five other professional drivers have killed themselves over the past year, drawing attention to the economic despair in the industry. [The New York Times]\\n\\n* A Saudi dissident based in Canada has filed a lawsuit claiming that the Saudi government, using an Israeli software company, planted spyware on his phone to eavesdrop on his communications with Jamal Khashoggi. [The New York Times]\\n\\n* An Egyptian actress is facing criminal charges for having worn a lacy, revealing dress at a film festival in Cairo last week. A trial has been set for January; if convicted, she could face a five-year jail term. [The New York Times]\\n\\n* NASA\\'s Osiris-Rex spacecraft arrives at the asteroid Bennu on Monday after a two-year journey. Here is our interactive explainer of the mission. We will be updating with live coverage later today.\\n\\nSmarter Living\\n\\nTips for a more fulfilling life.\\n\\n* Recipe of the day: Serve a comforting stew of spiced chickpeas crisped in olive oil, then simmered in a garlicky coconut milk.\\n\\n* Got food allergies? Make traveling less strenuous.\\n\\n* Organizing a holiday party can be a hassle. Spare everyone the endless phone notifications and try these methods.\\n\\nNoteworthy\\n\\n* Albert Einstein, in a brief handwritten missive to a German philosopher in 1954, dismisses the word \"God\" as \"the expression of and product of human weakness.\" Nicknamed the \"God letter,\" the document is expected to fetch up to $1.5 million at auction this week.\\n\\n* In the #MeToo era, our chief film critic re-examines what movies have taught her about being a woman. \"Movies get into our bodies, making us howl and weep, while their narrative and visual patterns, their ideas and ideologies leave their imprint,\" she writes.\\n\\n* Insects are abundant yet inconspicuous and hard to meaningfully track, so the fear that they are disappearing has been more felt than documented. But a handful of determined investigators have found that they are indeed diminishing. What would become of a world without them?\\n\\nBack Story\\n\\nThe actor Priyanka Chopra and the singer Nick Jonas tied the knot this weekend in the northern Indian city of Jodhpur (where your Back Story writer was born).\\n\\nAmong the many dazzling details of the closely watched wedding was the venue: the Umaid Bhawan Palace, pictured above.\\n\\nNamed after one of Jodhpur\\'s kings, Maharajah Umaid Singh, the grandiose sandstone structure took 15 years to build between 1929 and 1943. Peacocks strut around its surrounding manicured gardens. Intricately carved pillars hold up its giant, jaw-dropping dome.\\n\\nBut perhaps most remarkable is its noble origin story. It is said that the palace was built as a mass relief program employing thousands of local people when the city was hit by a crippling drought.\\n\\nAfter the Indian government de-recognized India\\'s royal families in 1971, the palace was split into three parts: the royal residence where Mr. Singh\\'s grandson now lives, a luxury hotel and a museum.\\n\\nAlisha Haridasani Gupta, who writes the Asian and Australian edition of the briefing, wrote today\\'s Back Story.\\n\\n_____\\n\\nYour Morning Briefing is published weekday mornings and updated online.\\n\\nCheck out this page to find a Morning Briefing for your region. (In addition to our European edition, we have Australian, Asian and U.S. editions.)\\n\\nSign up here to receive an Evening Briefing on U.S. weeknights, and here\\'s our full range of free newsletters.\\n\\nWhat would you like to see here? Contact us at europebriefing@nytimes.com.')]"
      ]
     },
     "execution_count": 44,
     "metadata": {},
     "output_type": "execute_result"
    }
   ],
   "source": [
    "# Come up with a thresholding scheme\n",
    "# Remove weak candidates\n",
    "# Label the remaining articles\n",
    "# Check stats (Protests, KWs, etc..)\n",
    "highest_NA = sorted(list(zip(article_scores, raw_articles)), key=lambda x : x[0][0][-2], reverse=True)\n",
    "highest_NA[95:100]"
   ]
  },
  {
   "cell_type": "code",
   "execution_count": 40,
   "metadata": {},
   "outputs": [
    {
     "data": {
      "text/plain": [
       "array(['France', 'Hong Kong', 'Iran', 'NA', 'Venezuela'], dtype='<U9')"
      ]
     },
     "execution_count": 40,
     "metadata": {},
     "output_type": "execute_result"
    }
   ],
   "source": [
    "list(zip(article_scores, raw_articles))[0][-1]\n",
    "clf.classes_"
   ]
  },
  {
   "cell_type": "code",
   "execution_count": 50,
   "metadata": {},
   "outputs": [
    {
     "data": {
      "text/plain": [
       "Counter({'Hong Kong': 4102,\n",
       "         'NA': 44077,\n",
       "         'France': 1873,\n",
       "         'Venezuela': 5611,\n",
       "         'Iran': 3014})"
      ]
     },
     "execution_count": 50,
     "metadata": {},
     "output_type": "execute_result"
    }
   ],
   "source": [
    "from collections import Counter\n",
    "\n",
    "Counter([pred[0] for pred in article_preds])"
   ]
  },
  {
   "cell_type": "code",
   "execution_count": 51,
   "metadata": {},
   "outputs": [
    {
     "data": {
      "text/plain": [
       "14600"
      ]
     },
     "execution_count": 51,
     "metadata": {},
     "output_type": "execute_result"
    }
   ],
   "source": [
    "retained_articles = [article for pred,article in zip(article_preds, raw_articles) if pred != 'NA']\n",
    "len(retained_articles)"
   ]
  },
  {
   "cell_type": "code",
   "execution_count": null,
   "metadata": {},
   "outputs": [],
   "source": [
    "# Look at the articles subjectively"
   ]
  }
 ],
 "metadata": {
  "kernelspec": {
   "display_name": "Python 3",
   "language": "python",
   "name": "python3"
  },
  "language_info": {
   "codemirror_mode": {
    "name": "ipython",
    "version": 3
   },
   "file_extension": ".py",
   "mimetype": "text/x-python",
   "name": "python",
   "nbconvert_exporter": "python",
   "pygments_lexer": "ipython3",
   "version": "3.7.6"
  }
 },
 "nbformat": 4,
 "nbformat_minor": 4
}
